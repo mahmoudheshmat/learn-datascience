{
 "cells": [
  {
   "cell_type": "code",
   "execution_count": 1,
   "metadata": {},
   "outputs": [],
   "source": [
    "import numpy as np\n",
    "import pandas as pd\n",
    "import matplotlib.pyplot as plt\n",
    "%matplotlib inline"
   ]
  },
  {
   "cell_type": "markdown",
   "metadata": {},
   "source": [
    "generate 6 random distributions in NumPy from: \n",
    "https://docs.scipy.org/doc/numpy/reference/routines.random.html#distributions\n",
    "\n",
    "For each distribution:\n",
    "1. data points = 100\n",
    "    Using the code distributionvar = np.random.distributionname([arguments], 100)\n",
    "       - Replacing distributionvar with an appropriate variable name and distributionname with the name of the distribution selected\n",
    "2. Graph the variable using a histogram\n",
    "3. Compute mean and std deviation\n",
    "    - plot them as vertical lines on the histogram\n",
    "4. Evaluate whether descriptive stats provided useful info about the variable\n",
    "    - Any common characteristics of the distributions that could be usefully described using mean and/or std dev versus ones that could not?\n"
   ]
  },
  {
   "cell_type": "code",
   "execution_count": 7,
   "metadata": {},
   "outputs": [
    {
     "name": "stdout",
     "output_type": "stream",
     "text": [
      "1.92\n",
      "1.4810806865258892\n"
     ]
    }
   ],
   "source": [
    "# rdist1\n",
    "rdist1_mean = geometric_dist.mean()\n",
    "print(rdist1_mean)\n",
    "rdist1_std = geometric_dist.std()\n",
    "print(rdist1_std)"
   ]
  },
  {
   "cell_type": "code",
   "execution_count": 8,
   "metadata": {},
   "outputs": [
    {
     "data": {
      "image/png": "[encoded data removed]",
      "text/plain": [
       "<Figure size 432x288 with 1 Axes>"
      ]
     },
     "metadata": {},
     "output_type": "display_data"
    }
   ],
   "source": [
    "# plot rdist 1 (random distribution 1)\n",
    "geometric_dist = np.random.geometric(0.5, 100)\n",
    "\n",
    "plt.hist(geometric_dist)\n",
    "\n",
    "# add vertical line for mean\n",
    "plt.axvline(rdist1_mean, color='black')\n",
    "\n",
    "# add vertical line at +1 std\n",
    "plt.axvline(rdist1_mean + rdist1_std, color='red')\n",
    "\n",
    "# add vertical line at -1 std\n",
    "plt.axvline(rdist1_mean - rdist1_std, color='red')\n",
    "\n",
    "# print histogram\n",
    "plt.show()"
   ]
  },
  {
   "cell_type": "code",
   "execution_count": 9,
   "metadata": {},
   "outputs": [
    {
     "data": {
      "image/png": "[encoded data removed]",
      "text/plain": [
       "<Figure size 432x288 with 1 Axes>"
      ]
     },
     "metadata": {},
     "output_type": "display_data"
    }
   ],
   "source": [
    "# random dist 2\n",
    "binomial_dist = np.random.binomial(20, 0.5, 100)\n",
    "\n",
    "# plot histogram\n",
    "plt.hist(binomial_dist)\n",
    "\n",
    "# add vertical line at mean\n",
    "plt.axvline(binomial_dist.mean(), color='black')\n",
    "\n",
    "# add vertical line at +1 std\n",
    "plt.axvline(binomial_dist.mean() + binomial_dist.std(), color='red')\n",
    "\n",
    "# add vertical line at -2 std\n",
    "plt.axvline(binomial_dist.mean() - binomial_dist.std(), color='red')\n",
    "\n",
    "plt.show()"
   ]
  },
  {
   "cell_type": "code",
   "execution_count": 10,
   "metadata": {},
   "outputs": [
    {
     "name": "stdout",
     "output_type": "stream",
     "text": [
      "10.02\n",
      "2.1493254755853055\n"
     ]
    }
   ],
   "source": [
    "# rdist2\n",
    "rdist2_mean = binomial_dist.mean()\n",
    "print(rdist2_mean)\n",
    "rdist2_std = binomial_dist.std()\n",
    "print(rdist2_std)"
   ]
  },
  {
   "cell_type": "code",
   "execution_count": 11,
   "metadata": {},
   "outputs": [
    {
     "data": {
      "image/png": "[encoded data removed]",
      "text/plain": [
       "<Figure size 432x288 with 1 Axes>"
      ]
     },
     "metadata": {},
     "output_type": "display_data"
    }
   ],
   "source": [
    "# random dist 3\n",
    "poisson_dist = np.random.poisson(1, 100)\n",
    "\n",
    "# plot graph\n",
    "plt.hist(poisson_dist)\n",
    "\n",
    "# add vertical line at mean\n",
    "plt.axvline(poisson_dist.mean(), color='black')\n",
    "\n",
    "# add vertical line at +1 std\n",
    "plt.axvline(poisson_dist.mean() + poisson_dist.std(), color='red')\n",
    "\n",
    "# add vertical line at -1 std\n",
    "plt.axvline(poisson_dist.mean() - poisson_dist.std(), color='red')\n",
    "\n",
    "plt.show()"
   ]
  },
  {
   "cell_type": "code",
   "execution_count": 12,
   "metadata": {},
   "outputs": [
    {
     "name": "stdout",
     "output_type": "stream",
     "text": [
      "1.09\n",
      "1.1410083259994206\n"
     ]
    }
   ],
   "source": [
    "# rdist3\n",
    "rdist3_mean = poisson_dist.mean()\n",
    "print(rdist3_mean)\n",
    "rdist3_std = poisson_dist.std()\n",
    "print(rdist3_std)"
   ]
  },
  {
   "cell_type": "code",
   "execution_count": 13,
   "metadata": {},
   "outputs": [
    {
     "data": {
      "image/png": "[encoded data removed]",
      "text/plain": [
       "<Figure size 432x288 with 1 Axes>"
      ]
     },
     "metadata": {},
     "output_type": "display_data"
    }
   ],
   "source": [
    "# random dist 4\n",
    "multinomial_dist = np.random.multinomial(30, [0.5]*2, 100)\n",
    "\n",
    "# plot graph\n",
    "plt.hist(multinomial_dist)\n",
    "\n",
    "# plot vertical line at mean\n",
    "plt.axvline(multinomial_dist.mean(), color='black')\n",
    "\n",
    "# plot vertical line at +1 std\n",
    "plt.axvline(multinomial_dist.mean() + multinomial_dist.std(), color='red')\n",
    "\n",
    "# plot vertical line at -1 std\n",
    "plt.axvline(multinomial_dist.mean() - multinomial_dist.std(), color='red')\n",
    "\n",
    "plt.show()"
   ]
  },
  {
   "cell_type": "code",
   "execution_count": 14,
   "metadata": {},
   "outputs": [
    {
     "name": "stdout",
     "output_type": "stream",
     "text": [
      "15.0\n",
      "2.4041630560342617\n"
     ]
    }
   ],
   "source": [
    "# rdist4\n",
    "rdist4_mean = multinomial_dist.mean()\n",
    "print(rdist4_mean)\n",
    "rdist4_std = multinomial_dist.std()\n",
    "print(rdist4_std)"
   ]
  },
  {
   "cell_type": "code",
   "execution_count": 15,
   "metadata": {},
   "outputs": [
    {
     "data": {
      "image/png": "[encoded data removed]",
      "text/plain": [
       "<Figure size 432x288 with 1 Axes>"
      ]
     },
     "metadata": {},
     "output_type": "display_data"
    }
   ],
   "source": [
    "# random dist 5\n",
    "power_dist = np.random.power(4, 100)\n",
    "\n",
    "# plot graph\n",
    "plt.hist(power_dist)\n",
    "\n",
    "# plot vertical line at mean\n",
    "plt.axvline(power_dist.mean(), color='black')\n",
    "\n",
    "# plot vertical line at +1 and -1 std\n",
    "plt.axvline(power_dist.mean() + power_dist.std(), color='red')\n",
    "plt.axvline(power_dist.mean() - power_dist.std(), color='red')\n",
    "\n",
    "plt.show()"
   ]
  },
  {
   "cell_type": "code",
   "execution_count": 16,
   "metadata": {},
   "outputs": [
    {
     "name": "stdout",
     "output_type": "stream",
     "text": [
      "0.7742274404944878\n",
      "0.1717247617102712\n"
     ]
    }
   ],
   "source": [
    "# rdist5\n",
    "rdist5_mean = power_dist.mean()\n",
    "print(rdist5_mean)\n",
    "rdist5_std = power_dist.std()\n",
    "print(rdist5_std)"
   ]
  },
  {
   "cell_type": "code",
   "execution_count": 17,
   "metadata": {},
   "outputs": [
    {
     "data": {
      "image/png": "[encoded data removed]",
      "text/plain": [
       "<Figure size 432x288 with 1 Axes>"
      ]
     },
     "metadata": {},
     "output_type": "display_data"
    }
   ],
   "source": [
    "# random dist 6\n",
    "standard_cauchy_dist = np.random.standard_cauchy(100)\n",
    "\n",
    "plt.hist(standard_cauchy_dist)\n",
    "\n",
    "plt.axvline(standard_cauchy_dist.mean(), color='black')\n",
    "\n",
    "plt.axvline(standard_cauchy_dist.mean() + standard_cauchy_dist.std(), color='red')\n",
    "plt.axvline(standard_cauchy_dist.mean() - standard_cauchy_dist.std(), color='red')\n",
    "\n",
    "plt.show()"
   ]
  },
  {
   "cell_type": "code",
   "execution_count": 18,
   "metadata": {},
   "outputs": [
    {
     "name": "stdout",
     "output_type": "stream",
     "text": [
      "7.672139680287844\n",
      "74.8502800299009\n"
     ]
    }
   ],
   "source": [
    "# rdist6\n",
    "rdist6_mean = standard_cauchy_dist.mean()\n",
    "print(rdist6_mean)\n",
    "rdist6_std = standard_cauchy_dist.std()\n",
    "print(rdist6_std)"
   ]
  },
  {
   "cell_type": "markdown",
   "metadata": {},
   "source": [
    "-----\n",
    "For all 6 of these plots, descriptive statistics is not the most accurate nor useful way to describe the data because they are not normal distributions. The mean does not fall at the center of the data, and the standard deviation is not good at describing the variance. For example, the geometric distribution (rdist1) tails off to the right, but it would not be apparent from the standard deviation that some data falls to the far right (outside of the first standard deviation), but not the far left (there are no data points outside of the left first standard deviation)\n",
    "\n",
    "-----"
   ]
  },
  {
   "cell_type": "markdown",
   "metadata": {},
   "source": [
    "In addition:\n",
    "1. Generate 2 normally distributed variables, one with mean = 5 and std = 0.5, the other with mean=10, std=1\n",
    "2. Add together to create a third variable\n",
    "3. Graph the 3rd variable using a histogram\n",
    "4. Compute mean and std and plot as vertical lines on histogram\n",
    "5. Evaluate descriptive statistics against the data"
   ]
  },
  {
   "cell_type": "code",
   "execution_count": 60,
   "metadata": {},
   "outputs": [],
   "source": [
    "normal1 = np.random.normal(5, 0.5, 100)\n",
    "normal2 = np.random.normal(10, 1, 100)"
   ]
  },
  {
   "cell_type": "code",
   "execution_count": 61,
   "metadata": {},
   "outputs": [],
   "source": [
    "normal3 = normal1 + normal2"
   ]
  },
  {
   "cell_type": "code",
   "execution_count": 67,
   "metadata": {},
   "outputs": [
    {
     "data": {
      "image/png": "[encoded data removed]",
      "text/plain": [
       "<Figure size 432x288 with 1 Axes>"
      ]
     },
     "metadata": {},
     "output_type": "display_data"
    }
   ],
   "source": [
    "plt.hist(normal3)\n",
    "\n",
    "plt.axvline(normal3.mean(), color='black')\n",
    "\n",
    "plt.axvline(normal3.mean() + normal3.std(), color='red')\n",
    "plt.axvline(normal3.mean() - normal3.std(), color='red')\n",
    "plt.show()"
   ]
  },
  {
   "cell_type": "code",
   "execution_count": 65,
   "metadata": {},
   "outputs": [
    {
     "name": "stdout",
     "output_type": "stream",
     "text": [
      "14.901122072119579\n"
     ]
    },
    {
     "data": {
      "text/plain": [
       "1.1688722875001403"
      ]
     },
     "execution_count": 65,
     "metadata": {},
     "output_type": "execute_result"
    }
   ],
   "source": [
    "print(normal3.mean())\n",
    "(normal3.std())"
   ]
  },
  {
   "cell_type": "code",
   "execution_count": 77,
   "metadata": {},
   "outputs": [
    {
     "data": {
      "text/plain": [
       "14.913109451874833"
      ]
     },
     "execution_count": 77,
     "metadata": {},
     "output_type": "execute_result"
    }
   ],
   "source": [
    "normal3[49]"
   ]
  },
  {
   "cell_type": "markdown",
   "metadata": {},
   "source": [
    "Though this graph is not a perfect bell shaped curve, it appears to be normally distributed. The mean is roughly at the center of the data point distribution (it's equal to the median). "
   ]
  }
 ],
 "metadata": {
  "kernelspec": {
   "display_name": "Python 3",
   "language": "python",
   "name": "python3"
  },
  "language_info": {
   "codemirror_mode": {
    "name": "ipython",
    "version": 3
   },
   "file_extension": ".py",
   "mimetype": "text/x-python",
   "name": "python",
   "nbconvert_exporter": "python",
   "pygments_lexer": "ipython3",
   "version": "3.6.5"
  }
 },
 "nbformat": 4,
 "nbformat_minor": 2
}
