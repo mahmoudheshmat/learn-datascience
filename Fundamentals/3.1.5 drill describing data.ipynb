{
 "cells": [
  {
   "cell_type": "markdown",
   "metadata": {},
   "source": [
    "\n",
    "\n",
    "\n",
    "Greg (14), Marcia (12), Peter (11), Jan (10), Bobby (8), Cindy (6), Oliver (8)\n"
   ]
  },
  {
   "cell_type": "code",
   "execution_count": 1,
   "metadata": {},
   "outputs": [],
   "source": [
    "import pandas as pd\n",
    "import numpy as np"
   ]
  },
  {
   "cell_type": "markdown",
   "metadata": {},
   "source": [
    "# 1.\n",
    "\n",
    "##### Greg was 14, Marcia was 12, Peter was 11, Jan was 10, Bobby was 8, and Cindy was 6 when they started playing the Brady kids on The Brady Bunch. Cousin Oliver was 8 years old when he joined the show. What are the mean, median, and mode of the kids' ages when they first appeared on the show? What are the variance, standard deviation, and standard error?"
   ]
  },
  {
   "cell_type": "code",
   "execution_count": 3,
   "metadata": {},
   "outputs": [
    {
     "data": {
      "text/plain": [
       "[6, 8, 8, 10, 11, 12, 14]"
      ]
     },
     "execution_count": 3,
     "metadata": {},
     "output_type": "execute_result"
    }
   ],
   "source": [
    "brady_ages = sorted([14, 12, 11, 10, 8, 6, 8])\n",
    "brady_ages"
   ]
  },
  {
   "cell_type": "code",
   "execution_count": 4,
   "metadata": {},
   "outputs": [
    {
     "data": {
      "text/plain": [
       "9.857142857142858"
      ]
     },
     "execution_count": 4,
     "metadata": {},
     "output_type": "execute_result"
    }
   ],
   "source": [
    "# mean\n",
    "np.mean(brady_ages)"
   ]
  },
  {
   "cell_type": "code",
   "execution_count": 5,
   "metadata": {},
   "outputs": [
    {
     "data": {
      "text/plain": [
       "10.0"
      ]
     },
     "execution_count": 5,
     "metadata": {},
     "output_type": "execute_result"
    }
   ],
   "source": [
    "# median\n",
    "np.median(brady_ages)"
   ]
  },
  {
   "cell_type": "markdown",
   "metadata": {},
   "source": [
    "mode\n",
    "- NumPy does not have an equivalent function for mode. Can do a for loop if desired to programmatically find the mode, but small enough sample size\n",
    "\n",
    "\n",
    "\n",
    "mode = 8"
   ]
  },
  {
   "cell_type": "code",
   "execution_count": 6,
   "metadata": {},
   "outputs": [
    {
     "data": {
      "text/plain": [
       "6.408163265306122"
      ]
     },
     "execution_count": 6,
     "metadata": {},
     "output_type": "execute_result"
    }
   ],
   "source": [
    "# variance\n",
    "np.var(brady_ages)"
   ]
  },
  {
   "cell_type": "code",
   "execution_count": 8,
   "metadata": {},
   "outputs": [
    {
     "data": {
      "text/plain": [
       "2.531435020952764"
      ]
     },
     "execution_count": 8,
     "metadata": {},
     "output_type": "execute_result"
    }
   ],
   "source": [
    "# standard deviation\n",
    "np.std(brady_ages)"
   ]
  },
  {
   "cell_type": "code",
   "execution_count": 9,
   "metadata": {},
   "outputs": [
    {
     "data": {
      "text/plain": [
       "1.0334540197243192"
      ]
     },
     "execution_count": 9,
     "metadata": {},
     "output_type": "execute_result"
    }
   ],
   "source": [
    "# standard error\n",
    "# quantifies uncertainty in the estimate of the sample mean\n",
    "np.std(brady_ages, ddof=1) / np.sqrt(len(brady_ages))"
   ]
  },
  {
   "cell_type": "markdown",
   "metadata": {},
   "source": [
    "# 2\n",
    "\n",
    "##### Using these estimates, if you had to choose only one estimate of central tendency and one estimate of variance to describe the data, which would you pick and why?\n"
   ]
  },
  {
   "cell_type": "markdown",
   "metadata": {},
   "source": [
    "I would use the mean, because it's the best way to account for every childs ages, as opposed to the median that just picks the middle number, or the mode that shows the most frequently appearing age. I would also use standard deviation as the estimate of variance; it's the most commonly used - thus, the reader is more likely to be familiar with and conceptualize it better."
   ]
  },
  {
   "cell_type": "markdown",
   "metadata": {},
   "source": [
    "# 3 \n",
    "##### Next, Cindy has a birthday. Update your estimates- what changed, and what didn't?"
   ]
  },
  {
   "cell_type": "code",
   "execution_count": 11,
   "metadata": {},
   "outputs": [
    {
     "name": "stdout",
     "output_type": "stream",
     "text": [
      "10.0\n",
      "10.0\n",
      "mode is still 8\n",
      "5.428571428571429\n",
      "2.32992949004287\n",
      "0.9511897312113418\n"
     ]
    }
   ],
   "source": [
    "brady_ages_new = [14, 12, 11, 10, 8, 7, 8]\n",
    "print(np.mean(brady_ages_new))\n",
    "print(np.median(brady_ages_new))\n",
    "print(\"mode is still 8\")\n",
    "print(np.var(brady_ages_new))\n",
    "print(np.std(brady_ages_new))\n",
    "print(np.std(brady_ages_new, ddof=1) / np.sqrt(len(brady_ages)))"
   ]
  },
  {
   "cell_type": "markdown",
   "metadata": {},
   "source": [
    "Rounding up the mean, the central tendencies are all the same. The variance changed from 6.4 to 5.4. The standard deviation changed from 2.5 to 2.3, and the standard error also decreased from 1.0 to 0.95."
   ]
  },
  {
   "cell_type": "markdown",
   "metadata": {},
   "source": [
    "# 4\n",
    "##### Nobody likes Cousin Oliver. Maybe the network should have used an even younger actor. Replace Cousin Oliver with 1-year-old Jessica, then recalculate again. Does this change your choice of central tendency or variance estimation methods?"
   ]
  },
  {
   "cell_type": "code",
   "execution_count": 13,
   "metadata": {},
   "outputs": [
    {
     "name": "stdout",
     "output_type": "stream",
     "text": [
      "9.0\n",
      "10.0\n",
      "there is no mode\n",
      "15.428571428571429\n",
      "3.927922024247863\n",
      "1.6035674514745462\n"
     ]
    }
   ],
   "source": [
    "brady_ages_jessica = brady_ages_new\n",
    "brady_ages_jessica[6] = 1\n",
    "print(np.mean(brady_ages_jessica))\n",
    "print(np.median(brady_ages_jessica))\n",
    "print(\"there is no mode\")\n",
    "print(np.var(brady_ages_jessica))\n",
    "print(np.std(brady_ages_jessica))\n",
    "print(np.std(brady_ages_jessica, ddof=1) / np.sqrt(len(brady_ages_jessica)))"
   ]
  },
  {
   "cell_type": "markdown",
   "metadata": {},
   "source": [
    "The numbers do change for mean and mode (there is no longer a mode as all values have equivalent frequency), as well as the estimates of variances. However, I would still argue for mean and standard deviation as the values of choice - though, I would be open to reconsidering using the median, since Jessica's age is much farther away from the mean than that of the oldest at 14.\n",
    "\n",
    "*** median is recommended because the mean and median diverge due to Jessica as outlier"
   ]
  },
  {
   "cell_type": "markdown",
   "metadata": {},
   "source": [
    "# 5\n",
    "##### On the 50th anniversary of The Brady Bunch, four different magazines asked their readers whether they were fans of the show. The answers were: TV Guide 20% fans Entertainment Weekly 23% fans Pop Culture Today 17% fans SciPhi Phanatic 5% fans\n",
    "\n",
    "##### Based on these numbers, what percentage of adult Americans would you estimate were Brady Bunch fans on the 50th anniversary of the show?"
   ]
  },
  {
   "cell_type": "markdown",
   "metadata": {},
   "source": [
    "I would estimate 20% of TV-watching American Adults were Brady Bunch fans. I decided to use the percentage of TV Guide, because it is not a genre-specific magazine like the others. Likely it will take a more accurate representation of the population, as opposed to something like SciPhi Phanatic that would have a niche following."
   ]
  },
  {
   "cell_type": "code",
   "execution_count": null,
   "metadata": {},
   "outputs": [],
   "source": []
  }
 ],
 "metadata": {
  "kernelspec": {
   "display_name": "Python 3",
   "language": "python",
   "name": "python3"
  },
  "language_info": {
   "codemirror_mode": {
    "name": "ipython",
    "version": 3
   },
   "file_extension": ".py",
   "mimetype": "text/x-python",
   "name": "python",
   "nbconvert_exporter": "python",
   "pygments_lexer": "ipython3",
   "version": "3.6.5"
  }
 },
 "nbformat": 4,
 "nbformat_minor": 2
}
