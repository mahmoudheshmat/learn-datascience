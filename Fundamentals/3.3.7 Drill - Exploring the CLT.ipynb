{
 "cells": [
  {
   "cell_type": "markdown",
   "metadata": {},
   "source": [
    "1. Reproduce pop1 and pop2 populations and samples using NumPy binomial fxn\n",
    "    - with n=10, size=10,000\n",
    "    - p value pop1=0.2, pop2=0.5\n",
    "2. Using sample size=100, calculate means and std dev of samples\n",
    "\n",
    "\n",
    "First, what do you expect to happen in below scenarios (prior to coding)?\n",
    "1. Increase the size of your samples from 100 to 1000, then calculate the means and standard deviations for your new samples and create histograms for each. Repeat this again, decreasing the size of your samples to 20. What values change, and what remain the same?\n",
    "    - I anticipate the means to stay relatively the same, though the standard deviations may become tighter as sample size increases, and become more susceptible to noise as the size decreases. The p value will decrease with the larger sample set\n",
    "\n",
    "2. Change the probability value (p in the NumPy documentation) for pop1 to 0.3, then take new samples and compute the t-statistic and p-value. Then change the probability value p for group 1 to 0.4, and do it again. What changes, and why?\n",
    "    - as the p value of pop1/group1 nears that of pop2/group2, the confidence that there are significant differences (p-value) will decrease as it will be harder to notice smaller changes\n",
    "\n",
    "3. Change the distribution of your populations from binomial to a distribution of your choice. Do the sample mean values still accurately represent the population values?\n",
    "    - No, a different distribution means the data points are going to be grouped/scattered/aligned in a different manner. Perhaps by chance the sample mean or standard deviation could be similar, but likely not both.\n",
    "\n",
    "\n",
    "Now compute:"
   ]
  },
  {
   "cell_type": "code",
   "execution_count": 1,
   "metadata": {},
   "outputs": [],
   "source": [
    "import numpy as np\n",
    "import pandas as pd\n",
    "import matplotlib.pyplot as plt\n",
    "from scipy.stats import ttest_ind\n",
    "%matplotlib inline"
   ]
  },
  {
   "cell_type": "code",
   "execution_count": 2,
   "metadata": {},
   "outputs": [
    {
     "data": {
      "image/png": "[encoded data removed]",
      "text/plain": [
       "<Figure size 432x288 with 1 Axes>"
      ]
     },
     "metadata": {},
     "output_type": "display_data"
    }
   ],
   "source": [
    "pop1 = np.random.binomial(10, 0.2, 10000)\n",
    "pop2 = np.random.binomial(10, 0.5, 10000)\n",
    "\n",
    "# make a histogram for the 2 groups\n",
    "plt.hist(pop1, alpha=0.5, label='Population 1')\n",
    "plt.hist(pop2, alpha=0.5, label='Population 2')\n",
    "plt.legend(loc='upper right')\n",
    "plt.show()"
   ]
  },
  {
   "cell_type": "code",
   "execution_count": 3,
   "metadata": {},
   "outputs": [],
   "source": [
    "# taking group samples\n",
    "group1 = np.random.choice(pop1, 100, replace=True)\n",
    "group2 = np.random.choice(pop2, 100, replace=True)"
   ]
  },
  {
   "cell_type": "code",
   "execution_count": 4,
   "metadata": {},
   "outputs": [
    {
     "name": "stdout",
     "output_type": "stream",
     "text": [
      "2.04\n",
      "5.19\n",
      "1.1993331480451959\n",
      "1.5980926130859876\n"
     ]
    }
   ],
   "source": [
    "# with a group sample size of 100\n",
    "print(group1.mean())\n",
    "print(group2.mean())\n",
    "print(group1.std())\n",
    "print(group2.std())"
   ]
  },
  {
   "cell_type": "code",
   "execution_count": 5,
   "metadata": {},
   "outputs": [
    {
     "data": {
      "image/png": "[encoded data removed]",
      "text/plain": [
       "<Figure size 432x288 with 1 Axes>"
      ]
     },
     "metadata": {},
     "output_type": "display_data"
    }
   ],
   "source": [
    "# make a histogram for the 2 groups\n",
    "plt.hist(group1, alpha=0.5, label='Group 1')\n",
    "plt.hist(group2, alpha=0.5, label='Group 2')\n",
    "plt.legend(loc='upper right')\n",
    "plt.show()"
   ]
  },
  {
   "cell_type": "code",
   "execution_count": 6,
   "metadata": {},
   "outputs": [
    {
     "name": "stdout",
     "output_type": "stream",
     "text": [
      "Ttest_indResult(statistic=15.686157333741921, pvalue=9.728627461459917e-36)\n"
     ]
    }
   ],
   "source": [
    "# t-statistic and pvalue for sample size = 100\n",
    "print(ttest_ind(group2, group1, equal_var=False))"
   ]
  },
  {
   "cell_type": "code",
   "execution_count": 7,
   "metadata": {},
   "outputs": [
    {
     "data": {
      "image/png": "[encoded data removed]",
      "text/plain": [
       "<Figure size 432x288 with 1 Axes>"
      ]
     },
     "metadata": {},
     "output_type": "display_data"
    }
   ],
   "source": [
    "plt.hist(group1, alpha=0.5, label='Group 1')\n",
    "plt.hist(group2, alpha=0.5, label='Group 2')\n",
    "plt.legend(loc='upper right')\n",
    "plt.show()"
   ]
  },
  {
   "cell_type": "markdown",
   "metadata": {},
   "source": [
    "Interestingly, group 2 mean is over 2x as large, despite relatively similar standard deviation\n",
    "\n",
    "The graph seems to take on a similar overall appearance as the population values, although with more gaps/spacing\n",
    "\n",
    "-----"
   ]
  },
  {
   "cell_type": "code",
   "execution_count": 8,
   "metadata": {},
   "outputs": [],
   "source": [
    "# increasing group samples\n",
    "group1 = np.random.choice(pop1, 1000, replace=True)\n",
    "group2 = np.random.choice(pop2, 1000, replace=True)"
   ]
  },
  {
   "cell_type": "code",
   "execution_count": 9,
   "metadata": {
    "scrolled": true
   },
   "outputs": [
    {
     "name": "stdout",
     "output_type": "stream",
     "text": [
      "2.004\n",
      "5.046\n",
      "1.2664848992388342\n",
      "1.541390281531579\n"
     ]
    }
   ],
   "source": [
    "# with a group sample size of 1000\n",
    "print(group1.mean())\n",
    "print(group2.mean())\n",
    "print(group1.std())\n",
    "print(group2.std())"
   ]
  },
  {
   "cell_type": "code",
   "execution_count": 10,
   "metadata": {},
   "outputs": [
    {
     "name": "stdout",
     "output_type": "stream",
     "text": [
      "Ttest_indResult(statistic=48.195625356681745, pvalue=0.0)\n"
     ]
    }
   ],
   "source": [
    "# t-statistic and pvalue for sample size = 1000\n",
    "print(ttest_ind(group2, group1, equal_var=False))"
   ]
  },
  {
   "cell_type": "code",
   "execution_count": 11,
   "metadata": {},
   "outputs": [
    {
     "data": {
      "image/png": "[encoded data removed]",
      "text/plain": [
       "<Figure size 432x288 with 1 Axes>"
      ]
     },
     "metadata": {},
     "output_type": "display_data"
    }
   ],
   "source": [
    "plt.hist(group1, alpha=0.5, label='Group 1')\n",
    "plt.hist(group2, alpha=0.5, label='Group 2')\n",
    "plt.legend(loc='upper right')\n",
    "plt.show()"
   ]
  },
  {
   "cell_type": "markdown",
   "metadata": {},
   "source": [
    "The difference in standard deviation has gotten even smaller, while that of the mean has increased. Above, the histogram takes on a similar overall appearance of the population plot, not minding the gaps\n",
    "\n",
    "------"
   ]
  },
  {
   "cell_type": "code",
   "execution_count": 12,
   "metadata": {},
   "outputs": [],
   "source": [
    "# decreasing group samples\n",
    "group1 = np.random.choice(pop1, 20, replace=True)\n",
    "group2 = np.random.choice(pop2, 20, replace=True)"
   ]
  },
  {
   "cell_type": "code",
   "execution_count": 13,
   "metadata": {},
   "outputs": [
    {
     "name": "stdout",
     "output_type": "stream",
     "text": [
      "2.25\n",
      "4.75\n",
      "1.3738631664034087\n",
      "1.6393596310755\n"
     ]
    }
   ],
   "source": [
    "# with a group sample size of 20\n",
    "print(group1.mean())\n",
    "print(group2.mean())\n",
    "print(group1.std())\n",
    "print(group2.std())"
   ]
  },
  {
   "cell_type": "code",
   "execution_count": 14,
   "metadata": {},
   "outputs": [
    {
     "data": {
      "image/png": "[encoded data removed]",
      "text/plain": [
       "<Figure size 432x288 with 1 Axes>"
      ]
     },
     "metadata": {},
     "output_type": "display_data"
    }
   ],
   "source": [
    "plt.hist(group1, alpha=0.5, label='Group 1')\n",
    "plt.hist(group2, alpha=0.5, label='Group 2')\n",
    "plt.legend(loc='upper right')\n",
    "plt.show()"
   ]
  },
  {
   "cell_type": "code",
   "execution_count": 15,
   "metadata": {},
   "outputs": [
    {
     "name": "stdout",
     "output_type": "stream",
     "text": [
      "Ttest_indResult(statistic=5.094731018709964, pvalue=1.061039961612266e-05)\n"
     ]
    }
   ],
   "source": [
    "# t-statistic and pvalue for sample size = 20\n",
    "print(ttest_ind(group2, group1, equal_var=False))"
   ]
  },
  {
   "cell_type": "markdown",
   "metadata": {},
   "source": [
    "It would be hard to roughly determine the true population histogram with a sample size of 20. The data has enough gaps in between that there is no clear shape of the data distribution. Despite how much I'd distrust this data, the pvalue is at nearly zero. I anticipated it'd be worse.\n",
    "\n",
    "-----"
   ]
  },
  {
   "cell_type": "code",
   "execution_count": 16,
   "metadata": {},
   "outputs": [
    {
     "name": "stdout",
     "output_type": "stream",
     "text": [
      "Ttest_indResult(statistic=9.996244354044709, pvalue=3.035794775459309e-19)\n"
     ]
    }
   ],
   "source": [
    "# change p of pop1 = 0.3, take new samples and compute t stat and p value\n",
    "# p here is probability, not p-value\n",
    "pop1 = np.random.binomial(10, 0.3, 10000)\n",
    "\n",
    "# new samples\n",
    "group1 = np.random.choice(pop1, 100, replace=True)\n",
    "group2 = np.random.choice(pop2, 100, replace=True)\n",
    "\n",
    "# t-statistic and pvalue\n",
    "print(ttest_ind(group2, group1, equal_var=False))"
   ]
  },
  {
   "cell_type": "markdown",
   "metadata": {},
   "source": [
    "The t-value has decreased by half in increasing the p in population 1. P-value has decreased, though I expected it to increase."
   ]
  },
  {
   "cell_type": "code",
   "execution_count": 18,
   "metadata": {},
   "outputs": [
    {
     "name": "stdout",
     "output_type": "stream",
     "text": [
      "Ttest_indResult(statistic=4.0320551388964745, pvalue=7.893840918635678e-05)\n"
     ]
    }
   ],
   "source": [
    "# change the p of pop1 = 0.4, \n",
    "pop1 = np.random.binomial(10, 0.4, 10000)\n",
    "# take new samples and compute t stat and p value\n",
    "\n",
    "group1 = np.random.choice(pop1, 100, replace=True)\n",
    "\n",
    "# t-statistic and pvalue\n",
    "print(ttest_ind(group2, group1, equal_var=False))"
   ]
  },
  {
   "cell_type": "markdown",
   "metadata": {},
   "source": [
    "The t-value continues to decrease and the p-value increases as the populations become more similar because it becomes more difficult to find meaningful differences."
   ]
  },
  {
   "cell_type": "code",
   "execution_count": 19,
   "metadata": {
    "scrolled": true
   },
   "outputs": [
    {
     "name": "stdout",
     "output_type": "stream",
     "text": [
      "10.001765509469488\n",
      "9.996006933771083\n",
      "0.19992988576044543\n",
      "0.499861915483341\n"
     ]
    }
   ],
   "source": [
    "pop1 = np.random.normal(10, 0.2, 10000)\n",
    "pop2 = np.random.normal(10, 0.5, 10000)\n",
    "\n",
    "print(pop1.mean())\n",
    "print(pop2.mean())\n",
    "print(pop1.std())\n",
    "print(pop2.std())"
   ]
  },
  {
   "cell_type": "code",
   "execution_count": null,
   "metadata": {},
   "outputs": [],
   "source": []
  }
 ],
 "metadata": {
  "kernelspec": {
   "display_name": "Python 3",
   "language": "python",
   "name": "python3"
  },
  "language_info": {
   "codemirror_mode": {
    "name": "ipython",
    "version": 3
   },
   "file_extension": ".py",
   "mimetype": "text/x-python",
   "name": "python",
   "nbconvert_exporter": "python",
   "pygments_lexer": "ipython3",
   "version": "3.6.5"
  }
 },
 "nbformat": 4,
 "nbformat_minor": 2
}
