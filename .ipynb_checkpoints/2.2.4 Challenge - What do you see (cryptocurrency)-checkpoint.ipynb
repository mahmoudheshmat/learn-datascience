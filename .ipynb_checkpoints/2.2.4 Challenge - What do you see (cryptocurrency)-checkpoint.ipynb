{
 "cells": [
  {
   "cell_type": "code",
   "execution_count": 2,
   "metadata": {},
   "outputs": [],
   "source": [
    "import numpy as np\n",
    "import pandas as pd\n",
    "import matplotlib.pyplot as plt\n",
    "%matplotlib inline"
   ]
  },
  {
   "cell_type": "code",
   "execution_count": 5,
   "metadata": {},
   "outputs": [],
   "source": [
    "df = pd.read_csv('CryptocoinsHistoricalPrices.csv', low_memory=False)"
   ]
  },
  {
   "cell_type": "code",
   "execution_count": 6,
   "metadata": {},
   "outputs": [
    {
     "data": {
      "text/html": [
       "<div>\n",
       "<style scoped>\n",
       "    .dataframe tbody tr th:only-of-type {\n",
       "        vertical-align: middle;\n",
       "    }\n",
       "\n",
       "    .dataframe tbody tr th {\n",
       "        vertical-align: top;\n",
       "    }\n",
       "\n",
       "    .dataframe thead th {\n",
       "        text-align: right;\n",
       "    }\n",
       "</style>\n",
       "<table border=\"1\" class=\"dataframe\">\n",
       "  <thead>\n",
       "    <tr style=\"text-align: right;\">\n",
       "      <th></th>\n",
       "      <th>Unnamed: 0</th>\n",
       "      <th>Date</th>\n",
       "      <th>Open.</th>\n",
       "      <th>High</th>\n",
       "      <th>Low</th>\n",
       "      <th>Close..</th>\n",
       "      <th>Volume</th>\n",
       "      <th>Market.Cap</th>\n",
       "      <th>coin</th>\n",
       "      <th>Open</th>\n",
       "      <th>Close</th>\n",
       "      <th>Delta</th>\n",
       "    </tr>\n",
       "  </thead>\n",
       "  <tbody>\n",
       "    <tr>\n",
       "      <th>0</th>\n",
       "      <td>1</td>\n",
       "      <td>2018-08-14</td>\n",
       "      <td>6287.66</td>\n",
       "      <td>6287.94</td>\n",
       "      <td>5971.05</td>\n",
       "      <td>6199.71</td>\n",
       "      <td>5,301,700,000</td>\n",
       "      <td>108,199,097,492</td>\n",
       "      <td>BTC</td>\n",
       "      <td>6287.66</td>\n",
       "      <td>6199.71</td>\n",
       "      <td>-0.013988</td>\n",
       "    </tr>\n",
       "    <tr>\n",
       "      <th>1</th>\n",
       "      <td>2</td>\n",
       "      <td>2018-08-13</td>\n",
       "      <td>6341.36</td>\n",
       "      <td>6537.05</td>\n",
       "      <td>6225.72</td>\n",
       "      <td>6297.57</td>\n",
       "      <td>4,083,980,000</td>\n",
       "      <td>109,111,523,954</td>\n",
       "      <td>BTC</td>\n",
       "      <td>6341.36</td>\n",
       "      <td>6297.57</td>\n",
       "      <td>-0.006905</td>\n",
       "    </tr>\n",
       "    <tr>\n",
       "      <th>2</th>\n",
       "      <td>3</td>\n",
       "      <td>2018-08-12</td>\n",
       "      <td>6283.65</td>\n",
       "      <td>6409.85</td>\n",
       "      <td>6237.50</td>\n",
       "      <td>6322.69</td>\n",
       "      <td>5,665,250,000</td>\n",
       "      <td>108,106,451,582</td>\n",
       "      <td>BTC</td>\n",
       "      <td>6283.65</td>\n",
       "      <td>6322.69</td>\n",
       "      <td>0.006213</td>\n",
       "    </tr>\n",
       "    <tr>\n",
       "      <th>3</th>\n",
       "      <td>4</td>\n",
       "      <td>2018-08-11</td>\n",
       "      <td>6185.79</td>\n",
       "      <td>6455.74</td>\n",
       "      <td>6109.03</td>\n",
       "      <td>6295.73</td>\n",
       "      <td>4,047,850,000</td>\n",
       "      <td>106,409,456,302</td>\n",
       "      <td>BTC</td>\n",
       "      <td>6185.79</td>\n",
       "      <td>6295.73</td>\n",
       "      <td>0.017773</td>\n",
       "    </tr>\n",
       "    <tr>\n",
       "      <th>4</th>\n",
       "      <td>5</td>\n",
       "      <td>2018-08-10</td>\n",
       "      <td>6571.42</td>\n",
       "      <td>6591.26</td>\n",
       "      <td>6124.52</td>\n",
       "      <td>6184.71</td>\n",
       "      <td>4,528,680,000</td>\n",
       "      <td>113,028,788,092</td>\n",
       "      <td>BTC</td>\n",
       "      <td>6571.42</td>\n",
       "      <td>6184.71</td>\n",
       "      <td>-0.058847</td>\n",
       "    </tr>\n",
       "  </tbody>\n",
       "</table>\n",
       "</div>"
      ],
      "text/plain": [
       "   Unnamed: 0        Date    Open.     High      Low  Close..         Volume  \\\n",
       "0           1  2018-08-14  6287.66  6287.94  5971.05  6199.71  5,301,700,000   \n",
       "1           2  2018-08-13  6341.36  6537.05  6225.72  6297.57  4,083,980,000   \n",
       "2           3  2018-08-12  6283.65  6409.85  6237.50  6322.69  5,665,250,000   \n",
       "3           4  2018-08-11  6185.79  6455.74  6109.03  6295.73  4,047,850,000   \n",
       "4           5  2018-08-10  6571.42  6591.26  6124.52  6184.71  4,528,680,000   \n",
       "\n",
       "        Market.Cap coin     Open    Close     Delta  \n",
       "0  108,199,097,492  BTC  6287.66  6199.71 -0.013988  \n",
       "1  109,111,523,954  BTC  6341.36  6297.57 -0.006905  \n",
       "2  108,106,451,582  BTC  6283.65  6322.69  0.006213  \n",
       "3  106,409,456,302  BTC  6185.79  6295.73  0.017773  \n",
       "4  113,028,788,092  BTC  6571.42  6184.71 -0.058847  "
      ]
     },
     "execution_count": 6,
     "metadata": {},
     "output_type": "execute_result"
    }
   ],
   "source": [
    "df.head()"
   ]
  },
  {
   "cell_type": "code",
   "execution_count": 8,
   "metadata": {},
   "outputs": [
    {
     "data": {
      "text/plain": [
       "Index(['Unnamed: 0', 'Date', 'Open.', 'High', 'Low', 'Close..', 'Volume',\n",
       "       'Market.Cap', 'coin', 'Open', 'Close', 'Delta'],\n",
       "      dtype='object')"
      ]
     },
     "execution_count": 8,
     "metadata": {},
     "output_type": "execute_result"
    }
   ],
   "source": [
    "df.columns"
   ]
  },
  {
   "cell_type": "markdown",
   "metadata": {},
   "source": [
    "Each visualization should be accompanied by 2-3 sentences describing what you think is revealed by this representation. Generate at least four different visuals, and be sure to use different types as well as the subplot functionality discussed above. And remember: clean and elegant visuals are key to telling a coherent story."
   ]
  },
  {
   "cell_type": "code",
   "execution_count": 12,
   "metadata": {},
   "outputs": [
    {
     "data": {
      "text/plain": [
       "[<matplotlib.lines.Line2D at 0x13b108d3b00>]"
      ]
     },
     "execution_count": 12,
     "metadata": {},
     "output_type": "execute_result"
    },
    {
     "data": {
      "image/png": "[encoded data removed]",
      "text/plain": [
       "<Figure size 432x288 with 1 Axes>"
      ]
     },
     "metadata": {},
     "output_type": "display_data"
    }
   ],
   "source": [
    "plt.plot(df['Open'])"
   ]
  },
  {
   "cell_type": "code",
   "execution_count": 22,
   "metadata": {},
   "outputs": [
    {
     "data": {
      "text/html": [
       "<div>\n",
       "<style scoped>\n",
       "    .dataframe tbody tr th:only-of-type {\n",
       "        vertical-align: middle;\n",
       "    }\n",
       "\n",
       "    .dataframe tbody tr th {\n",
       "        vertical-align: top;\n",
       "    }\n",
       "\n",
       "    .dataframe thead th {\n",
       "        text-align: right;\n",
       "    }\n",
       "</style>\n",
       "<table border=\"1\" class=\"dataframe\">\n",
       "  <thead>\n",
       "    <tr style=\"text-align: right;\">\n",
       "      <th></th>\n",
       "      <th>Unnamed: 0</th>\n",
       "      <th>High</th>\n",
       "      <th>Low</th>\n",
       "      <th>Open</th>\n",
       "      <th>Close</th>\n",
       "      <th>Delta</th>\n",
       "    </tr>\n",
       "  </thead>\n",
       "  <tbody>\n",
       "    <tr>\n",
       "      <th>count</th>\n",
       "      <td>826697.00000</td>\n",
       "      <td>8.259660e+05</td>\n",
       "      <td>8.260510e+05</td>\n",
       "      <td>8.260040e+05</td>\n",
       "      <td>8.260060e+05</td>\n",
       "      <td>825980.000000</td>\n",
       "    </tr>\n",
       "    <tr>\n",
       "      <th>mean</th>\n",
       "      <td>413349.00000</td>\n",
       "      <td>5.702239e+01</td>\n",
       "      <td>5.549049e+01</td>\n",
       "      <td>5.577330e+01</td>\n",
       "      <td>5.581759e+01</td>\n",
       "      <td>0.098293</td>\n",
       "    </tr>\n",
       "    <tr>\n",
       "      <th>std</th>\n",
       "      <td>238647.01208</td>\n",
       "      <td>1.371396e+03</td>\n",
       "      <td>1.395988e+03</td>\n",
       "      <td>1.364589e+03</td>\n",
       "      <td>1.365663e+03</td>\n",
       "      <td>42.358903</td>\n",
       "    </tr>\n",
       "    <tr>\n",
       "      <th>min</th>\n",
       "      <td>1.00000</td>\n",
       "      <td>3.200000e-09</td>\n",
       "      <td>2.500000e-10</td>\n",
       "      <td>2.500000e-09</td>\n",
       "      <td>2.000000e-10</td>\n",
       "      <td>-0.999950</td>\n",
       "    </tr>\n",
       "    <tr>\n",
       "      <th>25%</th>\n",
       "      <td>206675.00000</td>\n",
       "      <td>2.013000e-03</td>\n",
       "      <td>1.525000e-03</td>\n",
       "      <td>1.746000e-03</td>\n",
       "      <td>1.745000e-03</td>\n",
       "      <td>-0.065630</td>\n",
       "    </tr>\n",
       "    <tr>\n",
       "      <th>50%</th>\n",
       "      <td>413349.00000</td>\n",
       "      <td>2.598300e-02</td>\n",
       "      <td>2.034900e-02</td>\n",
       "      <td>2.300050e-02</td>\n",
       "      <td>2.293900e-02</td>\n",
       "      <td>-0.002018</td>\n",
       "    </tr>\n",
       "    <tr>\n",
       "      <th>75%</th>\n",
       "      <td>620023.00000</td>\n",
       "      <td>2.691825e-01</td>\n",
       "      <td>2.171340e-01</td>\n",
       "      <td>2.419105e-01</td>\n",
       "      <td>2.411457e-01</td>\n",
       "      <td>0.055994</td>\n",
       "    </tr>\n",
       "    <tr>\n",
       "      <th>max</th>\n",
       "      <td>826697.00000</td>\n",
       "      <td>9.954820e+04</td>\n",
       "      <td>9.985160e+04</td>\n",
       "      <td>9.991780e+04</td>\n",
       "      <td>9.998570e+04</td>\n",
       "      <td>34513.333333</td>\n",
       "    </tr>\n",
       "  </tbody>\n",
       "</table>\n",
       "</div>"
      ],
      "text/plain": [
       "         Unnamed: 0          High           Low          Open         Close  \\\n",
       "count  826697.00000  8.259660e+05  8.260510e+05  8.260040e+05  8.260060e+05   \n",
       "mean   413349.00000  5.702239e+01  5.549049e+01  5.577330e+01  5.581759e+01   \n",
       "std    238647.01208  1.371396e+03  1.395988e+03  1.364589e+03  1.365663e+03   \n",
       "min         1.00000  3.200000e-09  2.500000e-10  2.500000e-09  2.000000e-10   \n",
       "25%    206675.00000  2.013000e-03  1.525000e-03  1.746000e-03  1.745000e-03   \n",
       "50%    413349.00000  2.598300e-02  2.034900e-02  2.300050e-02  2.293900e-02   \n",
       "75%    620023.00000  2.691825e-01  2.171340e-01  2.419105e-01  2.411457e-01   \n",
       "max    826697.00000  9.954820e+04  9.985160e+04  9.991780e+04  9.998570e+04   \n",
       "\n",
       "               Delta  \n",
       "count  825980.000000  \n",
       "mean        0.098293  \n",
       "std        42.358903  \n",
       "min        -0.999950  \n",
       "25%        -0.065630  \n",
       "50%        -0.002018  \n",
       "75%         0.055994  \n",
       "max     34513.333333  "
      ]
     },
     "execution_count": 22,
     "metadata": {},
     "output_type": "execute_result"
    }
   ],
   "source": [
    "df.describe()"
   ]
  },
  {
   "cell_type": "code",
   "execution_count": 32,
   "metadata": {},
   "outputs": [],
   "source": [
    "BTC = df[df['coin'] == 'BTC']"
   ]
  },
  {
   "cell_type": "code",
   "execution_count": 34,
   "metadata": {},
   "outputs": [
    {
     "name": "stdout",
     "output_type": "stream",
     "text": [
      "      Unnamed: 0        Date    Open.     High      Low  Close..  \\\n",
      "0              1  2018-08-14  6287.66  6287.94  5971.05  6199.71   \n",
      "1              2  2018-08-13  6341.36  6537.05  6225.72  6297.57   \n",
      "2              3  2018-08-12  6283.65  6409.85  6237.50  6322.69   \n",
      "3              4  2018-08-11  6185.79  6455.74  6109.03  6295.73   \n",
      "4              5  2018-08-10  6571.42  6591.26  6124.52  6184.71   \n",
      "5              6  2018-08-09  6305.56  6625.73  6249.07  6568.23   \n",
      "6              7  2018-08-08  6746.85  6746.85  6226.22   6305.8   \n",
      "7              8  2018-08-07  6958.32  7146.56  6748.24  6753.12   \n",
      "8              9  2018-08-06  7062.94  7166.55  6890.54   6951.8   \n",
      "9             10  2018-08-05  7031.08  7102.77  6940.70  7068.48   \n",
      "10            11  2018-08-04  7438.67  7497.49  6984.07  7032.85   \n",
      "11            12  2018-08-03  7562.14  7562.14  7328.65  7434.39   \n",
      "12            13  2018-08-02  7634.19  7712.77  7523.44  7567.15   \n",
      "13            14  2018-08-01  7769.04  7769.04  7504.95  7624.91   \n",
      "14            15  2018-07-31   8181.2  8181.53  7696.93  7780.44   \n",
      "15            16  2018-07-30  8221.58  8235.50  7917.50  8180.48   \n",
      "16            17  2018-07-29  8205.82  8272.26  8141.18  8218.46   \n",
      "17            18  2018-07-28  8169.06  8222.85  8110.77  8192.15   \n",
      "18            19  2018-07-27   7950.4  8262.66  7839.76  8165.01   \n",
      "19            20  2018-07-26  8176.85  8290.33  7878.71  7951.58   \n",
      "20            21  2018-07-25  8379.66  8416.87  8086.36  8181.39   \n",
      "21            22  2018-07-24  7716.51  8424.27  7705.50  8424.27   \n",
      "22            23  2018-07-23  7414.71  7771.50  7409.10  7711.11   \n",
      "23            24  2018-07-22   7417.8  7537.95  7383.82  7418.49   \n",
      "24            25  2018-07-21  7352.72  7437.64  7262.41  7419.29   \n",
      "25            26  2018-07-20   7467.4  7594.67  7323.26  7354.13   \n",
      "26            27  2018-07-19   7378.2  7494.46  7295.46  7466.86   \n",
      "27            28  2018-07-18  7315.32  7534.99  7280.47  7370.78   \n",
      "28            29  2018-07-17  6739.65  7387.24  6684.17  7321.04   \n",
      "29            30  2018-07-16  6357.01  6741.75  6357.01  6741.75   \n",
      "...          ...         ...      ...      ...      ...      ...   \n",
      "1905        1906  2013-05-27    133.5   135.46   124.70   129.74   \n",
      "1906        1907  2013-05-26   131.99   136.00   130.62   133.48   \n",
      "1907        1908  2013-05-25    133.1   133.22   128.90   131.98   \n",
      "1908        1909  2013-05-24    126.3   133.85   125.72    133.2   \n",
      "1909        1910  2013-05-23    123.8   126.93   123.10    126.7   \n",
      "1910        1911  2013-05-22   122.89   124.00   122.00   123.89   \n",
      "1911        1912  2013-05-21   122.02   123.00   121.21   122.88   \n",
      "1912        1913  2013-05-20    122.5   123.62   120.12      122   \n",
      "1913        1914  2013-05-19   123.21   124.50   119.57   121.99   \n",
      "1914        1915  2013-05-18    123.5   125.25   122.30    123.5   \n",
      "1915        1916  2013-05-17   118.21   125.30   116.57   123.01   \n",
      "1916        1917  2013-05-16   114.22   118.76   112.20   118.76   \n",
      "1917        1918  2013-05-15    111.4   115.81   103.50   114.22   \n",
      "1918        1919  2013-05-14   117.98   119.80   110.25    111.5   \n",
      "1919        1920  2013-05-13   114.82   118.70   114.50   117.98   \n",
      "1920        1921  2013-05-12   115.64   117.45   113.43      115   \n",
      "1921        1922  2013-05-11    117.7   118.68   113.01   115.24   \n",
      "1922        1923  2013-05-10    112.8   122.00   111.55    117.2   \n",
      "1923        1924  2013-05-09    113.2   113.46   109.26   112.67   \n",
      "1924        1925  2013-05-08    109.6   115.78   109.60   113.57   \n",
      "1925        1926  2013-05-07   112.25   113.44    97.70    111.5   \n",
      "1926        1927  2013-05-06   115.98   124.66   106.64    112.3   \n",
      "1927        1928  2013-05-05    112.9   118.80   107.14   115.91   \n",
      "1928        1929  2013-05-04     98.1   115.00    92.50    112.5   \n",
      "1929        1930  2013-05-03   106.25   108.13    79.10    97.75   \n",
      "1930        1931  2013-05-02   116.38   125.60    92.28   105.21   \n",
      "1931        1932  2013-05-01      139   139.89   107.72   116.99   \n",
      "1932        1933  2013-04-30      144   146.93   134.05      139   \n",
      "1933        1934  2013-04-29   134.44   147.49   134.00   144.54   \n",
      "1934        1935  2013-04-28    135.3   135.98   132.10   134.21   \n",
      "\n",
      "             Volume       Market.Cap coin     Open    Close     Delta  \n",
      "0     5,301,700,000  108,199,097,492  BTC  6287.66  6199.71 -0.013988  \n",
      "1     4,083,980,000  109,111,523,954  BTC  6341.36  6297.57 -0.006905  \n",
      "2     5,665,250,000  108,106,451,582  BTC  6283.65  6322.69  0.006213  \n",
      "3     4,047,850,000  106,409,456,302  BTC  6185.79  6295.73  0.017773  \n",
      "4     4,528,680,000  113,028,788,092  BTC  6571.42  6184.71 -0.058847  \n",
      "5     4,267,040,000  108,444,366,975  BTC  6305.56  6568.23  0.041657  \n",
      "6     5,064,430,000  116,020,470,612  BTC  6746.85  6305.80 -0.065371  \n",
      "7     4,682,800,000  119,643,646,094  BTC  6958.32  6753.12 -0.029490  \n",
      "8     3,925,900,000  121,430,864,537  BTC  7062.94  6951.80 -0.015736  \n",
      "9     3,679,110,000  120,869,247,490  BTC  7031.08  7068.48  0.005319  \n",
      "10    4,268,390,000  127,859,350,021  BTC  7438.67  7032.85 -0.054555  \n",
      "11    4,627,150,000  129,965,898,111  BTC  7562.14  7434.39 -0.016893  \n",
      "12    4,214,110,000  131,189,721,712  BTC  7634.19  7567.15 -0.008782  \n",
      "13    4,797,620,000  133,492,645,169  BTC  7769.04  7624.91 -0.018552  \n",
      "14    5,287,530,000  140,559,547,538  BTC  8181.20  7780.44 -0.048985  \n",
      "15    5,551,400,000  141,239,444,979  BTC  8221.58  8180.48 -0.004999  \n",
      "16    4,107,190,016  140,951,371,776  BTC  8205.82  8218.46  0.001540  \n",
      "17    3,988,750,080  140,305,137,664  BTC  8169.06  8192.15  0.002827  \n",
      "18    5,195,879,936  136,532,811,776  BTC  7950.40  8165.01  0.026994  \n",
      "19    4,899,089,920  140,404,998,144  BTC  8176.85  7951.58 -0.027550  \n",
      "20    5,845,400,064  143,869,018,112  BTC  8379.66  8181.39 -0.023661  \n",
      "21    7,277,689,856  132,468,064,256  BTC  7716.51  8424.27  0.091720  \n",
      "22    5,132,480,000  127,271,731,200  BTC  7414.71  7711.11  0.039975  \n",
      "23    3,695,460,096  127,307,890,688  BTC  7417.80  7418.49  0.000093  \n",
      "24    3,726,609,920  126,178,377,728  BTC  7352.72  7419.29  0.009054  \n",
      "25    4,936,869,888  128,131,997,696  BTC  7467.40  7354.13 -0.015169  \n",
      "26    5,111,629,824  126,585,470,976  BTC  7378.20  7466.86  0.012016  \n",
      "27    6,103,410,176  125,490,839,552  BTC  7315.32  7370.78  0.007581  \n",
      "28    5,961,950,208  115,602,178,048  BTC  6739.65  7321.04  0.086264  \n",
      "29    4,725,799,936  109,029,466,112  BTC  6357.01  6741.75  0.060522  \n",
      "...             ...              ...  ...      ...      ...       ...  \n",
      "1905              -    1,495,520,000  BTC   133.50   129.74 -0.028165  \n",
      "1906              -    1,478,029,952  BTC   131.99   133.48  0.011289  \n",
      "1907              -    1,489,949,952  BTC   133.10   131.98 -0.008415  \n",
      "1908              -    1,413,299,968  BTC   126.30   133.20  0.054632  \n",
      "1909              -    1,384,780,032  BTC   123.80   126.70  0.023425  \n",
      "1910              -    1,374,130,048  BTC   122.89   123.89  0.008137  \n",
      "1911              -    1,363,939,968  BTC   122.02   122.88  0.007048  \n",
      "1912              -    1,368,909,952  BTC   122.50   122.00 -0.004082  \n",
      "1913              -    1,376,370,048  BTC   123.21   121.99 -0.009902  \n",
      "1914              -    1,379,139,968  BTC   123.50   123.50  0.000000  \n",
      "1915              -    1,319,590,016  BTC   118.21   123.01  0.040606  \n",
      "1916              -    1,274,620,032  BTC   114.22   118.76  0.039748  \n",
      "1917              -    1,242,759,936  BTC   111.40   114.22  0.025314  \n",
      "1918              -    1,315,719,936  BTC   117.98   111.50 -0.054925  \n",
      "1919              -    1,279,980,032  BTC   114.82   117.98  0.027521  \n",
      "1920              -    1,288,630,016  BTC   115.64   115.00 -0.005534  \n",
      "1921              -    1,311,049,984  BTC   117.70   115.24 -0.020901  \n",
      "1922              -    1,255,970,048  BTC   112.80   117.20  0.039007  \n",
      "1923              -    1,259,980,032  BTC   113.20   112.67 -0.004682  \n",
      "1924              -    1,219,449,984  BTC   109.60   113.57  0.036223  \n",
      "1925              -    1,248,470,016  BTC   112.25   111.50 -0.006682  \n",
      "1926              -    1,289,469,952  BTC   115.98   112.30 -0.031730  \n",
      "1927              -    1,254,759,936  BTC   112.90   115.91  0.026661  \n",
      "1928              -    1,089,890,048  BTC    98.10   112.50  0.146789  \n",
      "1929              -    1,180,070,016  BTC   106.25    97.75 -0.080000  \n",
      "1930              -    1,292,189,952  BTC   116.38   105.21 -0.095979  \n",
      "1931              -    1,542,819,968  BTC   139.00   116.99 -0.158345  \n",
      "1932              -    1,597,779,968  BTC   144.00   139.00 -0.034722  \n",
      "1933              -    1,491,160,064  BTC   134.44   144.54  0.075126  \n",
      "1934              -    1,500,519,936  BTC   135.30   134.21 -0.008056  \n",
      "\n",
      "[1935 rows x 12 columns]\n"
     ]
    }
   ],
   "source": [
    "print(BTC)"
   ]
  },
  {
   "cell_type": "code",
   "execution_count": 35,
   "metadata": {},
   "outputs": [
    {
     "data": {
      "text/plain": [
       "<pandas.core.groupby.groupby.DataFrameGroupBy object at 0x0000013B10A085C0>"
      ]
     },
     "execution_count": 35,
     "metadata": {},
     "output_type": "execute_result"
    }
   ],
   "source": [
    "df.groupby('coin')"
   ]
  },
  {
   "cell_type": "code",
   "execution_count": 38,
   "metadata": {},
   "outputs": [
    {
     "name": "stdout",
     "output_type": "stream",
     "text": [
      "['BTC' 'ETH' 'XRP' ... 'PWR' 'BIG' 'LFT']\n"
     ]
    }
   ],
   "source": [
    "pd.options.display.max_seq_items = 1000\n",
    "print(df['coin'].unique())"
   ]
  },
  {
   "cell_type": "code",
   "execution_count": null,
   "metadata": {},
   "outputs": [],
   "source": []
  }
 ],
 "metadata": {
  "kernelspec": {
   "display_name": "Python 3",
   "language": "python",
   "name": "python3"
  },
  "language_info": {
   "codemirror_mode": {
    "name": "ipython",
    "version": 3
   },
   "file_extension": ".py",
   "mimetype": "text/x-python",
   "name": "python",
   "nbconvert_exporter": "python",
   "pygments_lexer": "ipython3",
   "version": "3.6.5"
  }
 },
 "nbformat": 4,
 "nbformat_minor": 2
}
