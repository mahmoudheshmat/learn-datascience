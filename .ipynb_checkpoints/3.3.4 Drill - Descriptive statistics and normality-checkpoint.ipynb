{
 "cells": [
  {
   "cell_type": "code",
   "execution_count": 1,
   "metadata": {},
   "outputs": [],
   "source": [
    "import numpy as np\n",
    "import pandas as pd\n",
    "import matplotlib.pyplot as plt\n",
    "%matplotlib inline"
   ]
  },
  {
   "cell_type": "markdown",
   "metadata": {},
   "source": [
    "generate 6 random distributions in NumPy from: \n",
    "https://docs.scipy.org/doc/numpy/reference/routines.random.html#distributions\n",
    "\n",
    "For each distribution:\n",
    "1. data points = 100\n",
    "    Using the code distributionvar = np.random.distributionname([arguments], 100)\n",
    "       - Replacing distributionvar with an appropriate variable name and distributionname with the name of the distribution selected\n",
    "2. Graph the variable using a histogram\n",
    "3. Compute mean and std deviation\n",
    "    - plot them as vertical lines on the histogram\n",
    "4. Evaluate whether descriptive stats provided useful info about the variable\n",
    "    - Any common characteristics of the distributions that could be usefully described using mean and/or std dev versus ones that could not?\n"
   ]
  },
  {
   "cell_type": "code",
   "execution_count": 16,
   "metadata": {},
   "outputs": [
    {
     "data": {
      "image/png": "[encoded data removed]",
      "text/plain": [
       "<Figure size 432x288 with 1 Axes>"
      ]
     },
     "metadata": {},
     "output_type": "display_data"
    }
   ],
   "source": [
    "# plot rdist 1 (random distribution 1)\n",
    "geometric_dist = np.random.geometric(0.5, 100)\n",
    "\n",
    "plt.hist(geometric_dist)\n",
    "\n",
    "# add vertical line for mean\n",
    "plt.axvline(rdist1_mean, color='black')\n",
    "\n",
    "# add vertical line at +1 std\n",
    "plt.axvline(rdist1_mean + rdist1_std, color='red')\n",
    "\n",
    "# add vertical line at -1 std\n",
    "plt.axvline(rdist1_mean - rdist1_std, color='red')\n",
    "\n",
    "# print histogram\n",
    "plt.show()"
   ]
  },
  {
   "cell_type": "code",
   "execution_count": 13,
   "metadata": {},
   "outputs": [
    {
     "name": "stdout",
     "output_type": "stream",
     "text": [
      "2.03\n",
      "1.4244648117802\n"
     ]
    }
   ],
   "source": [
    "# rdist1\n",
    "rdist1_mean = geometric_dist.mean()\n",
    "print(rdist1_mean)\n",
    "rdist1_std = geometric_dist.std()\n",
    "print(rdist1_std)"
   ]
  },
  {
   "cell_type": "code",
   "execution_count": 18,
   "metadata": {},
   "outputs": [
    {
     "data": {
      "image/png": "[encoded data removed]",
      "text/plain": [
       "<Figure size 432x288 with 1 Axes>"
      ]
     },
     "metadata": {},
     "output_type": "display_data"
    }
   ],
   "source": [
    "# random dist 2\n",
    "binomial_dist = np.random.binomial(20, 0.5, 100)\n",
    "\n",
    "# plot histogram\n",
    "plt.hist(binomial_dist)\n",
    "\n",
    "# add vertical line at mean\n",
    "plt.axvline(binomial_dist.mean(), color='black')\n",
    "\n",
    "# add vertical line at +1 std\n",
    "plt.axvline(binomial_dist.mean() + binomial_dist.std(), color='red')\n",
    "\n",
    "# add vertical line at -2 std\n",
    "plt.axvline(binomial_dist.mean() - binomial_dist.std(), color='red')\n",
    "\n",
    "plt.show()"
   ]
  },
  {
   "cell_type": "code",
   "execution_count": 49,
   "metadata": {},
   "outputs": [
    {
     "name": "stdout",
     "output_type": "stream",
     "text": [
      "10.13\n",
      "2.0574498778828123\n"
     ]
    }
   ],
   "source": [
    "# rdist2\n",
    "rdist2_mean = binomial_dist.mean()\n",
    "print(rdist2_mean)\n",
    "rdist2_std = binomial_dist.std()\n",
    "print(rdist2_std)"
   ]
  },
  {
   "cell_type": "code",
   "execution_count": 55,
   "metadata": {},
   "outputs": [
    {
     "data": {
      "image/png": "[encoded data removed]",
      "text/plain": [
       "<Figure size 432x288 with 1 Axes>"
      ]
     },
     "metadata": {},
     "output_type": "display_data"
    }
   ],
   "source": [
    "# random dist 3\n",
    "poisson_dist = np.random.poisson(1, 100)\n",
    "\n",
    "# plot graph\n",
    "plt.hist(poisson_dist)\n",
    "\n",
    "# add vertical line at mean\n",
    "plt.axvline(poisson_dist.mean(), color='black')\n",
    "\n",
    "# add vertical line at +1 std\n",
    "plt.axvline(poisson_dist.mean() + poisson_dist.std(), color='red')\n",
    "\n",
    "# add vertical line at -1 std\n",
    "plt.axvline(poisson_dist.mean() - poisson_dist.std(), color='red')\n",
    "\n",
    "plt.show()"
   ]
  },
  {
   "cell_type": "code",
   "execution_count": 50,
   "metadata": {},
   "outputs": [
    {
     "name": "stdout",
     "output_type": "stream",
     "text": [
      "0.96\n",
      "0.9046546302318912\n"
     ]
    }
   ],
   "source": [
    "# rdist3\n",
    "rdist3_mean = poisson_dist.mean()\n",
    "print(rdist3_mean)\n",
    "rdist3_std = poisson_dist.std()\n",
    "print(rdist3_std)"
   ]
  },
  {
   "cell_type": "markdown",
   "metadata": {},
   "source": [
    "For the above: why is it not auto-binned like the others?"
   ]
  },
  {
   "cell_type": "code",
   "execution_count": 56,
   "metadata": {},
   "outputs": [
    {
     "data": {
      "image/png": "[encoded data removed]",
      "text/plain": [
       "<Figure size 432x288 with 1 Axes>"
      ]
     },
     "metadata": {},
     "output_type": "display_data"
    }
   ],
   "source": [
    "# random dist 4\n",
    "multinomial_dist = np.random.multinomial(30, [0.5]*2, 100)\n",
    "\n",
    "# plot graph\n",
    "plt.hist(multinomial_dist)\n",
    "\n",
    "# plot vertical line at mean\n",
    "plt.axvline(multinomial_dist.mean(), color='black')\n",
    "\n",
    "# plot vertical line at +1 std\n",
    "plt.axvline(multinomial_dist.mean() + multinomial_dist.std(), color='red')\n",
    "\n",
    "# plot vertical line at -1 std\n",
    "plt.axvline(multinomial_dist.mean() - multinomial_dist.std(), color='red')\n",
    "\n",
    "plt.show()"
   ]
  },
  {
   "cell_type": "code",
   "execution_count": 51,
   "metadata": {},
   "outputs": [
    {
     "name": "stdout",
     "output_type": "stream",
     "text": [
      "15.0\n",
      "2.5337718918639855\n"
     ]
    }
   ],
   "source": [
    "# rdist4\n",
    "rdist4_mean = multinomial_dist.mean()\n",
    "print(rdist4_mean)\n",
    "rdist4_std = multinomial_dist.std()\n",
    "print(rdist4_std)"
   ]
  },
  {
   "cell_type": "code",
   "execution_count": 57,
   "metadata": {},
   "outputs": [
    {
     "data": {
      "image/png": "[encoded data removed]",
      "text/plain": [
       "<Figure size 432x288 with 1 Axes>"
      ]
     },
     "metadata": {},
     "output_type": "display_data"
    }
   ],
   "source": [
    "# random dist 5\n",
    "power_dist = np.random.power(4, 100)\n",
    "\n",
    "# plot graph\n",
    "plt.hist(power_dist)\n",
    "\n",
    "# plot vertical line at mean\n",
    "plt.axvline(power_dist.mean(), color='black')\n",
    "\n",
    "# plot vertical line at +1 and -1 std\n",
    "plt.axvline(power_dist.mean() + power_dist.std(), color='red')\n",
    "plt.axvline(power_dist.mean() - power_dist.std(), color='red')\n",
    "\n",
    "plt.show()"
   ]
  },
  {
   "cell_type": "code",
   "execution_count": 52,
   "metadata": {},
   "outputs": [
    {
     "name": "stdout",
     "output_type": "stream",
     "text": [
      "0.774578618768532\n",
      "0.15822533412539427\n"
     ]
    }
   ],
   "source": [
    "# rdist5\n",
    "rdist5_mean = power_dist.mean()\n",
    "print(rdist5_mean)\n",
    "rdist5_std = power_dist.std()\n",
    "print(rdist5_std)"
   ]
  },
  {
   "cell_type": "code",
   "execution_count": 58,
   "metadata": {},
   "outputs": [
    {
     "data": {
      "image/png": "[encoded data removed]",
      "text/plain": [
       "<Figure size 432x288 with 1 Axes>"
      ]
     },
     "metadata": {},
     "output_type": "display_data"
    }
   ],
   "source": [
    "# random dist 6\n",
    "standard_cauchy_dist = np.random.standard_cauchy(100)\n",
    "\n",
    "plt.hist(standard_cauchy_dist)\n",
    "\n",
    "plt.axvline(standard_cauchy_dist.mean(), color='black')\n",
    "\n",
    "plt.axvline(standard_cauchy_dist.mean() + standard_cauchy_dist.std(), color='red')\n",
    "plt.axvline(standard_cauchy_dist.mean() - standard_cauchy_dist.std(), color='red')\n",
    "\n",
    "plt.show()"
   ]
  },
  {
   "cell_type": "code",
   "execution_count": 53,
   "metadata": {},
   "outputs": [
    {
     "name": "stdout",
     "output_type": "stream",
     "text": [
      "-1.9635482145346859\n",
      "11.184714247713107\n"
     ]
    }
   ],
   "source": [
    "# rdist6\n",
    "rdist6_mean = standard_cauchy_dist.mean()\n",
    "print(rdist6_mean)\n",
    "rdist6_std = standard_cauchy_dist.std()\n",
    "print(rdist6_std)"
   ]
  },
  {
   "cell_type": "code",
   "execution_count": 48,
   "metadata": {},
   "outputs": [
    {
     "name": "stdout",
     "output_type": "stream",
     "text": [
      "[ 6.31132879e-02 -2.36609093e+00 -9.16016482e-01  1.25191671e+00\n",
      " -1.49583908e+00  2.17264536e+00  6.63185741e-01 -2.55341481e-01\n",
      " -3.01688426e+01  2.68719921e-01 -3.96468800e-01 -1.10034858e+00\n",
      " -2.99430355e+00  7.73349443e-01 -1.16263547e-01  7.05087803e-01\n",
      "  1.08713410e-01 -2.26099289e+00 -1.91383305e+00  1.06297151e+00\n",
      "  1.02008861e-01 -8.18085111e+01  1.02355399e+00 -2.84746710e-02\n",
      " -7.36632066e-01 -2.41299904e+00 -3.41685061e+00 -2.04929450e-01\n",
      " -1.19438796e+00  3.54909464e-01 -9.27260024e-01  2.64399262e+00\n",
      " -3.13824449e+00 -1.95058450e-01 -2.05887964e-01 -5.68803316e-01\n",
      "  2.29866844e+00  1.79181324e-01  1.00853999e+00  1.93655131e-01\n",
      " -1.21696446e+00 -2.48703877e-01  8.06125658e-01 -7.54142378e+00\n",
      "  9.78780799e-01  1.02906092e+00  1.24855592e+00  4.97588604e-01\n",
      "  6.89024224e-01 -3.75484452e-01 -7.55237679e-01 -5.97843304e+00\n",
      " -2.65203571e+00  1.48583025e+00  7.21152807e-01  2.94770078e-02\n",
      "  2.56235948e+00  2.16196066e-01 -1.31051464e-01 -5.16911574e-01\n",
      " -1.77833086e+00 -5.15182288e-01  3.71029730e-01 -4.68643263e-01\n",
      "  1.95076376e+00  1.95024996e+00 -1.31398900e+00  9.50850429e-01\n",
      " -3.56777949e+00 -1.92977867e+00  2.05427741e-01  1.02176594e+01\n",
      "  1.39399045e-01  3.51342484e-01  3.91167113e+00 -3.48438349e-01\n",
      "  2.57276230e+00  9.29508450e-01 -2.84530794e-01  2.63077500e+00\n",
      " -6.39947151e-01  2.40057423e-01 -1.31073087e-01 -4.75763829e+00\n",
      " -4.45851108e-01 -3.25539065e-01  3.45226168e-01 -6.84117736e+01\n",
      " -1.03152394e+00  1.62007888e+00  2.50352867e+00 -2.99936488e+00\n",
      "  6.15838823e+00 -1.17669433e+01 -2.46687260e+00 -1.80952466e-01\n",
      "  1.36096506e-01 -1.15184477e+00 -6.26321207e-01  4.70294284e+00]\n"
     ]
    }
   ],
   "source": [
    "print(standard_cauchy_dist)"
   ]
  },
  {
   "cell_type": "markdown",
   "metadata": {},
   "source": [
    "-----\n",
    "For all 6 of these plots, descriptive statistics is not the most accurate nor useful way to describe the data because they are not normal distributions. The mean does not fall at the center of the data, and the standard deviation is not good at describing the variance. For example, the geometric distribution (rdist1) tails off to the right, but it would not be apparent from the standard deviation that some data falls to the far right (outside of the first standard deviation), but not the far left (there are no data points outside of the left standard deviation)\n",
    "\n",
    "-----"
   ]
  },
  {
   "cell_type": "markdown",
   "metadata": {},
   "source": [
    "In addition:\n",
    "1. Generate 2 normally distributed variables, one with mean = 5 and std = 0.5, the other with mean=10, std=1\n",
    "2. Add together to create a third variable\n",
    "3. Graph the 3rd variable using a histogram\n",
    "4. Compute mean and std and plot as vertical lines on histogram\n",
    "5. Evaluate descriptive statistics against the data"
   ]
  },
  {
   "cell_type": "code",
   "execution_count": 60,
   "metadata": {},
   "outputs": [],
   "source": [
    "normal1 = np.random.normal(5, 0.5, 100)\n",
    "normal2 = np.random.normal(10, 1, 100)"
   ]
  },
  {
   "cell_type": "code",
   "execution_count": 61,
   "metadata": {},
   "outputs": [],
   "source": [
    "normal3 = normal1 + normal2"
   ]
  },
  {
   "cell_type": "code",
   "execution_count": 67,
   "metadata": {},
   "outputs": [
    {
     "data": {
      "image/png": "[encoded data removed]",
      "text/plain": [
       "<Figure size 432x288 with 1 Axes>"
      ]
     },
     "metadata": {},
     "output_type": "display_data"
    }
   ],
   "source": [
    "plt.hist(normal3)\n",
    "\n",
    "plt.axvline(normal3.mean(), color='black')\n",
    "\n",
    "plt.axvline(normal3.mean() + normal3.std(), color='red')\n",
    "plt.axvline(normal3.mean() - normal3.std(), color='red')\n",
    "plt.show()"
   ]
  },
  {
   "cell_type": "code",
   "execution_count": 65,
   "metadata": {},
   "outputs": [
    {
     "name": "stdout",
     "output_type": "stream",
     "text": [
      "14.901122072119579\n"
     ]
    },
    {
     "data": {
      "text/plain": [
       "1.1688722875001403"
      ]
     },
     "execution_count": 65,
     "metadata": {},
     "output_type": "execute_result"
    }
   ],
   "source": [
    "print(normal3.mean())\n",
    "(normal3.std())"
   ]
  },
  {
   "cell_type": "code",
   "execution_count": 77,
   "metadata": {},
   "outputs": [
    {
     "data": {
      "text/plain": [
       "14.913109451874833"
      ]
     },
     "execution_count": 77,
     "metadata": {},
     "output_type": "execute_result"
    }
   ],
   "source": [
    "normal3[49]"
   ]
  },
  {
   "cell_type": "markdown",
   "metadata": {},
   "source": [
    "Though this graph is not a perfect bell shaped curve, it is normally distributed. The mean is roughly at the center. "
   ]
  },
  {
   "cell_type": "code",
   "execution_count": null,
   "metadata": {},
   "outputs": [],
   "source": []
  }
 ],
 "metadata": {
  "kernelspec": {
   "display_name": "Python 3",
   "language": "python",
   "name": "python3"
  },
  "language_info": {
   "codemirror_mode": {
    "name": "ipython",
    "version": 3
   },
   "file_extension": ".py",
   "mimetype": "text/x-python",
   "name": "python",
   "nbconvert_exporter": "python",
   "pygments_lexer": "ipython3",
   "version": "3.6.5"
  }
 },
 "nbformat": 4,
 "nbformat_minor": 2
}
