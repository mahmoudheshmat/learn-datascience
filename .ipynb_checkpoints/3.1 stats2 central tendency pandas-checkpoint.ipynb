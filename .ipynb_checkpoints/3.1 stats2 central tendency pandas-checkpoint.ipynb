{
 "cells": [
  {
   "cell_type": "code",
   "execution_count": 1,
   "metadata": {},
   "outputs": [],
   "source": [
    "import pandas as pd"
   ]
  },
  {
   "cell_type": "code",
   "execution_count": 2,
   "metadata": {},
   "outputs": [
    {
     "data": {
      "text/html": [
       "<div>\n",
       "<style scoped>\n",
       "    .dataframe tbody tr th:only-of-type {\n",
       "        vertical-align: middle;\n",
       "    }\n",
       "\n",
       "    .dataframe tbody tr th {\n",
       "        vertical-align: top;\n",
       "    }\n",
       "\n",
       "    .dataframe thead th {\n",
       "        text-align: right;\n",
       "    }\n",
       "</style>\n",
       "<table border=\"1\" class=\"dataframe\">\n",
       "  <thead>\n",
       "    <tr style=\"text-align: right;\">\n",
       "      <th></th>\n",
       "      <th>age</th>\n",
       "    </tr>\n",
       "  </thead>\n",
       "  <tbody>\n",
       "    <tr>\n",
       "      <th>0</th>\n",
       "      <td>28</td>\n",
       "    </tr>\n",
       "    <tr>\n",
       "      <th>1</th>\n",
       "      <td>42</td>\n",
       "    </tr>\n",
       "    <tr>\n",
       "      <th>2</th>\n",
       "      <td>27</td>\n",
       "    </tr>\n",
       "    <tr>\n",
       "      <th>3</th>\n",
       "      <td>24</td>\n",
       "    </tr>\n",
       "    <tr>\n",
       "      <th>4</th>\n",
       "      <td>35</td>\n",
       "    </tr>\n",
       "    <tr>\n",
       "      <th>5</th>\n",
       "      <td>54</td>\n",
       "    </tr>\n",
       "    <tr>\n",
       "      <th>6</th>\n",
       "      <td>35</td>\n",
       "    </tr>\n",
       "    <tr>\n",
       "      <th>7</th>\n",
       "      <td>37</td>\n",
       "    </tr>\n",
       "  </tbody>\n",
       "</table>\n",
       "</div>"
      ],
      "text/plain": [
       "   age\n",
       "0   28\n",
       "1   42\n",
       "2   27\n",
       "3   24\n",
       "4   35\n",
       "5   54\n",
       "6   35\n",
       "7   37"
      ]
     },
     "execution_count": 2,
     "metadata": {},
     "output_type": "execute_result"
    }
   ],
   "source": [
    "df = pd.DataFrame()\n",
    "df['age'] = [28, 42, 27, 24, 35, 54, 35, 37]\n",
    "df"
   ]
  },
  {
   "cell_type": "markdown",
   "metadata": {},
   "source": [
    "## Central tendency\n",
    "- describes a point around which datapoints in a variable will cluster\n",
    "- aka mean, median, mode\n"
   ]
  },
  {
   "cell_type": "code",
   "execution_count": 3,
   "metadata": {},
   "outputs": [
    {
     "data": {
      "text/plain": [
       "35.25"
      ]
     },
     "execution_count": 3,
     "metadata": {},
     "output_type": "execute_result"
    }
   ],
   "source": [
    "# mean = sum(x) / n\n",
    "sum(df['age']) / len(df['age'])"
   ]
  },
  {
   "cell_type": "code",
   "execution_count": 4,
   "metadata": {},
   "outputs": [
    {
     "data": {
      "text/plain": [
       "35.25"
      ]
     },
     "execution_count": 4,
     "metadata": {},
     "output_type": "execute_result"
    }
   ],
   "source": [
    "# mean with NumPy\n",
    "import numpy as np\n",
    "np.mean(df['age'])"
   ]
  },
  {
   "cell_type": "code",
   "execution_count": 5,
   "metadata": {},
   "outputs": [
    {
     "data": {
      "text/plain": [
       "35.0"
      ]
     },
     "execution_count": 5,
     "metadata": {},
     "output_type": "execute_result"
    }
   ],
   "source": [
    "# median, the middle value in a sorted variable\n",
    "# using Vanilla Python\n",
    "import statistics\n",
    "\n",
    "statistics.median(df['age'])"
   ]
  },
  {
   "cell_type": "code",
   "execution_count": 7,
   "metadata": {},
   "outputs": [
    {
     "data": {
      "text/plain": [
       "35.0"
      ]
     },
     "execution_count": 7,
     "metadata": {},
     "output_type": "execute_result"
    }
   ],
   "source": [
    "# median with NumPy\n",
    "import numpy as np\n",
    "np.median(df['age'])"
   ]
  },
  {
   "cell_type": "code",
   "execution_count": 10,
   "metadata": {},
   "outputs": [
    {
     "data": {
      "text/plain": [
       "35"
      ]
     },
     "execution_count": 10,
     "metadata": {},
     "output_type": "execute_result"
    }
   ],
   "source": [
    "# mode, the value that occurs most frequently\n",
    "# using the stats module\n",
    "import statistics\n",
    "statistics.mode(df['age'])\n",
    "# Note: statistics error if multiple modes found"
   ]
  },
  {
   "cell_type": "code",
   "execution_count": 13,
   "metadata": {},
   "outputs": [
    {
     "data": {
      "text/plain": [
       "35"
      ]
     },
     "execution_count": 13,
     "metadata": {},
     "output_type": "execute_result"
    }
   ],
   "source": [
    "# this avoids stats error with multi modes\n",
    "# however will only show the first one\n",
    "\n",
    "# generate a list of unique elements and how often they occur\n",
    "(values, counts) = np.unique(df['age'], return_counts=True)\n",
    "\n",
    "# location in the values list of the most-freq occuring element\n",
    "ind = np.argmax(counts)\n",
    "\n",
    "# most freq element\n",
    "values[ind]"
   ]
  },
  {
   "cell_type": "markdown",
   "metadata": {},
   "source": [
    "# How to revise the code above to get all of the modes?\n",
    "------"
   ]
  },
  {
   "cell_type": "markdown",
   "metadata": {},
   "source": [
    "# Variance\n",
    "- how much values differ from the central tendency, and each other\n",
    "v = sum((x - mean) ** 2) / (n - 1)\n",
    "- divide by n - 1 (sample standard deviation) instead of just n (population standard deviation) to not underestimate population variance"
   ]
  },
  {
   "cell_type": "code",
   "execution_count": 14,
   "metadata": {},
   "outputs": [
    {
     "data": {
      "text/plain": [
       "92.5"
      ]
     },
     "execution_count": 14,
     "metadata": {},
     "output_type": "execute_result"
    }
   ],
   "source": [
    "# calculate variance with pandas\n",
    "df['age'].var()"
   ]
  },
  {
   "cell_type": "code",
   "execution_count": 18,
   "metadata": {},
   "outputs": [
    {
     "data": {
      "text/plain": [
       "92.5"
      ]
     },
     "execution_count": 18,
     "metadata": {},
     "output_type": "execute_result"
    }
   ],
   "source": [
    "# calculate variance with numpy, see below for ddof explanation\n",
    "np.var(df.age, ddof=1)"
   ]
  },
  {
   "cell_type": "markdown",
   "metadata": {},
   "source": []
  },
  {
   "cell_type": "markdown",
   "metadata": {},
   "source": [
    "# Standard Deviation\n",
    "- square root of the variance\n",
    "s = v ** 0.5"
   ]
  },
  {
   "cell_type": "code",
   "execution_count": 16,
   "metadata": {},
   "outputs": [
    {
     "data": {
      "text/plain": [
       "9.617692030835672"
      ]
     },
     "execution_count": 16,
     "metadata": {},
     "output_type": "execute_result"
    }
   ],
   "source": [
    "# NumPy defaults to population stdev, need to modify to give sample stdev\n",
    "# do this by manually setting 'delta degrees of freedom', ddof\n",
    "np.std(df['age'], ddof=1)"
   ]
  },
  {
   "cell_type": "markdown",
   "metadata": {},
   "source": [
    "# Standard error\n",
    "- aka margin of error\n",
    "- ex. survey states 44% of respondents support measure X with a se= 4%; this means if the survey were re-ran several times, the results will lie within 40 - 48 %\n",
    "- se = s / (n**0.5) ; standard deviation of sample s, divided by sqrt of sample size n"
   ]
  },
  {
   "cell_type": "code",
   "execution_count": 17,
   "metadata": {},
   "outputs": [
    {
     "data": {
      "text/plain": [
       "3.4003676271838605"
      ]
     },
     "execution_count": 17,
     "metadata": {},
     "output_type": "execute_result"
    }
   ],
   "source": [
    "# Numpy standard error\n",
    "np.std(df['age'], ddof=1) / np.sqrt(len(df['age']))"
   ]
  },
  {
   "cell_type": "code",
   "execution_count": 24,
   "metadata": {},
   "outputs": [
    {
     "data": {
      "image/png": "[encoded data removed]",
      "text/plain": [
       "<Figure size 432x288 with 2 Axes>"
      ]
     },
     "metadata": {
      "needs_background": "light"
     },
     "output_type": "display_data"
    }
   ],
   "source": [
    "import matplotlib.pyplot as plt\n",
    "\n",
    "# create empty data frame\n",
    "pop=pd.DataFrame()\n",
    "\n",
    "# create two variable with mean = 60\n",
    "# one with low (sd=10), and one with high (sd=100) standard dev\n",
    "pop['low_var']=np.random.normal(60, 10, 10000)\n",
    "pop['high_var']=np.random.normal(60, 100, 10000)\n",
    "\n",
    "# then create histograms\n",
    "pop.hist(layout=(2, 1), sharex=True)\n",
    "plt.show()"
   ]
  },
  {
   "cell_type": "code",
   "execution_count": 30,
   "metadata": {},
   "outputs": [
    {
     "data": {
      "image/png": "[encoded data removed]",
      "text/plain": [
       "<Figure size 432x288 with 2 Axes>"
      ]
     },
     "metadata": {
      "needs_background": "light"
     },
     "output_type": "display_data"
    }
   ],
   "source": [
    "# create empty data frame\n",
    "pop=pd.DataFrame()\n",
    "\n",
    "# create two variable with mean = 60\n",
    "# one with low (sd=10), and one with high (sd=100) standard dev\n",
    "pop['low_var']=np.random.normal(60, 10, 10000)\n",
    "pop['high_var']=np.random.normal(60, 100, 10000)\n",
    "\n",
    "# then create histograms\n",
    "pop.hist(layout=(2, 1), sharex=True)\n",
    "plt.show()"
   ]
  },
  {
   "cell_type": "code",
   "execution_count": 27,
   "metadata": {},
   "outputs": [
    {
     "name": "stdout",
     "output_type": "stream",
     "text": [
      "low_var     106.780409\n",
      "high_var    458.756562\n",
      "dtype: float64\n"
     ]
    }
   ],
   "source": [
    "print(pop.max())"
   ]
  },
  {
   "cell_type": "code",
   "execution_count": 28,
   "metadata": {},
   "outputs": [
    {
     "name": "stdout",
     "output_type": "stream",
     "text": [
      "low_var      23.610817\n",
      "high_var   -323.155690\n",
      "dtype: float64\n"
     ]
    }
   ],
   "source": [
    "print(pop.min())"
   ]
  },
  {
   "cell_type": "code",
   "execution_count": 31,
   "metadata": {},
   "outputs": [
    {
     "data": {
      "image/png": "[encoded data removed]",
      "text/plain": [
       "<Figure size 432x288 with 2 Axes>"
      ]
     },
     "metadata": {
      "needs_background": "light"
     },
     "output_type": "display_data"
    }
   ],
   "source": [
    "# take a random sample of 100 observations from each var \n",
    "# and store in new data frame\n",
    "sample=pd.DataFrame()\n",
    "sample['low_var']=np.random.choice(pop['low_var'], 100)\n",
    "sample['high_var']=np.random.choice(pop['high_var'], 100)\n",
    "\n",
    "sample.hist()\n",
    "plt.show()"
   ]
  },
  {
   "cell_type": "code",
   "execution_count": 34,
   "metadata": {},
   "outputs": [
    {
     "data": {
      "text/plain": [
       "low_var     62.675622\n",
       "high_var    72.812146\n",
       "dtype: float64"
      ]
     },
     "execution_count": 34,
     "metadata": {},
     "output_type": "execute_result"
    }
   ],
   "source": [
    "sample.mean()"
   ]
  },
  {
   "cell_type": "code",
   "execution_count": 35,
   "metadata": {},
   "outputs": [
    {
     "data": {
      "text/plain": [
       "low_var     59.994478\n",
       "high_var    62.029788\n",
       "dtype: float64"
      ]
     },
     "execution_count": 35,
     "metadata": {},
     "output_type": "execute_result"
    }
   ],
   "source": [
    "pop.mean()"
   ]
  },
  {
   "cell_type": "code",
   "execution_count": 33,
   "metadata": {},
   "outputs": [
    {
     "data": {
      "text/plain": [
       "low_var      9.798437\n",
       "high_var    98.193676\n",
       "dtype: float64"
      ]
     },
     "execution_count": 33,
     "metadata": {},
     "output_type": "execute_result"
    }
   ],
   "source": [
    "sample.std(ddof=1)"
   ]
  },
  {
   "cell_type": "code",
   "execution_count": 36,
   "metadata": {},
   "outputs": [
    {
     "data": {
      "text/plain": [
       "low_var       9.971544\n",
       "high_var    100.164822\n",
       "dtype: float64"
      ]
     },
     "execution_count": 36,
     "metadata": {},
     "output_type": "execute_result"
    }
   ],
   "source": [
    "pop.std(ddof=1)"
   ]
  },
  {
   "cell_type": "markdown",
   "metadata": {},
   "source": [
    "# Describing data with Pandas\n",
    "-----"
   ]
  },
  {
   "cell_type": "code",
   "execution_count": 37,
   "metadata": {},
   "outputs": [],
   "source": [
    "data = pd.DataFrame()\n",
    "data['gender'] = ['male'] * 100 + ['female'] * 100\n",
    "data['height'] = np.append(np.random.normal(69, 8, 100), np.random.normal(64, 5, 100)) \n",
    "# np.random.normal(center, stdev, sample-size)\n",
    "data['weight'] = np.append(np.random.normal(195, 25, 100), np.random.normal(166, 15, 100))"
   ]
  },
  {
   "cell_type": "code",
   "execution_count": 38,
   "metadata": {},
   "outputs": [
    {
     "data": {
      "text/html": [
       "<div>\n",
       "<style scoped>\n",
       "    .dataframe tbody tr th:only-of-type {\n",
       "        vertical-align: middle;\n",
       "    }\n",
       "\n",
       "    .dataframe tbody tr th {\n",
       "        vertical-align: top;\n",
       "    }\n",
       "\n",
       "    .dataframe thead th {\n",
       "        text-align: right;\n",
       "    }\n",
       "</style>\n",
       "<table border=\"1\" class=\"dataframe\">\n",
       "  <thead>\n",
       "    <tr style=\"text-align: right;\">\n",
       "      <th></th>\n",
       "      <th>gender</th>\n",
       "      <th>height</th>\n",
       "      <th>weight</th>\n",
       "    </tr>\n",
       "  </thead>\n",
       "  <tbody>\n",
       "    <tr>\n",
       "      <th>0</th>\n",
       "      <td>male</td>\n",
       "      <td>74.249291</td>\n",
       "      <td>147.931644</td>\n",
       "    </tr>\n",
       "    <tr>\n",
       "      <th>1</th>\n",
       "      <td>male</td>\n",
       "      <td>65.081867</td>\n",
       "      <td>186.392897</td>\n",
       "    </tr>\n",
       "    <tr>\n",
       "      <th>2</th>\n",
       "      <td>male</td>\n",
       "      <td>77.377552</td>\n",
       "      <td>157.925981</td>\n",
       "    </tr>\n",
       "    <tr>\n",
       "      <th>3</th>\n",
       "      <td>male</td>\n",
       "      <td>68.931636</td>\n",
       "      <td>204.491722</td>\n",
       "    </tr>\n",
       "    <tr>\n",
       "      <th>4</th>\n",
       "      <td>male</td>\n",
       "      <td>84.933495</td>\n",
       "      <td>180.824838</td>\n",
       "    </tr>\n",
       "    <tr>\n",
       "      <th>5</th>\n",
       "      <td>male</td>\n",
       "      <td>57.633014</td>\n",
       "      <td>183.085132</td>\n",
       "    </tr>\n",
       "    <tr>\n",
       "      <th>6</th>\n",
       "      <td>male</td>\n",
       "      <td>67.172285</td>\n",
       "      <td>183.808727</td>\n",
       "    </tr>\n",
       "    <tr>\n",
       "      <th>7</th>\n",
       "      <td>male</td>\n",
       "      <td>74.234474</td>\n",
       "      <td>175.638349</td>\n",
       "    </tr>\n",
       "    <tr>\n",
       "      <th>8</th>\n",
       "      <td>male</td>\n",
       "      <td>62.169078</td>\n",
       "      <td>137.816743</td>\n",
       "    </tr>\n",
       "    <tr>\n",
       "      <th>9</th>\n",
       "      <td>male</td>\n",
       "      <td>68.925198</td>\n",
       "      <td>199.479544</td>\n",
       "    </tr>\n",
       "    <tr>\n",
       "      <th>10</th>\n",
       "      <td>male</td>\n",
       "      <td>61.011971</td>\n",
       "      <td>172.168422</td>\n",
       "    </tr>\n",
       "    <tr>\n",
       "      <th>11</th>\n",
       "      <td>male</td>\n",
       "      <td>74.948164</td>\n",
       "      <td>197.342648</td>\n",
       "    </tr>\n",
       "    <tr>\n",
       "      <th>12</th>\n",
       "      <td>male</td>\n",
       "      <td>73.446197</td>\n",
       "      <td>193.475616</td>\n",
       "    </tr>\n",
       "    <tr>\n",
       "      <th>13</th>\n",
       "      <td>male</td>\n",
       "      <td>72.737184</td>\n",
       "      <td>227.051757</td>\n",
       "    </tr>\n",
       "    <tr>\n",
       "      <th>14</th>\n",
       "      <td>male</td>\n",
       "      <td>66.845185</td>\n",
       "      <td>177.649783</td>\n",
       "    </tr>\n",
       "    <tr>\n",
       "      <th>15</th>\n",
       "      <td>male</td>\n",
       "      <td>64.198452</td>\n",
       "      <td>175.692908</td>\n",
       "    </tr>\n",
       "    <tr>\n",
       "      <th>16</th>\n",
       "      <td>male</td>\n",
       "      <td>71.689806</td>\n",
       "      <td>179.577580</td>\n",
       "    </tr>\n",
       "    <tr>\n",
       "      <th>17</th>\n",
       "      <td>male</td>\n",
       "      <td>71.737827</td>\n",
       "      <td>216.866167</td>\n",
       "    </tr>\n",
       "    <tr>\n",
       "      <th>18</th>\n",
       "      <td>male</td>\n",
       "      <td>59.084200</td>\n",
       "      <td>164.440667</td>\n",
       "    </tr>\n",
       "    <tr>\n",
       "      <th>19</th>\n",
       "      <td>male</td>\n",
       "      <td>72.996953</td>\n",
       "      <td>172.637323</td>\n",
       "    </tr>\n",
       "    <tr>\n",
       "      <th>20</th>\n",
       "      <td>male</td>\n",
       "      <td>69.432582</td>\n",
       "      <td>145.829133</td>\n",
       "    </tr>\n",
       "    <tr>\n",
       "      <th>21</th>\n",
       "      <td>male</td>\n",
       "      <td>88.637946</td>\n",
       "      <td>186.874488</td>\n",
       "    </tr>\n",
       "    <tr>\n",
       "      <th>22</th>\n",
       "      <td>male</td>\n",
       "      <td>66.599163</td>\n",
       "      <td>182.025330</td>\n",
       "    </tr>\n",
       "    <tr>\n",
       "      <th>23</th>\n",
       "      <td>male</td>\n",
       "      <td>83.791883</td>\n",
       "      <td>203.121520</td>\n",
       "    </tr>\n",
       "    <tr>\n",
       "      <th>24</th>\n",
       "      <td>male</td>\n",
       "      <td>65.240202</td>\n",
       "      <td>208.928919</td>\n",
       "    </tr>\n",
       "    <tr>\n",
       "      <th>25</th>\n",
       "      <td>male</td>\n",
       "      <td>69.495064</td>\n",
       "      <td>220.601493</td>\n",
       "    </tr>\n",
       "    <tr>\n",
       "      <th>26</th>\n",
       "      <td>male</td>\n",
       "      <td>66.163830</td>\n",
       "      <td>188.404782</td>\n",
       "    </tr>\n",
       "    <tr>\n",
       "      <th>27</th>\n",
       "      <td>male</td>\n",
       "      <td>66.333108</td>\n",
       "      <td>184.956388</td>\n",
       "    </tr>\n",
       "    <tr>\n",
       "      <th>28</th>\n",
       "      <td>male</td>\n",
       "      <td>55.862335</td>\n",
       "      <td>171.597586</td>\n",
       "    </tr>\n",
       "    <tr>\n",
       "      <th>29</th>\n",
       "      <td>male</td>\n",
       "      <td>63.915417</td>\n",
       "      <td>147.236867</td>\n",
       "    </tr>\n",
       "    <tr>\n",
       "      <th>...</th>\n",
       "      <td>...</td>\n",
       "      <td>...</td>\n",
       "      <td>...</td>\n",
       "    </tr>\n",
       "    <tr>\n",
       "      <th>170</th>\n",
       "      <td>female</td>\n",
       "      <td>68.543614</td>\n",
       "      <td>155.421401</td>\n",
       "    </tr>\n",
       "    <tr>\n",
       "      <th>171</th>\n",
       "      <td>female</td>\n",
       "      <td>61.747940</td>\n",
       "      <td>167.960671</td>\n",
       "    </tr>\n",
       "    <tr>\n",
       "      <th>172</th>\n",
       "      <td>female</td>\n",
       "      <td>64.748871</td>\n",
       "      <td>175.939398</td>\n",
       "    </tr>\n",
       "    <tr>\n",
       "      <th>173</th>\n",
       "      <td>female</td>\n",
       "      <td>61.329863</td>\n",
       "      <td>176.979826</td>\n",
       "    </tr>\n",
       "    <tr>\n",
       "      <th>174</th>\n",
       "      <td>female</td>\n",
       "      <td>61.175283</td>\n",
       "      <td>141.481133</td>\n",
       "    </tr>\n",
       "    <tr>\n",
       "      <th>175</th>\n",
       "      <td>female</td>\n",
       "      <td>58.002015</td>\n",
       "      <td>158.414449</td>\n",
       "    </tr>\n",
       "    <tr>\n",
       "      <th>176</th>\n",
       "      <td>female</td>\n",
       "      <td>63.947123</td>\n",
       "      <td>167.028104</td>\n",
       "    </tr>\n",
       "    <tr>\n",
       "      <th>177</th>\n",
       "      <td>female</td>\n",
       "      <td>67.191855</td>\n",
       "      <td>173.707765</td>\n",
       "    </tr>\n",
       "    <tr>\n",
       "      <th>178</th>\n",
       "      <td>female</td>\n",
       "      <td>62.796463</td>\n",
       "      <td>171.820362</td>\n",
       "    </tr>\n",
       "    <tr>\n",
       "      <th>179</th>\n",
       "      <td>female</td>\n",
       "      <td>63.014140</td>\n",
       "      <td>180.436073</td>\n",
       "    </tr>\n",
       "    <tr>\n",
       "      <th>180</th>\n",
       "      <td>female</td>\n",
       "      <td>67.531727</td>\n",
       "      <td>162.191990</td>\n",
       "    </tr>\n",
       "    <tr>\n",
       "      <th>181</th>\n",
       "      <td>female</td>\n",
       "      <td>59.572584</td>\n",
       "      <td>154.241243</td>\n",
       "    </tr>\n",
       "    <tr>\n",
       "      <th>182</th>\n",
       "      <td>female</td>\n",
       "      <td>61.153044</td>\n",
       "      <td>137.317147</td>\n",
       "    </tr>\n",
       "    <tr>\n",
       "      <th>183</th>\n",
       "      <td>female</td>\n",
       "      <td>69.831665</td>\n",
       "      <td>174.497365</td>\n",
       "    </tr>\n",
       "    <tr>\n",
       "      <th>184</th>\n",
       "      <td>female</td>\n",
       "      <td>68.990706</td>\n",
       "      <td>138.485354</td>\n",
       "    </tr>\n",
       "    <tr>\n",
       "      <th>185</th>\n",
       "      <td>female</td>\n",
       "      <td>70.705432</td>\n",
       "      <td>147.983948</td>\n",
       "    </tr>\n",
       "    <tr>\n",
       "      <th>186</th>\n",
       "      <td>female</td>\n",
       "      <td>64.369401</td>\n",
       "      <td>168.637400</td>\n",
       "    </tr>\n",
       "    <tr>\n",
       "      <th>187</th>\n",
       "      <td>female</td>\n",
       "      <td>65.026432</td>\n",
       "      <td>176.127617</td>\n",
       "    </tr>\n",
       "    <tr>\n",
       "      <th>188</th>\n",
       "      <td>female</td>\n",
       "      <td>70.480650</td>\n",
       "      <td>143.072929</td>\n",
       "    </tr>\n",
       "    <tr>\n",
       "      <th>189</th>\n",
       "      <td>female</td>\n",
       "      <td>67.930513</td>\n",
       "      <td>192.309353</td>\n",
       "    </tr>\n",
       "    <tr>\n",
       "      <th>190</th>\n",
       "      <td>female</td>\n",
       "      <td>63.965544</td>\n",
       "      <td>167.842455</td>\n",
       "    </tr>\n",
       "    <tr>\n",
       "      <th>191</th>\n",
       "      <td>female</td>\n",
       "      <td>58.882154</td>\n",
       "      <td>171.898496</td>\n",
       "    </tr>\n",
       "    <tr>\n",
       "      <th>192</th>\n",
       "      <td>female</td>\n",
       "      <td>60.518150</td>\n",
       "      <td>176.874091</td>\n",
       "    </tr>\n",
       "    <tr>\n",
       "      <th>193</th>\n",
       "      <td>female</td>\n",
       "      <td>62.511319</td>\n",
       "      <td>162.403049</td>\n",
       "    </tr>\n",
       "    <tr>\n",
       "      <th>194</th>\n",
       "      <td>female</td>\n",
       "      <td>60.448173</td>\n",
       "      <td>142.309466</td>\n",
       "    </tr>\n",
       "    <tr>\n",
       "      <th>195</th>\n",
       "      <td>female</td>\n",
       "      <td>68.383583</td>\n",
       "      <td>154.878807</td>\n",
       "    </tr>\n",
       "    <tr>\n",
       "      <th>196</th>\n",
       "      <td>female</td>\n",
       "      <td>66.710557</td>\n",
       "      <td>179.261919</td>\n",
       "    </tr>\n",
       "    <tr>\n",
       "      <th>197</th>\n",
       "      <td>female</td>\n",
       "      <td>69.213221</td>\n",
       "      <td>161.131950</td>\n",
       "    </tr>\n",
       "    <tr>\n",
       "      <th>198</th>\n",
       "      <td>female</td>\n",
       "      <td>63.003248</td>\n",
       "      <td>141.083408</td>\n",
       "    </tr>\n",
       "    <tr>\n",
       "      <th>199</th>\n",
       "      <td>female</td>\n",
       "      <td>53.161588</td>\n",
       "      <td>156.425090</td>\n",
       "    </tr>\n",
       "  </tbody>\n",
       "</table>\n",
       "<p>200 rows × 3 columns</p>\n",
       "</div>"
      ],
      "text/plain": [
       "     gender     height      weight\n",
       "0      male  74.249291  147.931644\n",
       "1      male  65.081867  186.392897\n",
       "2      male  77.377552  157.925981\n",
       "3      male  68.931636  204.491722\n",
       "4      male  84.933495  180.824838\n",
       "5      male  57.633014  183.085132\n",
       "6      male  67.172285  183.808727\n",
       "7      male  74.234474  175.638349\n",
       "8      male  62.169078  137.816743\n",
       "9      male  68.925198  199.479544\n",
       "10     male  61.011971  172.168422\n",
       "11     male  74.948164  197.342648\n",
       "12     male  73.446197  193.475616\n",
       "13     male  72.737184  227.051757\n",
       "14     male  66.845185  177.649783\n",
       "15     male  64.198452  175.692908\n",
       "16     male  71.689806  179.577580\n",
       "17     male  71.737827  216.866167\n",
       "18     male  59.084200  164.440667\n",
       "19     male  72.996953  172.637323\n",
       "20     male  69.432582  145.829133\n",
       "21     male  88.637946  186.874488\n",
       "22     male  66.599163  182.025330\n",
       "23     male  83.791883  203.121520\n",
       "24     male  65.240202  208.928919\n",
       "25     male  69.495064  220.601493\n",
       "26     male  66.163830  188.404782\n",
       "27     male  66.333108  184.956388\n",
       "28     male  55.862335  171.597586\n",
       "29     male  63.915417  147.236867\n",
       "..      ...        ...         ...\n",
       "170  female  68.543614  155.421401\n",
       "171  female  61.747940  167.960671\n",
       "172  female  64.748871  175.939398\n",
       "173  female  61.329863  176.979826\n",
       "174  female  61.175283  141.481133\n",
       "175  female  58.002015  158.414449\n",
       "176  female  63.947123  167.028104\n",
       "177  female  67.191855  173.707765\n",
       "178  female  62.796463  171.820362\n",
       "179  female  63.014140  180.436073\n",
       "180  female  67.531727  162.191990\n",
       "181  female  59.572584  154.241243\n",
       "182  female  61.153044  137.317147\n",
       "183  female  69.831665  174.497365\n",
       "184  female  68.990706  138.485354\n",
       "185  female  70.705432  147.983948\n",
       "186  female  64.369401  168.637400\n",
       "187  female  65.026432  176.127617\n",
       "188  female  70.480650  143.072929\n",
       "189  female  67.930513  192.309353\n",
       "190  female  63.965544  167.842455\n",
       "191  female  58.882154  171.898496\n",
       "192  female  60.518150  176.874091\n",
       "193  female  62.511319  162.403049\n",
       "194  female  60.448173  142.309466\n",
       "195  female  68.383583  154.878807\n",
       "196  female  66.710557  179.261919\n",
       "197  female  69.213221  161.131950\n",
       "198  female  63.003248  141.083408\n",
       "199  female  53.161588  156.425090\n",
       "\n",
       "[200 rows x 3 columns]"
      ]
     },
     "execution_count": 38,
     "metadata": {},
     "output_type": "execute_result"
    }
   ],
   "source": [
    "data"
   ]
  },
  {
   "cell_type": "code",
   "execution_count": 39,
   "metadata": {},
   "outputs": [
    {
     "data": {
      "text/html": [
       "<div>\n",
       "<style scoped>\n",
       "    .dataframe tbody tr th:only-of-type {\n",
       "        vertical-align: middle;\n",
       "    }\n",
       "\n",
       "    .dataframe tbody tr th {\n",
       "        vertical-align: top;\n",
       "    }\n",
       "\n",
       "    .dataframe thead th {\n",
       "        text-align: right;\n",
       "    }\n",
       "</style>\n",
       "<table border=\"1\" class=\"dataframe\">\n",
       "  <thead>\n",
       "    <tr style=\"text-align: right;\">\n",
       "      <th></th>\n",
       "      <th>gender</th>\n",
       "      <th>height</th>\n",
       "      <th>weight</th>\n",
       "    </tr>\n",
       "  </thead>\n",
       "  <tbody>\n",
       "    <tr>\n",
       "      <th>0</th>\n",
       "      <td>male</td>\n",
       "      <td>74.249291</td>\n",
       "      <td>147.931644</td>\n",
       "    </tr>\n",
       "    <tr>\n",
       "      <th>1</th>\n",
       "      <td>male</td>\n",
       "      <td>65.081867</td>\n",
       "      <td>186.392897</td>\n",
       "    </tr>\n",
       "    <tr>\n",
       "      <th>2</th>\n",
       "      <td>male</td>\n",
       "      <td>77.377552</td>\n",
       "      <td>157.925981</td>\n",
       "    </tr>\n",
       "    <tr>\n",
       "      <th>3</th>\n",
       "      <td>male</td>\n",
       "      <td>68.931636</td>\n",
       "      <td>204.491722</td>\n",
       "    </tr>\n",
       "    <tr>\n",
       "      <th>4</th>\n",
       "      <td>male</td>\n",
       "      <td>84.933495</td>\n",
       "      <td>180.824838</td>\n",
       "    </tr>\n",
       "  </tbody>\n",
       "</table>\n",
       "</div>"
      ],
      "text/plain": [
       "  gender     height      weight\n",
       "0   male  74.249291  147.931644\n",
       "1   male  65.081867  186.392897\n",
       "2   male  77.377552  157.925981\n",
       "3   male  68.931636  204.491722\n",
       "4   male  84.933495  180.824838"
      ]
     },
     "execution_count": 39,
     "metadata": {},
     "output_type": "execute_result"
    }
   ],
   "source": [
    "data.head()"
   ]
  },
  {
   "cell_type": "markdown",
   "metadata": {},
   "source": [
    "# Review: methods with two types of output\n",
    "- iterative: stays the same shape with modified values\n",
    "- aggregative: condenses the data into a single value output\n",
    "- data.describe()"
   ]
  },
  {
   "cell_type": "code",
   "execution_count": 40,
   "metadata": {},
   "outputs": [
    {
     "data": {
      "text/html": [
       "<div>\n",
       "<style scoped>\n",
       "    .dataframe tbody tr th:only-of-type {\n",
       "        vertical-align: middle;\n",
       "    }\n",
       "\n",
       "    .dataframe tbody tr th {\n",
       "        vertical-align: top;\n",
       "    }\n",
       "\n",
       "    .dataframe thead th {\n",
       "        text-align: right;\n",
       "    }\n",
       "</style>\n",
       "<table border=\"1\" class=\"dataframe\">\n",
       "  <thead>\n",
       "    <tr style=\"text-align: right;\">\n",
       "      <th></th>\n",
       "      <th>height</th>\n",
       "      <th>weight</th>\n",
       "    </tr>\n",
       "  </thead>\n",
       "  <tbody>\n",
       "    <tr>\n",
       "      <th>count</th>\n",
       "      <td>200.000000</td>\n",
       "      <td>200.000000</td>\n",
       "    </tr>\n",
       "    <tr>\n",
       "      <th>mean</th>\n",
       "      <td>66.889632</td>\n",
       "      <td>177.805586</td>\n",
       "    </tr>\n",
       "    <tr>\n",
       "      <th>std</th>\n",
       "      <td>7.051053</td>\n",
       "      <td>24.890404</td>\n",
       "    </tr>\n",
       "    <tr>\n",
       "      <th>min</th>\n",
       "      <td>44.962736</td>\n",
       "      <td>126.827383</td>\n",
       "    </tr>\n",
       "    <tr>\n",
       "      <th>25%</th>\n",
       "      <td>62.128204</td>\n",
       "      <td>158.536100</td>\n",
       "    </tr>\n",
       "    <tr>\n",
       "      <th>50%</th>\n",
       "      <td>66.759956</td>\n",
       "      <td>176.002304</td>\n",
       "    </tr>\n",
       "    <tr>\n",
       "      <th>75%</th>\n",
       "      <td>70.881373</td>\n",
       "      <td>193.697210</td>\n",
       "    </tr>\n",
       "    <tr>\n",
       "      <th>max</th>\n",
       "      <td>88.637946</td>\n",
       "      <td>249.171318</td>\n",
       "    </tr>\n",
       "  </tbody>\n",
       "</table>\n",
       "</div>"
      ],
      "text/plain": [
       "           height      weight\n",
       "count  200.000000  200.000000\n",
       "mean    66.889632  177.805586\n",
       "std      7.051053   24.890404\n",
       "min     44.962736  126.827383\n",
       "25%     62.128204  158.536100\n",
       "50%     66.759956  176.002304\n",
       "75%     70.881373  193.697210\n",
       "max     88.637946  249.171318"
      ]
     },
     "execution_count": 40,
     "metadata": {},
     "output_type": "execute_result"
    }
   ],
   "source": [
    "data.describe()\n",
    "# does not include gender because it appears as a string"
   ]
  },
  {
   "cell_type": "code",
   "execution_count": 41,
   "metadata": {},
   "outputs": [
    {
     "data": {
      "text/html": [
       "<div>\n",
       "<style scoped>\n",
       "    .dataframe tbody tr th:only-of-type {\n",
       "        vertical-align: middle;\n",
       "    }\n",
       "\n",
       "    .dataframe tbody tr th {\n",
       "        vertical-align: top;\n",
       "    }\n",
       "\n",
       "    .dataframe thead tr th {\n",
       "        text-align: left;\n",
       "    }\n",
       "\n",
       "    .dataframe thead tr:last-of-type th {\n",
       "        text-align: right;\n",
       "    }\n",
       "</style>\n",
       "<table border=\"1\" class=\"dataframe\">\n",
       "  <thead>\n",
       "    <tr>\n",
       "      <th></th>\n",
       "      <th colspan=\"8\" halign=\"left\">height</th>\n",
       "      <th colspan=\"8\" halign=\"left\">weight</th>\n",
       "    </tr>\n",
       "    <tr>\n",
       "      <th></th>\n",
       "      <th>count</th>\n",
       "      <th>mean</th>\n",
       "      <th>std</th>\n",
       "      <th>min</th>\n",
       "      <th>25%</th>\n",
       "      <th>50%</th>\n",
       "      <th>75%</th>\n",
       "      <th>max</th>\n",
       "      <th>count</th>\n",
       "      <th>mean</th>\n",
       "      <th>std</th>\n",
       "      <th>min</th>\n",
       "      <th>25%</th>\n",
       "      <th>50%</th>\n",
       "      <th>75%</th>\n",
       "      <th>max</th>\n",
       "    </tr>\n",
       "    <tr>\n",
       "      <th>gender</th>\n",
       "      <th></th>\n",
       "      <th></th>\n",
       "      <th></th>\n",
       "      <th></th>\n",
       "      <th></th>\n",
       "      <th></th>\n",
       "      <th></th>\n",
       "      <th></th>\n",
       "      <th></th>\n",
       "      <th></th>\n",
       "      <th></th>\n",
       "      <th></th>\n",
       "      <th></th>\n",
       "      <th></th>\n",
       "      <th></th>\n",
       "      <th></th>\n",
       "    </tr>\n",
       "  </thead>\n",
       "  <tbody>\n",
       "    <tr>\n",
       "      <th>female</th>\n",
       "      <td>100.0</td>\n",
       "      <td>65.061001</td>\n",
       "      <td>4.645949</td>\n",
       "      <td>53.161588</td>\n",
       "      <td>61.809962</td>\n",
       "      <td>64.832494</td>\n",
       "      <td>68.315136</td>\n",
       "      <td>74.214350</td>\n",
       "      <td>100.0</td>\n",
       "      <td>164.605746</td>\n",
       "      <td>15.168623</td>\n",
       "      <td>129.178661</td>\n",
       "      <td>154.768409</td>\n",
       "      <td>166.132060</td>\n",
       "      <td>175.970851</td>\n",
       "      <td>202.365477</td>\n",
       "    </tr>\n",
       "    <tr>\n",
       "      <th>male</th>\n",
       "      <td>100.0</td>\n",
       "      <td>68.718264</td>\n",
       "      <td>8.461484</td>\n",
       "      <td>44.962736</td>\n",
       "      <td>63.520589</td>\n",
       "      <td>68.454633</td>\n",
       "      <td>73.610498</td>\n",
       "      <td>88.637946</td>\n",
       "      <td>100.0</td>\n",
       "      <td>191.005425</td>\n",
       "      <td>25.753521</td>\n",
       "      <td>126.827383</td>\n",
       "      <td>176.820265</td>\n",
       "      <td>190.800778</td>\n",
       "      <td>208.045377</td>\n",
       "      <td>249.171318</td>\n",
       "    </tr>\n",
       "  </tbody>\n",
       "</table>\n",
       "</div>"
      ],
      "text/plain": [
       "       height                                                        \\\n",
       "        count       mean       std        min        25%        50%   \n",
       "gender                                                                \n",
       "female  100.0  65.061001  4.645949  53.161588  61.809962  64.832494   \n",
       "male    100.0  68.718264  8.461484  44.962736  63.520589  68.454633   \n",
       "\n",
       "                             weight                                     \\\n",
       "              75%        max  count        mean        std         min   \n",
       "gender                                                                   \n",
       "female  68.315136  74.214350  100.0  164.605746  15.168623  129.178661   \n",
       "male    73.610498  88.637946  100.0  191.005425  25.753521  126.827383   \n",
       "\n",
       "                                                        \n",
       "               25%         50%         75%         max  \n",
       "gender                                                  \n",
       "female  154.768409  166.132060  175.970851  202.365477  \n",
       "male    176.820265  190.800778  208.045377  249.171318  "
      ]
     },
     "execution_count": 41,
     "metadata": {},
     "output_type": "execute_result"
    }
   ],
   "source": [
    "# now, lets include gender as a grouping\n",
    "data.groupby('gender').describe()"
   ]
  },
  {
   "cell_type": "code",
   "execution_count": 42,
   "metadata": {},
   "outputs": [
    {
     "data": {
      "text/plain": [
       "female    100\n",
       "male      100\n",
       "Name: gender, dtype: int64"
      ]
     },
     "execution_count": 42,
     "metadata": {},
     "output_type": "execute_result"
    }
   ],
   "source": [
    "# counts of distinct strings as values\n",
    "data.gender.value_counts()"
   ]
  },
  {
   "cell_type": "code",
   "execution_count": null,
   "metadata": {},
   "outputs": [],
   "source": []
  }
 ],
 "metadata": {
  "kernelspec": {
   "display_name": "Python 3",
   "language": "python",
   "name": "python3"
  },
  "language_info": {
   "codemirror_mode": {
    "name": "ipython",
    "version": 3
   },
   "file_extension": ".py",
   "mimetype": "text/x-python",
   "name": "python",
   "nbconvert_exporter": "python",
   "pygments_lexer": "ipython3",
   "version": "3.6.5"
  }
 },
 "nbformat": 4,
 "nbformat_minor": 2
}
