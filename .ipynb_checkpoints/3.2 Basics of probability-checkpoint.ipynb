{
 "cells": [
  {
   "cell_type": "markdown",
   "metadata": {},
   "source": [
    "### 2 broad schools of thought about probability in stats\n",
    "#### Frequentist\n",
    "- how often a particular outcome would occur in an experiment if it were repeated over and over\n",
    "- try to calculate likelihood of fixed \"true\" population value\n",
    "#### Bayesian\n",
    "- how likely an observer can expect an outcome to happen in the future\n",
    "    - based on previous experience/knowledge\n",
    "    - these predictions may change over time as experiences are acquired\n",
    "    - prior probability: the prob based on previous experiences\n",
    "    - posterior probability: updated based on the newest expt\n",
    "- try to calculate most likely population value\n",
    "\n",
    "\n",
    "* the more variability in a population = the larger the sample needed for confidence\n",
    "\n",
    "### Independence vs dependence\n",
    "#### Independent\n",
    "- the prob of two or more independent events can be calculated by multiplying the probabilities of each event\n",
    "Ex. using 5 red and 5 blue marbles; each time one is drawn, it is replaced\n",
    "P(red n blue) = P(red) * P(blue) = 1/2 * 1/2 = 1/4\n",
    "\n",
    "#### Dependent, or conditional\n",
    "Ex. in the marble scenario above, you take a blue  marble out and do not put back in the bag\n",
    "P(red | blue) = 5/9\n",
    "- The '|' symbol means \"given, so P(red | blue) means \"the probability of red given blue\"\n",
    "\n",
    "\n",
    "To calculate conditional events:\n",
    "P(a n B) = P(A) * P(B | A)\n",
    "\n",
    "Ex. drawing 2 blue marbles in a row w/out replacement\n",
    "P(blue) * P(blue | blue) = 1/2 * 4/9 = 2/9\n",
    "\n",
    "\n",
    "\n",
    "### Bayes Rule\n",
    "P(A | B) = P(B | A) * P(A) / P(B)\n",
    "- The probability of A given B equals the probability of B given A times the probability of A divided by the probability of B\n",
    "- basically the result of a chance of a true positive divided by the chance of any positive\n",
    "\n",
    "Q: Revisit bayes rule and disease example\n",
    "\n",
    "\n",
    "\n",
    "##### Intuition of Bayes' rule by: https://betterexplained.com/articles/an-intuitive-and-short-explanation-of-bayes-theorem/\n",
    "- Tests are not the event\n",
    "    - ex. a cancer test is separate from the event of having cancer\n",
    "- Tests are imperfect\n",
    "    - false positive: detect things that don't exist\n",
    "    - false negative: does not detect things that do exist\n",
    "- False positives skew results\n",
    "    - something rare (1 in a million) testing positive would most likely be a result in a false positive in the 999,999 people even with a great test\n",
    "        -i.e. a rare diesase means most of the positive test results are wrong\n",
    "- Use natural numbers\n",
    "    - ex. saying 100 in 10,000 instead of 1%. Of those 100, 80 will test postive (instead of 80% of the 1% will test positive)\n",
    "- conclusion: Bayes' theorem lets us look at skewed results and correct for errors to find the real chance of a true positive\n",
    "    "
   ]
  },
  {
   "cell_type": "code",
   "execution_count": null,
   "metadata": {},
   "outputs": [],
   "source": []
  }
 ],
 "metadata": {
  "kernelspec": {
   "display_name": "Python 3",
   "language": "python",
   "name": "python3"
  },
  "language_info": {
   "codemirror_mode": {
    "name": "ipython",
    "version": 3
   },
   "file_extension": ".py",
   "mimetype": "text/x-python",
   "name": "python",
   "nbconvert_exporter": "python",
   "pygments_lexer": "ipython3",
   "version": "3.6.5"
  }
 },
 "nbformat": 4,
 "nbformat_minor": 2
}
