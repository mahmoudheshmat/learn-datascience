{
 "cells": [
  {
   "cell_type": "code",
   "execution_count": 1,
   "metadata": {
    "run_control": {
     "frozen": false,
     "read_only": false
    }
   },
   "outputs": [],
   "source": [
    "import math\n",
    "import warnings\n",
    "\n",
    "from IPython.display import display\n",
    "from matplotlib import pyplot as plt\n",
    "import numpy as np\n",
    "import pandas as pd\n",
    "import seaborn as sns\n",
    "from sklearn import linear_model\n",
    "import statsmodels.formula.api as smf\n",
    "\n",
    "# Display preferences.\n",
    "%matplotlib inline\n",
    "pd.options.display.float_format = '{:.3f}'.format\n",
    "\n",
    "# Suppress annoying harmless error.\n",
    "warnings.filterwarnings(\n",
    "    action=\"ignore\",\n",
    "    module=\"scipy\",\n",
    "    message=\"^internal gelsd\"\n",
    ")"
   ]
  },
  {
   "cell_type": "markdown",
   "metadata": {
    "run_control": {
     "frozen": false,
     "read_only": false
    }
   },
   "source": [
    "## The Extraordinary Power of Explanatory Power\n",
    "\n",
    "The strength of multiple linear regression lies in its ability to provide straightforward and interpretable solutions that not only predict future outcomes, but also provide insight into the underlying processes that create these outcomes.  For example, after fitting the following model:\n",
    "\n",
    "$$HourlyWidgetProduction = \\alpha + \\beta_1WorkerAgeFrom18+ \\beta_2WorkerYearsinJob + \\beta_3IsRoundWidget$$\n",
    "\n",
    "we get these parameters:\n",
    "$$\\alpha = 2$$\n",
    "$$\\beta_1 = .1$$\n",
    "$$\\beta_2 = .2$$\n",
    "$$\\beta_3 = 4$$\n",
    "\n",
    "Using those parameters, we learn that round widgets are twice as fast to produce as non-round widgets. We can tell because $\\alpha$ represents the intercept, the hourly rate of production for widgets that are not round (2 an hour) and $\\beta_3$ represents the difference between the intercept and the hourly rate of production for round widgets (also 2 an hour, for a total of 4 round widgets an hour).\n",
    "\n",
    "We also learn that for every year a worker ages after the age of 18, their hourly production-rate goes up by .1 ($\\beta_1$).  In addition, for every year a worker has been in that job, their hourly production-rate goes up by .2 ($\\beta_2$).  \n",
    "\n",
    "Furthermore, using this model, we can predict that a 20-year-old worker who has been in the job for a year and is making only round widgets will make $2 + .1*2 + .2*1 + 4 = 6.3$ round widgets an hour.\n",
    "\n",
    "Finally, and probably of greatest interest, we get an **R-Squared** value.  This is a proportion (between 0 and 1) that expresses how much variance in the outcome variable our model was able to explain.  Higher $R^2$ values are better to a point-- a low $R^2$ indicates that our model isn't explaining much information about the outcome, which means it will not give very good predictions.  However, a very high $R^2$ is a warning sign for overfitting.  No dataset is a perfect representation of reality, so a model that perfectly fits our data ($R^2$ of 1 or close to 1) is likely to be biased by quirks in the data, and will perform less well on the test-set.\n",
    "\n",
    "Here's an example using a toy advertising dataset:\n"
   ]
  },
  {
   "cell_type": "code",
   "execution_count": 2,
   "metadata": {
    "run_control": {
     "frozen": false,
     "read_only": false
    }
   },
   "outputs": [
    {
     "data": {
      "text/html": [
       "<div>\n",
       "<style scoped>\n",
       "    .dataframe tbody tr th:only-of-type {\n",
       "        vertical-align: middle;\n",
       "    }\n",
       "\n",
       "    .dataframe tbody tr th {\n",
       "        vertical-align: top;\n",
       "    }\n",
       "\n",
       "    .dataframe thead th {\n",
       "        text-align: right;\n",
       "    }\n",
       "</style>\n",
       "<table border=\"1\" class=\"dataframe\">\n",
       "  <thead>\n",
       "    <tr style=\"text-align: right;\">\n",
       "      <th></th>\n",
       "      <th>Unnamed: 0</th>\n",
       "      <th>TV</th>\n",
       "      <th>Radio</th>\n",
       "      <th>Newspaper</th>\n",
       "      <th>Sales</th>\n",
       "    </tr>\n",
       "  </thead>\n",
       "  <tbody>\n",
       "    <tr>\n",
       "      <th>0</th>\n",
       "      <td>1</td>\n",
       "      <td>230.100</td>\n",
       "      <td>37.800</td>\n",
       "      <td>69.200</td>\n",
       "      <td>22.100</td>\n",
       "    </tr>\n",
       "    <tr>\n",
       "      <th>1</th>\n",
       "      <td>2</td>\n",
       "      <td>44.500</td>\n",
       "      <td>39.300</td>\n",
       "      <td>45.100</td>\n",
       "      <td>10.400</td>\n",
       "    </tr>\n",
       "    <tr>\n",
       "      <th>2</th>\n",
       "      <td>3</td>\n",
       "      <td>17.200</td>\n",
       "      <td>45.900</td>\n",
       "      <td>69.300</td>\n",
       "      <td>9.300</td>\n",
       "    </tr>\n",
       "    <tr>\n",
       "      <th>3</th>\n",
       "      <td>4</td>\n",
       "      <td>151.500</td>\n",
       "      <td>41.300</td>\n",
       "      <td>58.500</td>\n",
       "      <td>18.500</td>\n",
       "    </tr>\n",
       "    <tr>\n",
       "      <th>4</th>\n",
       "      <td>5</td>\n",
       "      <td>180.800</td>\n",
       "      <td>10.800</td>\n",
       "      <td>58.400</td>\n",
       "      <td>12.900</td>\n",
       "    </tr>\n",
       "  </tbody>\n",
       "</table>\n",
       "</div>"
      ],
      "text/plain": [
       "   Unnamed: 0      TV  Radio  Newspaper  Sales\n",
       "0           1 230.100 37.800     69.200 22.100\n",
       "1           2  44.500 39.300     45.100 10.400\n",
       "2           3  17.200 45.900     69.300  9.300\n",
       "3           4 151.500 41.300     58.500 18.500\n",
       "4           5 180.800 10.800     58.400 12.900"
      ]
     },
     "metadata": {},
     "output_type": "display_data"
    },
    {
     "name": "stdout",
     "output_type": "stream",
     "text": [
      "\n",
      "Coefficients: \n",
      " [[ 0.04576465  0.18853002 -0.00103749]]\n",
      "\n",
      "Intercept: \n",
      " [2.93888937]\n",
      "\n",
      "R-squared:\n",
      "0.8972106381789521\n"
     ]
    }
   ],
   "source": [
    "# Acquire, load, and preview the data.\n",
    "data = pd.read_csv('https://tf-curricula-prod.s3.amazonaws.com/data-science/Advertising.csv')\n",
    "display(data.head())\n",
    "\n",
    "# Instantiate and fit our model.\n",
    "regr = linear_model.LinearRegression()\n",
    "Y = data['Sales'].values.reshape(-1, 1)\n",
    "X = data[['TV','Radio','Newspaper']]\n",
    "regr.fit(X, Y)\n",
    "\n",
    "# Inspect the results.\n",
    "print('\\nCoefficients: \\n', regr.coef_)\n",
    "print('\\nIntercept: \\n', regr.intercept_)\n",
    "print('\\nR-squared:')\n",
    "print(regr.score(X, Y))"
   ]
  },
  {
   "cell_type": "markdown",
   "metadata": {
    "run_control": {
     "frozen": false,
     "read_only": false
    }
   },
   "source": [
    "The model where the outcome Sales is predicted by the features TV, Radio, and Newspaper explains 89.7% of the variance in Sales.  Note that we don't know from these results how much of that variance is explained by each of the three features.  Looking at the coefficients, there appears to be a base rate of Sales that happen even with no ads in any medium (intercept: 2.939) and sales have the highest per-unit increase when ads are on the radio (0.189).  "
   ]
  },
  {
   "cell_type": "markdown",
   "metadata": {
    "run_control": {
     "frozen": false,
     "read_only": false
    }
   },
   "source": [
    "## Assumptions of Multivariable Linear Regression\n",
    "\n",
    "For regression to work its magic, inputs to the model need to be consistent with four assumptions:\n",
    "\n",
    "\n",
    "### Assumption one: linear relationship\n",
    "\n",
    "As mentioned earlier, features in a regression need to have a linear relationship with the outcome.  If the relationship is non-linear, the regression model will try to find any hint of a linear relationship, and only explain that – with predictable consequences for the validity of the model.\n",
    "\n",
    "Sometimes this can be fixed by applying a non-linear transformation function to a feature.  For example, if the relationship between feature and outcome is quadratic and all feature scores are > 0, we can take the square root of the features, resulting in a linear relationship between the outcome and sqrt(feature).  \n"
   ]
  },
  {
   "cell_type": "code",
   "execution_count": 3,
   "metadata": {
    "run_control": {
     "frozen": false,
     "read_only": false
    }
   },
   "outputs": [
    {
     "data": {
      "image/png": "[encoded data removed]",
      "text/plain": [
       "<Figure size 432x288 with 1 Axes>"
      ]
     },
     "metadata": {},
     "output_type": "display_data"
    },
    {
     "data": {
      "image/png": "[encoded data removed]",
      "text/plain": [
       "<Figure size 432x288 with 1 Axes>"
      ]
     },
     "metadata": {},
     "output_type": "display_data"
    }
   ],
   "source": [
    "# Sample data.\n",
    "outcome = [1, 2, 3, 4, 5, 6, 7, 8, 9, 10, 11, 12]\n",
    "feature = [3, 4, 10, 16, 25, 33, 49, 60, 85, 100, 130, 140]\n",
    "\n",
    "# Plot the data as-is. Looks a mite quadratic.\n",
    "plt.scatter(outcome, feature)\n",
    "plt.title('Raw values')\n",
    "plt.show()\n",
    "\n",
    "# Create a feature using a non-linear transformation.\n",
    "sqrt_feature = [math.sqrt(x) for x in  feature]\n",
    "\n",
    "\n",
    "# Well now isn't that nice.\n",
    "plt.scatter(outcome, sqrt_feature)\n",
    "plt.title('Transformed values')\n",
    "plt.show()"
   ]
  },
  {
   "cell_type": "markdown",
   "metadata": {
    "run_control": {
     "frozen": false,
     "read_only": false
    }
   },
   "source": [
    "When interpreting features with non-linear transformations, it is important to keep the transformation in mind.  For example, in the equation $y = 2log({x})$, y increases by one unit for every two-unit increase in $log({x})$.  The relationship between y and x, however, is non-linear, and the amount of change in y varies based on the absolute value of x:\n",
    "\n",
    "|x\t|log(x)|\ty|\n",
    "|--|--|--|\n",
    "|1\t|0\t|0|\n",
    "|10\t|1\t|2|\n",
    "|100\t|2\t|4|\t\n",
    "|1000|\t3\t|6|\n",
    "\n",
    "So a one-unit change in x from 1 to 2 will result in a much greater change in y than a one-unit change in x from 100 to 101.\n",
    "\n",
    "There are many variable transformations.  For a deep dive, check out the Variable Linearization section of [Fifty Ways to Fix Your Data](https://statswithcats.wordpress.com/2010/11/21/fifty-ways-to-fix-your-data/).\n",
    "\n",
    "### Assumption two: multivariate normality\n",
    "\n",
    "The error from the model (calculated by subtracting the model-predicted values from the real outcome values) should be normally distributed.  Since ordinary least squares regression models are fitted by choosing the parameters that best minimize error, skewness or outliers in the error can result in serious miss-estimations.\n",
    "\n",
    "Outliers or skewness in error can often be traced back to outliers or skewness in data.  "
   ]
  },
  {
   "cell_type": "code",
   "execution_count": 4,
   "metadata": {
    "run_control": {
     "frozen": false,
     "read_only": false
    }
   },
   "outputs": [
    {
     "data": {
      "image/png": "[encoded data removed]",
      "text/plain": [
       "<Figure size 432x288 with 1 Axes>"
      ]
     },
     "metadata": {},
     "output_type": "display_data"
    }
   ],
   "source": [
    "# Extract predicted values.\n",
    "predicted = regr.predict(X).ravel()\n",
    "actual = data['Sales']\n",
    "\n",
    "# Calculate the error, also called the residual.\n",
    "residual = actual - predicted\n",
    "\n",
    "# This looks a bit concerning.\n",
    "plt.hist(residual)\n",
    "plt.title('Residual counts')\n",
    "plt.xlabel('Residual')\n",
    "plt.ylabel('Count')\n",
    "plt.show()"
   ]
  },
  {
   "cell_type": "markdown",
   "metadata": {
    "run_control": {
     "frozen": false,
     "read_only": false
    }
   },
   "source": [
    "\n",
    "### Assumption three: homoscedasticity\n",
    "\n",
    "The distribution of your error terms (its \"scedasticity\"), should be consistent for all predicted values, or **homoscedastic**.\n",
    "\n",
    "For example, if your error terms aren't consistently distributed and you have more variance in the error for large outcome values than for small ones, then the confidence interval for large predicted values will be too small because it will be based on the average error variance.  This leads to overconfidence in the accuracy of your model's predictions.\n",
    "\n",
    "Some fixes to heteroscedasticity include transforming the dependent variable and adding features that target the poorly-estimated areas. For example, if a model tracks data over time and model error variance jumps in the September to November period, a binary feature indicating season may be enough to resolve the problem."
   ]
  },
  {
   "cell_type": "code",
   "execution_count": 5,
   "metadata": {
    "run_control": {
     "frozen": false,
     "read_only": false
    }
   },
   "outputs": [
    {
     "data": {
      "image/png": "[encoded data removed]",
      "text/plain": [
       "<Figure size 432x288 with 1 Axes>"
      ]
     },
     "metadata": {},
     "output_type": "display_data"
    }
   ],
   "source": [
    "plt.scatter(predicted, residual)\n",
    "plt.xlabel('Predicted')\n",
    "plt.ylabel('Residual')\n",
    "plt.axhline(y=0)\n",
    "plt.title('Residual vs. Predicted')\n",
    "plt.show()\n",
    "\n",
    "# Hm... looks a bit concerning."
   ]
  },
  {
   "cell_type": "markdown",
   "metadata": {
    "run_control": {
     "frozen": false,
     "read_only": false
    }
   },
   "source": [
    "### Assumption four: low multicollinearity\n",
    "\n",
    "Correlations among features should be low or nonexistent.  When features are correlated, they may both explain the same pattern of variance in the outcome.  The model will attempt to find a solution, potentially by attributing half the explanatory power to one feature and half to the other.  This isn’t a problem if our only goal is prediction, because then all that matters is that the variance gets explained.  However, if we want to know which features matter most when predicting an outcome, multicollinearity can cause us to underestimate the relationship between features and outcomes.\n",
    "\n",
    "Multicollinearity can be fixed by PCA or by discarding some of the correlated features."
   ]
  },
  {
   "cell_type": "code",
   "execution_count": 6,
   "metadata": {
    "run_control": {
     "frozen": false,
     "read_only": false
    }
   },
   "outputs": [
    {
     "data": {
      "text/html": [
       "<div>\n",
       "<style scoped>\n",
       "    .dataframe tbody tr th:only-of-type {\n",
       "        vertical-align: middle;\n",
       "    }\n",
       "\n",
       "    .dataframe tbody tr th {\n",
       "        vertical-align: top;\n",
       "    }\n",
       "\n",
       "    .dataframe thead th {\n",
       "        text-align: right;\n",
       "    }\n",
       "</style>\n",
       "<table border=\"1\" class=\"dataframe\">\n",
       "  <thead>\n",
       "    <tr style=\"text-align: right;\">\n",
       "      <th></th>\n",
       "      <th>TV</th>\n",
       "      <th>Radio</th>\n",
       "      <th>Newspaper</th>\n",
       "    </tr>\n",
       "  </thead>\n",
       "  <tbody>\n",
       "    <tr>\n",
       "      <th>TV</th>\n",
       "      <td>1.000</td>\n",
       "      <td>0.055</td>\n",
       "      <td>0.057</td>\n",
       "    </tr>\n",
       "    <tr>\n",
       "      <th>Radio</th>\n",
       "      <td>0.055</td>\n",
       "      <td>1.000</td>\n",
       "      <td>0.354</td>\n",
       "    </tr>\n",
       "    <tr>\n",
       "      <th>Newspaper</th>\n",
       "      <td>0.057</td>\n",
       "      <td>0.354</td>\n",
       "      <td>1.000</td>\n",
       "    </tr>\n",
       "  </tbody>\n",
       "</table>\n",
       "</div>"
      ],
      "text/plain": [
       "             TV  Radio  Newspaper\n",
       "TV        1.000  0.055      0.057\n",
       "Radio     0.055  1.000      0.354\n",
       "Newspaper 0.057  0.354      1.000"
      ]
     },
     "metadata": {},
     "output_type": "display_data"
    }
   ],
   "source": [
    "correlation_matrix = X.corr()\n",
    "display(correlation_matrix)"
   ]
  },
  {
   "cell_type": "markdown",
   "metadata": {},
   "source": [
    "## Drill: fixing assumptions\n",
    "\n",
    "Judging from the diagnostic plots, your data has a problem with both heteroscedasticity and multivariate non-normality.  Use the cell(s) below to see what you can do to fix it."
   ]
  },
  {
   "cell_type": "code",
   "execution_count": 7,
   "metadata": {
    "run_control": {
     "frozen": false,
     "read_only": false
    }
   },
   "outputs": [],
   "source": [
    "# Your code here.\n",
    "from sklearn.decomposition import PCA\n"
   ]
  },
  {
   "cell_type": "code",
   "execution_count": 8,
   "metadata": {},
   "outputs": [],
   "source": [
    "pca = PCA(n_components=1)"
   ]
  },
  {
   "cell_type": "code",
   "execution_count": 9,
   "metadata": {},
   "outputs": [
    {
     "data": {
      "text/plain": [
       "PCA(copy=True, iterated_power='auto', n_components=1, random_state=None,\n",
       "  svd_solver='auto', tol=0.0, whiten=False)"
      ]
     },
     "execution_count": 9,
     "metadata": {},
     "output_type": "execute_result"
    }
   ],
   "source": [
    "pca.fit(X)"
   ]
  },
  {
   "cell_type": "code",
   "execution_count": 10,
   "metadata": {},
   "outputs": [],
   "source": [
    "xpca = pca.fit_transform(X)"
   ]
  },
  {
   "cell_type": "code",
   "execution_count": 11,
   "metadata": {
    "scrolled": true
   },
   "outputs": [
    {
     "data": {
      "text/html": [
       "<div>\n",
       "<style scoped>\n",
       "    .dataframe tbody tr th:only-of-type {\n",
       "        vertical-align: middle;\n",
       "    }\n",
       "\n",
       "    .dataframe tbody tr th {\n",
       "        vertical-align: top;\n",
       "    }\n",
       "\n",
       "    .dataframe thead th {\n",
       "        text-align: right;\n",
       "    }\n",
       "</style>\n",
       "<table border=\"1\" class=\"dataframe\">\n",
       "  <thead>\n",
       "    <tr style=\"text-align: right;\">\n",
       "      <th></th>\n",
       "      <th>TV</th>\n",
       "      <th>Radio</th>\n",
       "      <th>Newspaper</th>\n",
       "    </tr>\n",
       "  </thead>\n",
       "  <tbody>\n",
       "    <tr>\n",
       "      <th>0</th>\n",
       "      <td>230.100</td>\n",
       "      <td>37.800</td>\n",
       "      <td>69.200</td>\n",
       "    </tr>\n",
       "    <tr>\n",
       "      <th>1</th>\n",
       "      <td>44.500</td>\n",
       "      <td>39.300</td>\n",
       "      <td>45.100</td>\n",
       "    </tr>\n",
       "    <tr>\n",
       "      <th>2</th>\n",
       "      <td>17.200</td>\n",
       "      <td>45.900</td>\n",
       "      <td>69.300</td>\n",
       "    </tr>\n",
       "    <tr>\n",
       "      <th>3</th>\n",
       "      <td>151.500</td>\n",
       "      <td>41.300</td>\n",
       "      <td>58.500</td>\n",
       "    </tr>\n",
       "    <tr>\n",
       "      <th>4</th>\n",
       "      <td>180.800</td>\n",
       "      <td>10.800</td>\n",
       "      <td>58.400</td>\n",
       "    </tr>\n",
       "    <tr>\n",
       "      <th>5</th>\n",
       "      <td>8.700</td>\n",
       "      <td>48.900</td>\n",
       "      <td>75.000</td>\n",
       "    </tr>\n",
       "    <tr>\n",
       "      <th>6</th>\n",
       "      <td>57.500</td>\n",
       "      <td>32.800</td>\n",
       "      <td>23.500</td>\n",
       "    </tr>\n",
       "    <tr>\n",
       "      <th>7</th>\n",
       "      <td>120.200</td>\n",
       "      <td>19.600</td>\n",
       "      <td>11.600</td>\n",
       "    </tr>\n",
       "    <tr>\n",
       "      <th>8</th>\n",
       "      <td>8.600</td>\n",
       "      <td>2.100</td>\n",
       "      <td>1.000</td>\n",
       "    </tr>\n",
       "    <tr>\n",
       "      <th>9</th>\n",
       "      <td>199.800</td>\n",
       "      <td>2.600</td>\n",
       "      <td>21.200</td>\n",
       "    </tr>\n",
       "    <tr>\n",
       "      <th>10</th>\n",
       "      <td>66.100</td>\n",
       "      <td>5.800</td>\n",
       "      <td>24.200</td>\n",
       "    </tr>\n",
       "    <tr>\n",
       "      <th>11</th>\n",
       "      <td>214.700</td>\n",
       "      <td>24.000</td>\n",
       "      <td>4.000</td>\n",
       "    </tr>\n",
       "    <tr>\n",
       "      <th>12</th>\n",
       "      <td>23.800</td>\n",
       "      <td>35.100</td>\n",
       "      <td>65.900</td>\n",
       "    </tr>\n",
       "    <tr>\n",
       "      <th>13</th>\n",
       "      <td>97.500</td>\n",
       "      <td>7.600</td>\n",
       "      <td>7.200</td>\n",
       "    </tr>\n",
       "    <tr>\n",
       "      <th>14</th>\n",
       "      <td>204.100</td>\n",
       "      <td>32.900</td>\n",
       "      <td>46.000</td>\n",
       "    </tr>\n",
       "    <tr>\n",
       "      <th>15</th>\n",
       "      <td>195.400</td>\n",
       "      <td>47.700</td>\n",
       "      <td>52.900</td>\n",
       "    </tr>\n",
       "    <tr>\n",
       "      <th>16</th>\n",
       "      <td>67.800</td>\n",
       "      <td>36.600</td>\n",
       "      <td>114.000</td>\n",
       "    </tr>\n",
       "    <tr>\n",
       "      <th>17</th>\n",
       "      <td>281.400</td>\n",
       "      <td>39.600</td>\n",
       "      <td>55.800</td>\n",
       "    </tr>\n",
       "    <tr>\n",
       "      <th>18</th>\n",
       "      <td>69.200</td>\n",
       "      <td>20.500</td>\n",
       "      <td>18.300</td>\n",
       "    </tr>\n",
       "    <tr>\n",
       "      <th>19</th>\n",
       "      <td>147.300</td>\n",
       "      <td>23.900</td>\n",
       "      <td>19.100</td>\n",
       "    </tr>\n",
       "    <tr>\n",
       "      <th>20</th>\n",
       "      <td>218.400</td>\n",
       "      <td>27.700</td>\n",
       "      <td>53.400</td>\n",
       "    </tr>\n",
       "    <tr>\n",
       "      <th>21</th>\n",
       "      <td>237.400</td>\n",
       "      <td>5.100</td>\n",
       "      <td>23.500</td>\n",
       "    </tr>\n",
       "    <tr>\n",
       "      <th>22</th>\n",
       "      <td>13.200</td>\n",
       "      <td>15.900</td>\n",
       "      <td>49.600</td>\n",
       "    </tr>\n",
       "    <tr>\n",
       "      <th>23</th>\n",
       "      <td>228.300</td>\n",
       "      <td>16.900</td>\n",
       "      <td>26.200</td>\n",
       "    </tr>\n",
       "    <tr>\n",
       "      <th>24</th>\n",
       "      <td>62.300</td>\n",
       "      <td>12.600</td>\n",
       "      <td>18.300</td>\n",
       "    </tr>\n",
       "    <tr>\n",
       "      <th>25</th>\n",
       "      <td>262.900</td>\n",
       "      <td>3.500</td>\n",
       "      <td>19.500</td>\n",
       "    </tr>\n",
       "    <tr>\n",
       "      <th>26</th>\n",
       "      <td>142.900</td>\n",
       "      <td>29.300</td>\n",
       "      <td>12.600</td>\n",
       "    </tr>\n",
       "    <tr>\n",
       "      <th>27</th>\n",
       "      <td>240.100</td>\n",
       "      <td>16.700</td>\n",
       "      <td>22.900</td>\n",
       "    </tr>\n",
       "    <tr>\n",
       "      <th>28</th>\n",
       "      <td>248.800</td>\n",
       "      <td>27.100</td>\n",
       "      <td>22.900</td>\n",
       "    </tr>\n",
       "    <tr>\n",
       "      <th>29</th>\n",
       "      <td>70.600</td>\n",
       "      <td>16.000</td>\n",
       "      <td>40.800</td>\n",
       "    </tr>\n",
       "    <tr>\n",
       "      <th>...</th>\n",
       "      <td>...</td>\n",
       "      <td>...</td>\n",
       "      <td>...</td>\n",
       "    </tr>\n",
       "    <tr>\n",
       "      <th>170</th>\n",
       "      <td>50.000</td>\n",
       "      <td>11.600</td>\n",
       "      <td>18.400</td>\n",
       "    </tr>\n",
       "    <tr>\n",
       "      <th>171</th>\n",
       "      <td>164.500</td>\n",
       "      <td>20.900</td>\n",
       "      <td>47.400</td>\n",
       "    </tr>\n",
       "    <tr>\n",
       "      <th>172</th>\n",
       "      <td>19.600</td>\n",
       "      <td>20.100</td>\n",
       "      <td>17.000</td>\n",
       "    </tr>\n",
       "    <tr>\n",
       "      <th>173</th>\n",
       "      <td>168.400</td>\n",
       "      <td>7.100</td>\n",
       "      <td>12.800</td>\n",
       "    </tr>\n",
       "    <tr>\n",
       "      <th>174</th>\n",
       "      <td>222.400</td>\n",
       "      <td>3.400</td>\n",
       "      <td>13.100</td>\n",
       "    </tr>\n",
       "    <tr>\n",
       "      <th>175</th>\n",
       "      <td>276.900</td>\n",
       "      <td>48.900</td>\n",
       "      <td>41.800</td>\n",
       "    </tr>\n",
       "    <tr>\n",
       "      <th>176</th>\n",
       "      <td>248.400</td>\n",
       "      <td>30.200</td>\n",
       "      <td>20.300</td>\n",
       "    </tr>\n",
       "    <tr>\n",
       "      <th>177</th>\n",
       "      <td>170.200</td>\n",
       "      <td>7.800</td>\n",
       "      <td>35.200</td>\n",
       "    </tr>\n",
       "    <tr>\n",
       "      <th>178</th>\n",
       "      <td>276.700</td>\n",
       "      <td>2.300</td>\n",
       "      <td>23.700</td>\n",
       "    </tr>\n",
       "    <tr>\n",
       "      <th>179</th>\n",
       "      <td>165.600</td>\n",
       "      <td>10.000</td>\n",
       "      <td>17.600</td>\n",
       "    </tr>\n",
       "    <tr>\n",
       "      <th>180</th>\n",
       "      <td>156.600</td>\n",
       "      <td>2.600</td>\n",
       "      <td>8.300</td>\n",
       "    </tr>\n",
       "    <tr>\n",
       "      <th>181</th>\n",
       "      <td>218.500</td>\n",
       "      <td>5.400</td>\n",
       "      <td>27.400</td>\n",
       "    </tr>\n",
       "    <tr>\n",
       "      <th>182</th>\n",
       "      <td>56.200</td>\n",
       "      <td>5.700</td>\n",
       "      <td>29.700</td>\n",
       "    </tr>\n",
       "    <tr>\n",
       "      <th>183</th>\n",
       "      <td>287.600</td>\n",
       "      <td>43.000</td>\n",
       "      <td>71.800</td>\n",
       "    </tr>\n",
       "    <tr>\n",
       "      <th>184</th>\n",
       "      <td>253.800</td>\n",
       "      <td>21.300</td>\n",
       "      <td>30.000</td>\n",
       "    </tr>\n",
       "    <tr>\n",
       "      <th>185</th>\n",
       "      <td>205.000</td>\n",
       "      <td>45.100</td>\n",
       "      <td>19.600</td>\n",
       "    </tr>\n",
       "    <tr>\n",
       "      <th>186</th>\n",
       "      <td>139.500</td>\n",
       "      <td>2.100</td>\n",
       "      <td>26.600</td>\n",
       "    </tr>\n",
       "    <tr>\n",
       "      <th>187</th>\n",
       "      <td>191.100</td>\n",
       "      <td>28.700</td>\n",
       "      <td>18.200</td>\n",
       "    </tr>\n",
       "    <tr>\n",
       "      <th>188</th>\n",
       "      <td>286.000</td>\n",
       "      <td>13.900</td>\n",
       "      <td>3.700</td>\n",
       "    </tr>\n",
       "    <tr>\n",
       "      <th>189</th>\n",
       "      <td>18.700</td>\n",
       "      <td>12.100</td>\n",
       "      <td>23.400</td>\n",
       "    </tr>\n",
       "    <tr>\n",
       "      <th>190</th>\n",
       "      <td>39.500</td>\n",
       "      <td>41.100</td>\n",
       "      <td>5.800</td>\n",
       "    </tr>\n",
       "    <tr>\n",
       "      <th>191</th>\n",
       "      <td>75.500</td>\n",
       "      <td>10.800</td>\n",
       "      <td>6.000</td>\n",
       "    </tr>\n",
       "    <tr>\n",
       "      <th>192</th>\n",
       "      <td>17.200</td>\n",
       "      <td>4.100</td>\n",
       "      <td>31.600</td>\n",
       "    </tr>\n",
       "    <tr>\n",
       "      <th>193</th>\n",
       "      <td>166.800</td>\n",
       "      <td>42.000</td>\n",
       "      <td>3.600</td>\n",
       "    </tr>\n",
       "    <tr>\n",
       "      <th>194</th>\n",
       "      <td>149.700</td>\n",
       "      <td>35.600</td>\n",
       "      <td>6.000</td>\n",
       "    </tr>\n",
       "    <tr>\n",
       "      <th>195</th>\n",
       "      <td>38.200</td>\n",
       "      <td>3.700</td>\n",
       "      <td>13.800</td>\n",
       "    </tr>\n",
       "    <tr>\n",
       "      <th>196</th>\n",
       "      <td>94.200</td>\n",
       "      <td>4.900</td>\n",
       "      <td>8.100</td>\n",
       "    </tr>\n",
       "    <tr>\n",
       "      <th>197</th>\n",
       "      <td>177.000</td>\n",
       "      <td>9.300</td>\n",
       "      <td>6.400</td>\n",
       "    </tr>\n",
       "    <tr>\n",
       "      <th>198</th>\n",
       "      <td>283.600</td>\n",
       "      <td>42.000</td>\n",
       "      <td>66.200</td>\n",
       "    </tr>\n",
       "    <tr>\n",
       "      <th>199</th>\n",
       "      <td>232.100</td>\n",
       "      <td>8.600</td>\n",
       "      <td>8.700</td>\n",
       "    </tr>\n",
       "  </tbody>\n",
       "</table>\n",
       "<p>200 rows × 3 columns</p>\n",
       "</div>"
      ],
      "text/plain": [
       "         TV  Radio  Newspaper\n",
       "0   230.100 37.800     69.200\n",
       "1    44.500 39.300     45.100\n",
       "2    17.200 45.900     69.300\n",
       "3   151.500 41.300     58.500\n",
       "4   180.800 10.800     58.400\n",
       "5     8.700 48.900     75.000\n",
       "6    57.500 32.800     23.500\n",
       "7   120.200 19.600     11.600\n",
       "8     8.600  2.100      1.000\n",
       "9   199.800  2.600     21.200\n",
       "10   66.100  5.800     24.200\n",
       "11  214.700 24.000      4.000\n",
       "12   23.800 35.100     65.900\n",
       "13   97.500  7.600      7.200\n",
       "14  204.100 32.900     46.000\n",
       "15  195.400 47.700     52.900\n",
       "16   67.800 36.600    114.000\n",
       "17  281.400 39.600     55.800\n",
       "18   69.200 20.500     18.300\n",
       "19  147.300 23.900     19.100\n",
       "20  218.400 27.700     53.400\n",
       "21  237.400  5.100     23.500\n",
       "22   13.200 15.900     49.600\n",
       "23  228.300 16.900     26.200\n",
       "24   62.300 12.600     18.300\n",
       "25  262.900  3.500     19.500\n",
       "26  142.900 29.300     12.600\n",
       "27  240.100 16.700     22.900\n",
       "28  248.800 27.100     22.900\n",
       "29   70.600 16.000     40.800\n",
       "..      ...    ...        ...\n",
       "170  50.000 11.600     18.400\n",
       "171 164.500 20.900     47.400\n",
       "172  19.600 20.100     17.000\n",
       "173 168.400  7.100     12.800\n",
       "174 222.400  3.400     13.100\n",
       "175 276.900 48.900     41.800\n",
       "176 248.400 30.200     20.300\n",
       "177 170.200  7.800     35.200\n",
       "178 276.700  2.300     23.700\n",
       "179 165.600 10.000     17.600\n",
       "180 156.600  2.600      8.300\n",
       "181 218.500  5.400     27.400\n",
       "182  56.200  5.700     29.700\n",
       "183 287.600 43.000     71.800\n",
       "184 253.800 21.300     30.000\n",
       "185 205.000 45.100     19.600\n",
       "186 139.500  2.100     26.600\n",
       "187 191.100 28.700     18.200\n",
       "188 286.000 13.900      3.700\n",
       "189  18.700 12.100     23.400\n",
       "190  39.500 41.100      5.800\n",
       "191  75.500 10.800      6.000\n",
       "192  17.200  4.100     31.600\n",
       "193 166.800 42.000      3.600\n",
       "194 149.700 35.600      6.000\n",
       "195  38.200  3.700     13.800\n",
       "196  94.200  4.900      8.100\n",
       "197 177.000  9.300      6.400\n",
       "198 283.600 42.000     66.200\n",
       "199 232.100  8.600      8.700\n",
       "\n",
       "[200 rows x 3 columns]"
      ]
     },
     "execution_count": 11,
     "metadata": {},
     "output_type": "execute_result"
    }
   ],
   "source": [
    "X"
   ]
  },
  {
   "cell_type": "code",
   "execution_count": 12,
   "metadata": {},
   "outputs": [
    {
     "data": {
      "text/plain": [
       "array([0.91415577])"
      ]
     },
     "execution_count": 12,
     "metadata": {},
     "output_type": "execute_result"
    }
   ],
   "source": [
    "pca.explained_variance_ratio_"
   ]
  },
  {
   "cell_type": "code",
   "execution_count": 13,
   "metadata": {},
   "outputs": [
    {
     "data": {
      "text/plain": [
       "array([1211.31555837])"
      ]
     },
     "execution_count": 13,
     "metadata": {},
     "output_type": "execute_result"
    }
   ],
   "source": [
    "pca.singular_values_"
   ]
  },
  {
   "cell_type": "code",
   "execution_count": 14,
   "metadata": {},
   "outputs": [
    {
     "data": {
      "text/plain": [
       "array([[0.99982947, 0.01001377, 0.01551648]])"
      ]
     },
     "execution_count": 14,
     "metadata": {},
     "output_type": "execute_result"
    }
   ],
   "source": [
    "pca.components_"
   ]
  },
  {
   "cell_type": "code",
   "execution_count": 15,
   "metadata": {
    "scrolled": false
   },
   "outputs": [
    {
     "data": {
      "text/plain": [
       "array([[ 8.37885459e+01],\n",
       "       [-1.02138730e+02],\n",
       "       [-1.28992484e+02],\n",
       "       [ 5.07097169e+00],\n",
       "       [ 3.40590034e+01],\n",
       "       [-1.37372550e+02],\n",
       "       [-8.95411919e+01],\n",
       "       [-2.71687122e+01],\n",
       "       [-1.39089396e+02],\n",
       "       [ 5.23964374e+01],\n",
       "       [-8.12021689e+01],\n",
       "       [ 6.72413078e+01],\n",
       "       [-1.22554515e+02],\n",
       "       [-5.00532789e+01],\n",
       "       [ 5.73839300e+01],\n",
       "       [ 4.89406812e+01],\n",
       "       [-7.78006550e+01],\n",
       "       [ 1.34889902e+02],\n",
       "       [-7.80470423e+01],\n",
       "       [ 8.60991305e-02],\n",
       "       [ 7.17442417e+01],\n",
       "       [ 9.00507477e+01],\n",
       "       [-1.33597890e+02],\n",
       "       [ 8.11123565e+01],\n",
       "       [-8.50249744e+01],\n",
       "       [ 1.15468311e+02],\n",
       "       [-4.35993325e+00],\n",
       "       [ 9.28571371e+01],\n",
       "       [ 1.01659797e+02],\n",
       "       [-7.63432223e+01],\n",
       "       [ 1.46079277e+02],\n",
       "       [-3.40705528e+01],\n",
       "       [-5.00605361e+01],\n",
       "       [ 1.18035162e+02],\n",
       "       [-5.19119540e+01],\n",
       "       [ 1.43098897e+02],\n",
       "       [ 1.19646195e+02],\n",
       "       [-7.18334307e+01],\n",
       "       [-1.03819829e+02],\n",
       "       [ 8.11106897e+01],\n",
       "       [ 5.54546196e+01],\n",
       "       [ 3.01802881e+01],\n",
       "       [ 1.46130767e+02],\n",
       "       [ 5.96339922e+01],\n",
       "       [-1.21699538e+02],\n",
       "       [ 2.80597433e+01],\n",
       "       [-5.73866975e+01],\n",
       "       [ 9.28372403e+01],\n",
       "       [ 8.03692695e+01],\n",
       "       [-8.01477164e+01],\n",
       "       [ 5.26093651e+01],\n",
       "       [-4.71896052e+01],\n",
       "       [ 6.96706482e+01],\n",
       "       [ 3.62178389e+01],\n",
       "       [ 1.15465834e+02],\n",
       "       [ 5.25672747e+01],\n",
       "       [-1.39501951e+02],\n",
       "       [-1.10978639e+01],\n",
       "       [ 6.41212307e+01],\n",
       "       [ 6.33793030e+01],\n",
       "       [-9.38815186e+01],\n",
       "       [ 1.14807304e+02],\n",
       "       [ 9.21135295e+01],\n",
       "       [-4.46152429e+01],\n",
       "       [-1.57698165e+01],\n",
       "       [-7.86291491e+01],\n",
       "       [-1.15949372e+02],\n",
       "       [-8.14476270e+00],\n",
       "       [ 9.00811002e+01],\n",
       "       [ 6.99002060e+01],\n",
       "       [ 5.22484807e+01],\n",
       "       [-3.73081305e+01],\n",
       "       [-1.20299123e+02],\n",
       "       [-1.78037980e+01],\n",
       "       [ 6.60887377e+01],\n",
       "       [-1.29002582e+02],\n",
       "       [-1.19891952e+02],\n",
       "       [-2.67392980e+01],\n",
       "       [-1.41880129e+02],\n",
       "       [-3.13087204e+01],\n",
       "       [-7.07241188e+01],\n",
       "       [ 9.26482454e+01],\n",
       "       [-7.17297513e+01],\n",
       "       [-7.83381403e+01],\n",
       "       [ 6.66941651e+01],\n",
       "       [ 4.66462637e+01],\n",
       "       [-7.09138445e+01],\n",
       "       [-3.56561528e+01],\n",
       "       [-5.80452727e+01],\n",
       "       [-3.66669946e+01],\n",
       "       [-1.32540071e+01],\n",
       "       [-1.18602288e+02],\n",
       "       [ 7.11893332e+01],\n",
       "       [ 1.04620082e+02],\n",
       "       [-4.00334681e+01],\n",
       "       [ 1.66849335e+01],\n",
       "       [ 4.99684229e+01],\n",
       "       [ 3.76956449e+01],\n",
       "       [ 1.43144148e+02],\n",
       "       [-1.14177507e+01],\n",
       "       [ 7.54533780e+01],\n",
       "       [ 1.50554091e+02],\n",
       "       [ 1.32860933e+02],\n",
       "       [ 4.05934634e+01],\n",
       "       [ 9.08606136e+01],\n",
       "       [-8.46788059e+00],\n",
       "       [-1.22157748e+02],\n",
       "       [-5.69769050e+01],\n",
       "       [-1.34225482e+02],\n",
       "       [ 1.07986682e+02],\n",
       "       [ 7.89958123e+01],\n",
       "       [ 9.46748126e+01],\n",
       "       [ 2.81370138e+01],\n",
       "       [ 6.22120911e+01],\n",
       "       [-6.85338479e+01],\n",
       "       [-7.14690819e+01],\n",
       "       [-8.00779467e+00],\n",
       "       [-7.10998491e+01],\n",
       "       [-2.04474981e+01],\n",
       "       [-1.27821546e+02],\n",
       "       [-5.46334123e+00],\n",
       "       [-1.27928352e+02],\n",
       "       [ 7.65034155e+01],\n",
       "       [-2.41065870e+01],\n",
       "       [ 8.32111548e+01],\n",
       "       [-6.00193065e+01],\n",
       "       [-1.38751136e+02],\n",
       "       [-6.73954004e+01],\n",
       "       [ 7.30782839e+01],\n",
       "       [-8.73457136e+01],\n",
       "       [-1.46493056e+02],\n",
       "       [ 1.18126548e+02],\n",
       "       [-1.39020948e+02],\n",
       "       [ 7.30732961e+01],\n",
       "       [-1.09426355e+02],\n",
       "       [-9.88301746e+01],\n",
       "       [-1.21594001e+02],\n",
       "       [ 1.27144582e+02],\n",
       "       [-1.04154364e+02],\n",
       "       [ 3.76099759e+01],\n",
       "       [-7.39665957e+01],\n",
       "       [ 4.74700257e+01],\n",
       "       [ 7.36584540e+01],\n",
       "       [-4.25514677e+01],\n",
       "       [-5.07890857e+01],\n",
       "       [-7.28972654e+00],\n",
       "       [ 9.25426737e+01],\n",
       "       [ 9.66121059e+01],\n",
       "       [-1.09142754e+02],\n",
       "       [-1.02454103e+02],\n",
       "       [ 1.33640957e+02],\n",
       "       [-2.59053416e+01],\n",
       "       [ 5.02954823e+01],\n",
       "       [ 2.45288304e+01],\n",
       "       [ 4.04021958e+01],\n",
       "       [-1.43420571e+02],\n",
       "       [-5.26213071e+01],\n",
       "       [ 2.44004722e+00],\n",
       "       [-1.34955618e+02],\n",
       "       [-1.53258109e+01],\n",
       "       [ 2.54037129e+01],\n",
       "       [-6.09156346e+01],\n",
       "       [ 4.12218674e+01],\n",
       "       [ 1.62309714e+01],\n",
       "       [-3.03134703e+01],\n",
       "       [ 8.80853788e+01],\n",
       "       [-1.29115854e+02],\n",
       "       [ 5.93933498e+01],\n",
       "       [ 6.87688660e+01],\n",
       "       [ 1.36732494e+02],\n",
       "       [-9.73313390e+01],\n",
       "       [ 1.76922409e+01],\n",
       "       [-1.27662761e+02],\n",
       "       [ 2.09165157e+01],\n",
       "       [ 7.48749109e+01],\n",
       "       [ 1.30266566e+02],\n",
       "       [ 1.01250565e+02],\n",
       "       [ 2.30707875e+01],\n",
       "       [ 1.29319110e+02],\n",
       "       [ 1.82205122e+01],\n",
       "       [ 9.00364188e+00],\n",
       "       [ 7.12174892e+01],\n",
       "       [-9.10161413e+01],\n",
       "       [ 1.41371155e+02],\n",
       "       [ 1.06711031e+02],\n",
       "       [ 5.79963096e+01],\n",
       "       [-7.81449738e+00],\n",
       "       [ 4.39127311e+01],\n",
       "       [ 1.38423355e+02],\n",
       "       [-1.28543412e+02],\n",
       "       [-1.07729650e+02],\n",
       "       [-7.20361029e+01],\n",
       "       [-1.29996031e+02],\n",
       "       [ 1.95235176e+01],\n",
       "       [ 2.39958515e+00],\n",
       "       [-1.09279811e+02],\n",
       "       [-5.33657885e+01],\n",
       "       [ 2.94377740e+01],\n",
       "       [ 1.37274931e+02],\n",
       "       [ 8.45570559e+01]])"
      ]
     },
     "execution_count": 15,
     "metadata": {},
     "output_type": "execute_result"
    }
   ],
   "source": [
    "xpca"
   ]
  },
  {
   "cell_type": "code",
   "execution_count": 18,
   "metadata": {},
   "outputs": [
    {
     "data": {
      "text/plain": [
       "-14.549131407048858"
      ]
     },
     "execution_count": 18,
     "metadata": {},
     "output_type": "execute_result"
    }
   ],
   "source": [
    "pca.score(X)"
   ]
  },
  {
   "cell_type": "code",
   "execution_count": 19,
   "metadata": {},
   "outputs": [
    {
     "data": {
      "text/plain": [
       "array([-15.81874812, -14.56041642, -17.41095909, -14.6476914 ,\n",
       "       -14.45001724, -18.52482484, -13.8038634 , -13.61948772,\n",
       "       -16.01761124, -14.04071008, -13.94176115, -14.46348101,\n",
       "       -16.32608737, -14.29513531, -13.70465348, -14.72068747,\n",
       "       -24.10775767, -15.38940639, -13.65155304, -13.24678055,\n",
       "       -14.10798758, -14.23483095, -14.96368275, -13.622693  ,\n",
       "       -13.85871876, -14.83142455, -13.57342381, -13.84197736,\n",
       "       -13.89201911, -13.70159567, -14.6777773 , -13.28559863,\n",
       "       -13.87966505, -15.51722853, -14.61914694, -15.909472  ,\n",
       "       -15.65267432, -14.83043062, -13.87125787, -13.77091006,\n",
       "       -13.26855255, -13.34326752, -15.90762724, -13.68037498,\n",
       "       -14.38968559, -13.11197706, -13.5688168 , -14.33666645,\n",
       "       -14.06655321, -13.74050746, -13.87772445, -14.45243505,\n",
       "       -13.931985  , -14.98104653, -14.37911253, -15.37581382,\n",
       "       -14.67700132, -13.36196434, -14.34374004, -14.08865806,\n",
       "       -14.33660231, -15.156188  , -13.77270142, -13.92339744,\n",
       "       -13.63656793, -14.8947924 , -14.99598102, -13.76116938,\n",
       "       -14.25707563, -13.99046103, -13.38654572, -13.26190104,\n",
       "       -14.33815339, -13.51622046, -13.84679011, -20.21623667,\n",
       "       -14.72860453, -13.51584199, -15.03428415, -13.52923295,\n",
       "       -13.49460457, -14.25655054, -13.42633569, -14.22988337,\n",
       "       -13.89052952, -14.95685963, -13.69442743, -15.18751525,\n",
       "       -16.0612891 , -14.70632094, -14.18882109, -14.64855841,\n",
       "       -14.61133395, -16.33923968, -13.80216336, -13.87671954,\n",
       "       -14.75348169, -13.28373278, -15.38423445, -13.91075173,\n",
       "       -14.47619348, -21.46787289, -14.73889934, -13.48380515,\n",
       "       -14.791517  , -15.02039661, -14.24619412, -14.06163575,\n",
       "       -14.95922391, -14.88892922, -14.72551903, -14.05145081,\n",
       "       -14.38712379, -13.96088429, -14.25890809, -14.40832009,\n",
       "       -13.20869294, -14.39308276, -16.82531256, -14.27311549,\n",
       "       -13.43478432, -14.85503026, -14.50583312, -13.74623138,\n",
       "       -16.21505762, -13.49139822, -15.49289524, -14.69768411,\n",
       "       -15.49391457, -14.00899892, -15.52342546, -14.83608692,\n",
       "       -15.4071594 , -13.80912769, -16.20928805, -15.21012184,\n",
       "       -15.01611945, -15.2470902 , -13.91465791, -14.99699442,\n",
       "       -13.86533887, -16.24231981, -13.60237603, -13.63294914,\n",
       "       -13.44346345, -14.37930831, -14.83323704, -14.7925138 ,\n",
       "       -14.75455626, -13.88782595, -14.46078954, -13.90708859,\n",
       "       -13.65261292, -13.54222289, -13.85593647, -15.34241675,\n",
       "       -14.49002944, -13.81264663, -15.02108118, -13.13111042,\n",
       "       -13.14288994, -14.1181387 , -13.26199689, -14.12409709,\n",
       "       -14.09777386, -18.24342183, -14.60968253, -14.00946899,\n",
       "       -14.35248113, -15.60642308, -14.02779638, -13.48387755,\n",
       "       -14.3604546 , -13.94581401, -14.55137591, -15.18552152,\n",
       "       -14.00445036, -13.47506498, -15.01984202, -13.59349627,\n",
       "       -14.40893922, -13.9252929 , -14.01937826, -17.10020124,\n",
       "       -13.84916749, -14.1401638 , -13.72422836, -13.46889325,\n",
       "       -15.73812462, -14.35650435, -15.12989682, -14.40128264,\n",
       "       -14.67697292, -14.6520323 , -14.14943696, -14.68688061,\n",
       "       -14.38471911, -14.28421056, -16.39291154, -14.66441867])"
      ]
     },
     "execution_count": 19,
     "metadata": {},
     "output_type": "execute_result"
    }
   ],
   "source": [
    "pca.score_samples(X)"
   ]
  },
  {
   "cell_type": "code",
   "execution_count": null,
   "metadata": {},
   "outputs": [],
   "source": []
  }
 ],
 "metadata": {
  "hide_input": false,
  "kernelspec": {
   "display_name": "Python 3",
   "language": "python",
   "name": "python3"
  },
  "language_info": {
   "codemirror_mode": {
    "name": "ipython",
    "version": 3
   },
   "file_extension": ".py",
   "mimetype": "text/x-python",
   "name": "python",
   "nbconvert_exporter": "python",
   "pygments_lexer": "ipython3",
   "version": "3.6.5"
  },
  "toc": {
   "colors": {
    "hover_highlight": "#DAA520",
    "running_highlight": "#FF0000",
    "selected_highlight": "#FFD700"
   },
   "moveMenuLeft": true,
   "nav_menu": {
    "height": "59px",
    "width": "252px"
   },
   "navigate_menu": true,
   "number_sections": true,
   "sideBar": true,
   "threshold": 4,
   "toc_cell": false,
   "toc_section_display": "block",
   "toc_window_display": false
  }
 },
 "nbformat": 4,
 "nbformat_minor": 2
}
