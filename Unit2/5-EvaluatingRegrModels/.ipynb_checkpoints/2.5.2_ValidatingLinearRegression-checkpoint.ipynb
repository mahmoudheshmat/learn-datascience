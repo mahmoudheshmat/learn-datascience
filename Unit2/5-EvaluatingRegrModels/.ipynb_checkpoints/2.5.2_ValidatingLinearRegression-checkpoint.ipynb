{
 "cells": [
  {
   "cell_type": "markdown",
   "metadata": {
    "run_control": {
     "frozen": false,
     "read_only": false
    }
   },
   "source": [
    "## Challenge: Build a regression model \n",
    "\n",
    "Predict property crimes from a 2013 New York crime dataset. The goal here is prediction rather than understanding mechanisms, so the focus is on creating a model that explains a lot of variance."
   ]
  },
  {
   "cell_type": "code",
   "execution_count": 1,
   "metadata": {},
   "outputs": [],
   "source": [
    "import pandas as pd\n",
    "import numpy as np\n",
    "import matplotlib.pyplot as plt\n",
    "import seaborn as sns\n",
    "\n",
    "from sklearn import linear_model\n",
    "from sklearn.decomposition import PCA\n"
   ]
  },
  {
   "cell_type": "code",
   "execution_count": 2,
   "metadata": {},
   "outputs": [],
   "source": [
    "df = pd.read_csv(\"../data/NEW_YORK-Offenses.csv\", header=4)"
   ]
  },
  {
   "cell_type": "code",
   "execution_count": 3,
   "metadata": {
    "scrolled": true
   },
   "outputs": [
    {
     "data": {
      "text/html": [
       "<div>\n",
       "<style scoped>\n",
       "    .dataframe tbody tr th:only-of-type {\n",
       "        vertical-align: middle;\n",
       "    }\n",
       "\n",
       "    .dataframe tbody tr th {\n",
       "        vertical-align: top;\n",
       "    }\n",
       "\n",
       "    .dataframe thead th {\n",
       "        text-align: right;\n",
       "    }\n",
       "</style>\n",
       "<table border=\"1\" class=\"dataframe\">\n",
       "  <thead>\n",
       "    <tr style=\"text-align: right;\">\n",
       "      <th></th>\n",
       "      <th>City</th>\n",
       "      <th>Population</th>\n",
       "      <th>Violent\n",
       "crime</th>\n",
       "      <th>Murder and\n",
       "nonnegligent\n",
       "manslaughter</th>\n",
       "      <th>Rape\n",
       "(revised\n",
       "definition)1</th>\n",
       "      <th>Rape\n",
       "(legacy\n",
       "definition)2</th>\n",
       "      <th>Robbery</th>\n",
       "      <th>Aggravated\n",
       "assault</th>\n",
       "      <th>Property\n",
       "crime</th>\n",
       "      <th>Burglary</th>\n",
       "      <th>Larceny-\n",
       "theft</th>\n",
       "      <th>Motor\n",
       "vehicle\n",
       "theft</th>\n",
       "      <th>Arson3</th>\n",
       "    </tr>\n",
       "  </thead>\n",
       "  <tbody>\n",
       "    <tr>\n",
       "      <th>0</th>\n",
       "      <td>Adams Village</td>\n",
       "      <td>1,861</td>\n",
       "      <td>0</td>\n",
       "      <td>0.0</td>\n",
       "      <td>NaN</td>\n",
       "      <td>0</td>\n",
       "      <td>0</td>\n",
       "      <td>0</td>\n",
       "      <td>12</td>\n",
       "      <td>2</td>\n",
       "      <td>10</td>\n",
       "      <td>0</td>\n",
       "      <td>0.0</td>\n",
       "    </tr>\n",
       "    <tr>\n",
       "      <th>1</th>\n",
       "      <td>Addison Town and Village</td>\n",
       "      <td>2,577</td>\n",
       "      <td>3</td>\n",
       "      <td>0.0</td>\n",
       "      <td>NaN</td>\n",
       "      <td>0</td>\n",
       "      <td>0</td>\n",
       "      <td>3</td>\n",
       "      <td>24</td>\n",
       "      <td>3</td>\n",
       "      <td>20</td>\n",
       "      <td>1</td>\n",
       "      <td>0.0</td>\n",
       "    </tr>\n",
       "    <tr>\n",
       "      <th>2</th>\n",
       "      <td>Akron Village</td>\n",
       "      <td>2,846</td>\n",
       "      <td>3</td>\n",
       "      <td>0.0</td>\n",
       "      <td>NaN</td>\n",
       "      <td>0</td>\n",
       "      <td>0</td>\n",
       "      <td>3</td>\n",
       "      <td>16</td>\n",
       "      <td>1</td>\n",
       "      <td>15</td>\n",
       "      <td>0</td>\n",
       "      <td>0.0</td>\n",
       "    </tr>\n",
       "    <tr>\n",
       "      <th>3</th>\n",
       "      <td>Albany</td>\n",
       "      <td>97,956</td>\n",
       "      <td>791</td>\n",
       "      <td>8.0</td>\n",
       "      <td>NaN</td>\n",
       "      <td>30</td>\n",
       "      <td>227</td>\n",
       "      <td>526</td>\n",
       "      <td>4,090</td>\n",
       "      <td>705</td>\n",
       "      <td>3,243</td>\n",
       "      <td>142</td>\n",
       "      <td>NaN</td>\n",
       "    </tr>\n",
       "    <tr>\n",
       "      <th>4</th>\n",
       "      <td>Albion Village</td>\n",
       "      <td>6,388</td>\n",
       "      <td>23</td>\n",
       "      <td>0.0</td>\n",
       "      <td>NaN</td>\n",
       "      <td>3</td>\n",
       "      <td>4</td>\n",
       "      <td>16</td>\n",
       "      <td>223</td>\n",
       "      <td>53</td>\n",
       "      <td>165</td>\n",
       "      <td>5</td>\n",
       "      <td>NaN</td>\n",
       "    </tr>\n",
       "  </tbody>\n",
       "</table>\n",
       "</div>"
      ],
      "text/plain": [
       "                       City Population Violent\\ncrime  \\\n",
       "0             Adams Village      1,861              0   \n",
       "1  Addison Town and Village      2,577              3   \n",
       "2             Akron Village      2,846              3   \n",
       "3                    Albany     97,956            791   \n",
       "4            Albion Village      6,388             23   \n",
       "\n",
       "   Murder and\\nnonnegligent\\nmanslaughter  Rape\\n(revised\\ndefinition)1  \\\n",
       "0                                     0.0                           NaN   \n",
       "1                                     0.0                           NaN   \n",
       "2                                     0.0                           NaN   \n",
       "3                                     8.0                           NaN   \n",
       "4                                     0.0                           NaN   \n",
       "\n",
       "  Rape\\n(legacy\\ndefinition)2 Robbery Aggravated\\nassault Property\\ncrime  \\\n",
       "0                           0       0                   0              12   \n",
       "1                           0       0                   3              24   \n",
       "2                           0       0                   3              16   \n",
       "3                          30     227                 526           4,090   \n",
       "4                           3       4                  16             223   \n",
       "\n",
       "  Burglary Larceny-\\ntheft Motor\\nvehicle\\ntheft  Arson3  \n",
       "0        2              10                     0     0.0  \n",
       "1        3              20                     1     0.0  \n",
       "2        1              15                     0     0.0  \n",
       "3      705           3,243                   142     NaN  \n",
       "4       53             165                     5     NaN  "
      ]
     },
     "execution_count": 3,
     "metadata": {},
     "output_type": "execute_result"
    }
   ],
   "source": [
    "df.head()"
   ]
  },
  {
   "cell_type": "markdown",
   "metadata": {},
   "source": [
    "## Data cleaning\n",
    "- rename columns\n",
    "- changing appropriate values to numeric\n",
    "- cleaning NaNs\n",
    "- dropping descriptor rows\n",
    "- creating a population squared variable\n",
    "- making robbery and murder as boolean elements"
   ]
  },
  {
   "cell_type": "code",
   "execution_count": 4,
   "metadata": {},
   "outputs": [],
   "source": [
    "df = df.rename(columns={'Violent\\ncrime':'Violent', 'Murder and\\nnonnegligent\\nmanslaughter':'Murder', \n",
    "                   'Rape\\n(revised\\ndefinition)1':'Rape1', 'Rape\\n(legacy\\ndefinition)2':'Rape2',\n",
    "                   'Aggravated\\nassault':'Assault', 'Property\\ncrime':'PropertyCrime',\n",
    "                   'Larceny-\\ntheft':'LarcenyTheft', 'Motor\\nvehicle\\ntheft':'VehicleTheft'})"
   ]
  },
  {
   "cell_type": "code",
   "execution_count": 5,
   "metadata": {
    "scrolled": true
   },
   "outputs": [
    {
     "data": {
      "text/plain": [
       "City              object\n",
       "Population        object\n",
       "Violent           object\n",
       "Murder           float64\n",
       "Rape1            float64\n",
       "Rape2             object\n",
       "Robbery           object\n",
       "Assault           object\n",
       "PropertyCrime     object\n",
       "Burglary          object\n",
       "LarcenyTheft      object\n",
       "VehicleTheft      object\n",
       "Arson3           float64\n",
       "dtype: object"
      ]
     },
     "execution_count": 5,
     "metadata": {},
     "output_type": "execute_result"
    }
   ],
   "source": [
    "df.dtypes"
   ]
  },
  {
   "cell_type": "code",
   "execution_count": 6,
   "metadata": {},
   "outputs": [],
   "source": [
    "remove_commas = ['Population', 'Violent', 'Assault', 'PropertyCrime', 'Burglary', 'LarcenyTheft', \n",
    "                 'VehicleTheft', 'Rape2', 'Robbery']\n",
    "# why doesn't this loop work? return to this later\n",
    "for key in remove_commas:\n",
    "    df[remove_commas] = df[remove_commas].apply(lambda x: x.replace(',', ''))"
   ]
  },
  {
   "cell_type": "code",
   "execution_count": 7,
   "metadata": {},
   "outputs": [],
   "source": [
    "df['Population'] = df['Population'].str.replace(',','')\n",
    "df['Violent'] = df['Violent'].str.replace(',','')\n",
    "df['Assault'] = df['Assault'].str.replace(',','')\n",
    "df['PropertyCrime'] = df['PropertyCrime'].str.replace(',','')\n",
    "df['Burglary'] = df['Burglary'].str.replace(',','')\n",
    "df['LarcenyTheft'] = df['LarcenyTheft'].str.replace(',','')\n",
    "df['VehicleTheft'] = df['VehicleTheft'].str.replace(',','')\n",
    "df['Rape2'] = df['Rape2'].str.replace(',','')\n",
    "df['Robbery'] = df['Robbery'].str.replace(',','')"
   ]
  },
  {
   "cell_type": "code",
   "execution_count": 8,
   "metadata": {},
   "outputs": [],
   "source": [
    "df = df.drop(columns=['Rape1'])"
   ]
  },
  {
   "cell_type": "code",
   "execution_count": 9,
   "metadata": {},
   "outputs": [],
   "source": [
    "for key in remove_commas:\n",
    "    df[key] = pd.to_numeric(df[key])"
   ]
  },
  {
   "cell_type": "code",
   "execution_count": 10,
   "metadata": {},
   "outputs": [],
   "source": [
    "# fill in missing values for Arson with 0\n",
    "df.Arson3 = df.Arson3.fillna(0)"
   ]
  },
  {
   "cell_type": "code",
   "execution_count": 11,
   "metadata": {},
   "outputs": [],
   "source": [
    "pd.options.display.max_colwidth=500"
   ]
  },
  {
   "cell_type": "code",
   "execution_count": 12,
   "metadata": {},
   "outputs": [
    {
     "data": {
      "text/html": [
       "<div>\n",
       "<style scoped>\n",
       "    .dataframe tbody tr th:only-of-type {\n",
       "        vertical-align: middle;\n",
       "    }\n",
       "\n",
       "    .dataframe tbody tr th {\n",
       "        vertical-align: top;\n",
       "    }\n",
       "\n",
       "    .dataframe thead th {\n",
       "        text-align: right;\n",
       "    }\n",
       "</style>\n",
       "<table border=\"1\" class=\"dataframe\">\n",
       "  <thead>\n",
       "    <tr style=\"text-align: right;\">\n",
       "      <th></th>\n",
       "      <th>City</th>\n",
       "    </tr>\n",
       "  </thead>\n",
       "  <tbody>\n",
       "    <tr>\n",
       "      <th>348</th>\n",
       "      <td>1 The figures shown in this column for the offense of rape were reported using the revised Uniform Crime Reporting (UCR) definition of rape.  See Data Declaration for further explanation.</td>\n",
       "    </tr>\n",
       "    <tr>\n",
       "      <th>349</th>\n",
       "      <td>2 The figures shown in this column for the offense of rape were reported using the legacy UCR definition of rape.  See Data Declaration for further explanation.</td>\n",
       "    </tr>\n",
       "    <tr>\n",
       "      <th>350</th>\n",
       "      <td>3 The FBI does not publish arson data unless it receives data from either the agency or the state for all 12 months of the calendar year.</td>\n",
       "    </tr>\n",
       "  </tbody>\n",
       "</table>\n",
       "</div>"
      ],
      "text/plain": [
       "                                                                                                                                                                                            City\n",
       "348  1 The figures shown in this column for the offense of rape were reported using the revised Uniform Crime Reporting (UCR) definition of rape.  See Data Declaration for further explanation.\n",
       "349                             2 The figures shown in this column for the offense of rape were reported using the legacy UCR definition of rape.  See Data Declaration for further explanation.\n",
       "350                                                    3 The FBI does not publish arson data unless it receives data from either the agency or the state for all 12 months of the calendar year."
      ]
     },
     "execution_count": 12,
     "metadata": {},
     "output_type": "execute_result"
    }
   ],
   "source": [
    "df.iloc[348:, 0:1]"
   ]
  },
  {
   "cell_type": "code",
   "execution_count": 13,
   "metadata": {},
   "outputs": [],
   "source": [
    "# dropping comments printed in the cell above from dataframe\n",
    "df.drop(df.index[348:], inplace=True)"
   ]
  },
  {
   "cell_type": "code",
   "execution_count": 14,
   "metadata": {},
   "outputs": [],
   "source": [
    "# dropping entries missing the city value (which is most important here)\n",
    "df = df[df.City != 1]"
   ]
  },
  {
   "cell_type": "markdown",
   "metadata": {},
   "source": [
    "#### Removing outliers"
   ]
  },
  {
   "cell_type": "code",
   "execution_count": 15,
   "metadata": {
    "scrolled": false
   },
   "outputs": [
    {
     "data": {
      "text/html": [
       "<div>\n",
       "<style scoped>\n",
       "    .dataframe tbody tr th:only-of-type {\n",
       "        vertical-align: middle;\n",
       "    }\n",
       "\n",
       "    .dataframe tbody tr th {\n",
       "        vertical-align: top;\n",
       "    }\n",
       "\n",
       "    .dataframe thead th {\n",
       "        text-align: right;\n",
       "    }\n",
       "</style>\n",
       "<table border=\"1\" class=\"dataframe\">\n",
       "  <thead>\n",
       "    <tr style=\"text-align: right;\">\n",
       "      <th></th>\n",
       "      <th>Population</th>\n",
       "      <th>Violent</th>\n",
       "      <th>Murder</th>\n",
       "      <th>Rape2</th>\n",
       "      <th>Robbery</th>\n",
       "      <th>Assault</th>\n",
       "      <th>PropertyCrime</th>\n",
       "      <th>Burglary</th>\n",
       "      <th>LarcenyTheft</th>\n",
       "      <th>VehicleTheft</th>\n",
       "      <th>Arson3</th>\n",
       "    </tr>\n",
       "  </thead>\n",
       "  <tbody>\n",
       "    <tr>\n",
       "      <th>count</th>\n",
       "      <td>3.480000e+02</td>\n",
       "      <td>348.000000</td>\n",
       "      <td>348.000000</td>\n",
       "      <td>348.000000</td>\n",
       "      <td>348.000000</td>\n",
       "      <td>348.000000</td>\n",
       "      <td>348.000000</td>\n",
       "      <td>348.000000</td>\n",
       "      <td>348.000000</td>\n",
       "      <td>348.000000</td>\n",
       "      <td>348.000000</td>\n",
       "    </tr>\n",
       "    <tr>\n",
       "      <th>mean</th>\n",
       "      <td>4.003763e+04</td>\n",
       "      <td>201.594828</td>\n",
       "      <td>1.566092</td>\n",
       "      <td>5.864943</td>\n",
       "      <td>72.902299</td>\n",
       "      <td>121.261494</td>\n",
       "      <td>792.606322</td>\n",
       "      <td>119.683908</td>\n",
       "      <td>637.017241</td>\n",
       "      <td>35.905172</td>\n",
       "      <td>1.005747</td>\n",
       "    </tr>\n",
       "    <tr>\n",
       "      <th>std</th>\n",
       "      <td>4.500374e+05</td>\n",
       "      <td>2815.268504</td>\n",
       "      <td>18.303673</td>\n",
       "      <td>60.425452</td>\n",
       "      <td>1031.032873</td>\n",
       "      <td>1706.131730</td>\n",
       "      <td>7659.724746</td>\n",
       "      <td>924.948789</td>\n",
       "      <td>6346.054451</td>\n",
       "      <td>403.423826</td>\n",
       "      <td>7.884612</td>\n",
       "    </tr>\n",
       "    <tr>\n",
       "      <th>min</th>\n",
       "      <td>5.260000e+02</td>\n",
       "      <td>0.000000</td>\n",
       "      <td>0.000000</td>\n",
       "      <td>0.000000</td>\n",
       "      <td>0.000000</td>\n",
       "      <td>0.000000</td>\n",
       "      <td>0.000000</td>\n",
       "      <td>0.000000</td>\n",
       "      <td>0.000000</td>\n",
       "      <td>0.000000</td>\n",
       "      <td>0.000000</td>\n",
       "    </tr>\n",
       "    <tr>\n",
       "      <th>25%</th>\n",
       "      <td>3.003000e+03</td>\n",
       "      <td>2.000000</td>\n",
       "      <td>0.000000</td>\n",
       "      <td>0.000000</td>\n",
       "      <td>0.000000</td>\n",
       "      <td>1.000000</td>\n",
       "      <td>40.500000</td>\n",
       "      <td>6.000000</td>\n",
       "      <td>31.000000</td>\n",
       "      <td>0.000000</td>\n",
       "      <td>0.000000</td>\n",
       "    </tr>\n",
       "    <tr>\n",
       "      <th>50%</th>\n",
       "      <td>7.233500e+03</td>\n",
       "      <td>6.000000</td>\n",
       "      <td>0.000000</td>\n",
       "      <td>0.000000</td>\n",
       "      <td>1.000000</td>\n",
       "      <td>4.000000</td>\n",
       "      <td>112.500000</td>\n",
       "      <td>17.500000</td>\n",
       "      <td>94.000000</td>\n",
       "      <td>2.000000</td>\n",
       "      <td>0.000000</td>\n",
       "    </tr>\n",
       "    <tr>\n",
       "      <th>75%</th>\n",
       "      <td>1.842750e+04</td>\n",
       "      <td>22.000000</td>\n",
       "      <td>0.000000</td>\n",
       "      <td>2.000000</td>\n",
       "      <td>5.000000</td>\n",
       "      <td>14.000000</td>\n",
       "      <td>341.000000</td>\n",
       "      <td>51.250000</td>\n",
       "      <td>287.250000</td>\n",
       "      <td>7.000000</td>\n",
       "      <td>0.000000</td>\n",
       "    </tr>\n",
       "    <tr>\n",
       "      <th>max</th>\n",
       "      <td>8.396126e+06</td>\n",
       "      <td>52384.000000</td>\n",
       "      <td>335.000000</td>\n",
       "      <td>1112.000000</td>\n",
       "      <td>19170.000000</td>\n",
       "      <td>31767.000000</td>\n",
       "      <td>141971.000000</td>\n",
       "      <td>16606.000000</td>\n",
       "      <td>117931.000000</td>\n",
       "      <td>7434.000000</td>\n",
       "      <td>132.000000</td>\n",
       "    </tr>\n",
       "  </tbody>\n",
       "</table>\n",
       "</div>"
      ],
      "text/plain": [
       "         Population       Violent      Murder        Rape2       Robbery  \\\n",
       "count  3.480000e+02    348.000000  348.000000   348.000000    348.000000   \n",
       "mean   4.003763e+04    201.594828    1.566092     5.864943     72.902299   \n",
       "std    4.500374e+05   2815.268504   18.303673    60.425452   1031.032873   \n",
       "min    5.260000e+02      0.000000    0.000000     0.000000      0.000000   \n",
       "25%    3.003000e+03      2.000000    0.000000     0.000000      0.000000   \n",
       "50%    7.233500e+03      6.000000    0.000000     0.000000      1.000000   \n",
       "75%    1.842750e+04     22.000000    0.000000     2.000000      5.000000   \n",
       "max    8.396126e+06  52384.000000  335.000000  1112.000000  19170.000000   \n",
       "\n",
       "            Assault  PropertyCrime      Burglary   LarcenyTheft  VehicleTheft  \\\n",
       "count    348.000000     348.000000    348.000000     348.000000    348.000000   \n",
       "mean     121.261494     792.606322    119.683908     637.017241     35.905172   \n",
       "std     1706.131730    7659.724746    924.948789    6346.054451    403.423826   \n",
       "min        0.000000       0.000000      0.000000       0.000000      0.000000   \n",
       "25%        1.000000      40.500000      6.000000      31.000000      0.000000   \n",
       "50%        4.000000     112.500000     17.500000      94.000000      2.000000   \n",
       "75%       14.000000     341.000000     51.250000     287.250000      7.000000   \n",
       "max    31767.000000  141971.000000  16606.000000  117931.000000   7434.000000   \n",
       "\n",
       "           Arson3  \n",
       "count  348.000000  \n",
       "mean     1.005747  \n",
       "std      7.884612  \n",
       "min      0.000000  \n",
       "25%      0.000000  \n",
       "50%      0.000000  \n",
       "75%      0.000000  \n",
       "max    132.000000  "
      ]
     },
     "execution_count": 15,
     "metadata": {},
     "output_type": "execute_result"
    }
   ],
   "source": [
    "df.describe()"
   ]
  },
  {
   "cell_type": "code",
   "execution_count": 16,
   "metadata": {},
   "outputs": [],
   "source": [
    "# The max is quite a big higher than 2x standard deviations for many of these features. \n",
    "# Let's set values greater than 2x std to median values\n",
    "\n",
    "# for now I will just do this for PropertyCrime, and a few features: Population, Violent, Rape2, Robbery, and Burglary\n",
    "poplimit = (df.Population.mean() + (2 * df.Population.std()))\n",
    "df[df['Population'] > poplimit] = df.Population.median()\n",
    "\n",
    "violentlimit = (df.Violent.mean() + (2*df.Violent.std()))\n",
    "df[df['Violent'] > violentlimit] = df.Violent.median()\n",
    "\n",
    "rapelimit = (df.Rape2.mean() + (2*df.Rape2.std()))\n",
    "df[df['Rape2'] > rapelimit] = df.Rape2.median()\n",
    "\n",
    "robberylimit = (df.Robbery.mean() + (2*df.Robbery.std()))\n",
    "df[df['Robbery'] > robberylimit] = df.Robbery.median()\n",
    "\n",
    "propertycrimelimit = (df.PropertyCrime.mean() + (2*df.PropertyCrime.std()))\n",
    "df[df['PropertyCrime'] > propertycrimelimit] = df.PropertyCrime.median()\n",
    "\n",
    "burglarylimit = (df.Burglary.mean() + (2*df.Burglary.std()))\n",
    "df[df['Burglary'] > burglarylimit] = df.Burglary.median()"
   ]
  },
  {
   "cell_type": "code",
   "execution_count": 17,
   "metadata": {},
   "outputs": [
    {
     "data": {
      "image/png": "[encoded data removed]",
      "text/plain": [
       "<Figure size 432x288 with 1 Axes>"
      ]
     },
     "metadata": {},
     "output_type": "display_data"
    },
    {
     "name": "stdout",
     "output_type": "stream",
     "text": [
      "Median:  4106.5\n",
      "Standard deviation:  8438.857836691406\n"
     ]
    },
    {
     "data": {
      "image/png": "[encoded data removed]",
      "text/plain": [
       "<Figure size 432x288 with 1 Axes>"
      ]
     },
     "metadata": {},
     "output_type": "display_data"
    },
    {
     "name": "stdout",
     "output_type": "stream",
     "text": [
      "Median:  59.5\n",
      "Standard deviation:  144.63320714127087\n",
      "\n",
      "\n",
      " Looks like we took care of the outlier problem. The data now appears as the right half of a normal distribution\n"
     ]
    }
   ],
   "source": [
    "plt.hist(df.Population, bins=20)\n",
    "plt.title('New York Population')\n",
    "plt.show()\n",
    "print(\"Median: \", df.Population.median())\n",
    "print(\"Standard deviation: \", df.Population.std())\n",
    "\n",
    "plt.hist(df.PropertyCrime, bins=20)\n",
    "plt.title('Property Crime')\n",
    "plt.show()\n",
    "print(\"Median: \", df.PropertyCrime.median())\n",
    "print(\"Standard deviation: \", df.PropertyCrime.std())\n",
    "\n",
    "print(\"\\n\\n Looks like we took care of the outlier problem. The data now appears as the right half of a normal distribution\")"
   ]
  },
  {
   "cell_type": "code",
   "execution_count": 18,
   "metadata": {},
   "outputs": [],
   "source": [
    "# creating boolean categories for murder and robbery\n",
    "df['Murder_bool'] = np.where((df.Murder > 0), 1, 0)\n",
    "df['Robbery_bool'] = np.where((df.Robbery > 0), 1, 0)"
   ]
  },
  {
   "cell_type": "code",
   "execution_count": 19,
   "metadata": {},
   "outputs": [],
   "source": [
    "# making a squared population variable\n",
    "df['Population^2'] = df['Population'] * df['Population']"
   ]
  },
  {
   "cell_type": "code",
   "execution_count": 20,
   "metadata": {},
   "outputs": [],
   "source": [
    "# making city a numeric variable (boolean)\n",
    "city = pd.get_dummies(df.City)"
   ]
  },
  {
   "cell_type": "code",
   "execution_count": 21,
   "metadata": {},
   "outputs": [
    {
     "data": {
      "text/html": [
       "<div>\n",
       "<style scoped>\n",
       "    .dataframe tbody tr th:only-of-type {\n",
       "        vertical-align: middle;\n",
       "    }\n",
       "\n",
       "    .dataframe tbody tr th {\n",
       "        vertical-align: top;\n",
       "    }\n",
       "\n",
       "    .dataframe thead th {\n",
       "        text-align: right;\n",
       "    }\n",
       "</style>\n",
       "<table border=\"1\" class=\"dataframe\">\n",
       "  <thead>\n",
       "    <tr style=\"text-align: right;\">\n",
       "      <th></th>\n",
       "      <th>Population</th>\n",
       "      <th>Violent</th>\n",
       "      <th>Murder</th>\n",
       "      <th>Rape2</th>\n",
       "      <th>Robbery</th>\n",
       "      <th>Assault</th>\n",
       "      <th>PropertyCrime</th>\n",
       "      <th>Burglary</th>\n",
       "      <th>LarcenyTheft</th>\n",
       "      <th>VehicleTheft</th>\n",
       "      <th>Arson3</th>\n",
       "      <th>Murder_bool</th>\n",
       "      <th>Robbery_bool</th>\n",
       "      <th>Population^2</th>\n",
       "    </tr>\n",
       "  </thead>\n",
       "  <tbody>\n",
       "    <tr>\n",
       "      <th>count</th>\n",
       "      <td>348.000000</td>\n",
       "      <td>348.000000</td>\n",
       "      <td>348.000000</td>\n",
       "      <td>348.000000</td>\n",
       "      <td>348.000000</td>\n",
       "      <td>348.000000</td>\n",
       "      <td>348.000000</td>\n",
       "      <td>348.000000</td>\n",
       "      <td>348.000000</td>\n",
       "      <td>348.000000</td>\n",
       "      <td>348.000000</td>\n",
       "      <td>348.000000</td>\n",
       "      <td>348.000000</td>\n",
       "      <td>3.480000e+02</td>\n",
       "    </tr>\n",
       "    <tr>\n",
       "      <th>mean</th>\n",
       "      <td>7283.169540</td>\n",
       "      <td>8.772989</td>\n",
       "      <td>1.278736</td>\n",
       "      <td>1.787356</td>\n",
       "      <td>2.931034</td>\n",
       "      <td>6.456897</td>\n",
       "      <td>119.198276</td>\n",
       "      <td>18.399425</td>\n",
       "      <td>99.554598</td>\n",
       "      <td>3.698276</td>\n",
       "      <td>1.393678</td>\n",
       "      <td>0.169540</td>\n",
       "      <td>0.563218</td>\n",
       "      <td>1.240542e+08</td>\n",
       "    </tr>\n",
       "    <tr>\n",
       "      <th>std</th>\n",
       "      <td>8438.857837</td>\n",
       "      <td>12.238394</td>\n",
       "      <td>3.683424</td>\n",
       "      <td>3.706161</td>\n",
       "      <td>4.683143</td>\n",
       "      <td>8.618115</td>\n",
       "      <td>144.633207</td>\n",
       "      <td>19.609552</td>\n",
       "      <td>124.724226</td>\n",
       "      <td>4.786905</td>\n",
       "      <td>3.690890</td>\n",
       "      <td>0.375769</td>\n",
       "      <td>0.496701</td>\n",
       "      <td>2.686047e+08</td>\n",
       "    </tr>\n",
       "    <tr>\n",
       "      <th>min</th>\n",
       "      <td>0.000000</td>\n",
       "      <td>0.000000</td>\n",
       "      <td>0.000000</td>\n",
       "      <td>0.000000</td>\n",
       "      <td>0.000000</td>\n",
       "      <td>0.000000</td>\n",
       "      <td>0.000000</td>\n",
       "      <td>0.000000</td>\n",
       "      <td>0.000000</td>\n",
       "      <td>0.000000</td>\n",
       "      <td>0.000000</td>\n",
       "      <td>0.000000</td>\n",
       "      <td>0.000000</td>\n",
       "      <td>0.000000e+00</td>\n",
       "    </tr>\n",
       "    <tr>\n",
       "      <th>25%</th>\n",
       "      <td>1732.750000</td>\n",
       "      <td>1.000000</td>\n",
       "      <td>0.000000</td>\n",
       "      <td>0.000000</td>\n",
       "      <td>0.000000</td>\n",
       "      <td>1.000000</td>\n",
       "      <td>13.000000</td>\n",
       "      <td>4.000000</td>\n",
       "      <td>13.000000</td>\n",
       "      <td>0.000000</td>\n",
       "      <td>0.000000</td>\n",
       "      <td>0.000000</td>\n",
       "      <td>0.000000</td>\n",
       "      <td>3.002423e+06</td>\n",
       "    </tr>\n",
       "    <tr>\n",
       "      <th>50%</th>\n",
       "      <td>4106.500000</td>\n",
       "      <td>5.000000</td>\n",
       "      <td>0.000000</td>\n",
       "      <td>0.000000</td>\n",
       "      <td>1.000000</td>\n",
       "      <td>3.000000</td>\n",
       "      <td>59.500000</td>\n",
       "      <td>13.000000</td>\n",
       "      <td>47.000000</td>\n",
       "      <td>2.000000</td>\n",
       "      <td>0.000000</td>\n",
       "      <td>0.000000</td>\n",
       "      <td>1.000000</td>\n",
       "      <td>1.686365e+07</td>\n",
       "    </tr>\n",
       "    <tr>\n",
       "      <th>75%</th>\n",
       "      <td>9525.000000</td>\n",
       "      <td>13.000000</td>\n",
       "      <td>0.000000</td>\n",
       "      <td>1.000000</td>\n",
       "      <td>4.000000</td>\n",
       "      <td>11.000000</td>\n",
       "      <td>165.750000</td>\n",
       "      <td>24.000000</td>\n",
       "      <td>141.000000</td>\n",
       "      <td>5.000000</td>\n",
       "      <td>0.000000</td>\n",
       "      <td>0.000000</td>\n",
       "      <td>1.000000</td>\n",
       "      <td>9.072573e+07</td>\n",
       "    </tr>\n",
       "    <tr>\n",
       "      <th>max</th>\n",
       "      <td>44787.000000</td>\n",
       "      <td>132.000000</td>\n",
       "      <td>13.000000</td>\n",
       "      <td>13.000000</td>\n",
       "      <td>34.000000</td>\n",
       "      <td>87.000000</td>\n",
       "      <td>715.000000</td>\n",
       "      <td>85.000000</td>\n",
       "      <td>623.000000</td>\n",
       "      <td>22.000000</td>\n",
       "      <td>13.000000</td>\n",
       "      <td>1.000000</td>\n",
       "      <td>1.000000</td>\n",
       "      <td>2.005875e+09</td>\n",
       "    </tr>\n",
       "  </tbody>\n",
       "</table>\n",
       "</div>"
      ],
      "text/plain": [
       "         Population     Violent      Murder       Rape2     Robbery  \\\n",
       "count    348.000000  348.000000  348.000000  348.000000  348.000000   \n",
       "mean    7283.169540    8.772989    1.278736    1.787356    2.931034   \n",
       "std     8438.857837   12.238394    3.683424    3.706161    4.683143   \n",
       "min        0.000000    0.000000    0.000000    0.000000    0.000000   \n",
       "25%     1732.750000    1.000000    0.000000    0.000000    0.000000   \n",
       "50%     4106.500000    5.000000    0.000000    0.000000    1.000000   \n",
       "75%     9525.000000   13.000000    0.000000    1.000000    4.000000   \n",
       "max    44787.000000  132.000000   13.000000   13.000000   34.000000   \n",
       "\n",
       "          Assault  PropertyCrime    Burglary  LarcenyTheft  VehicleTheft  \\\n",
       "count  348.000000     348.000000  348.000000    348.000000    348.000000   \n",
       "mean     6.456897     119.198276   18.399425     99.554598      3.698276   \n",
       "std      8.618115     144.633207   19.609552    124.724226      4.786905   \n",
       "min      0.000000       0.000000    0.000000      0.000000      0.000000   \n",
       "25%      1.000000      13.000000    4.000000     13.000000      0.000000   \n",
       "50%      3.000000      59.500000   13.000000     47.000000      2.000000   \n",
       "75%     11.000000     165.750000   24.000000    141.000000      5.000000   \n",
       "max     87.000000     715.000000   85.000000    623.000000     22.000000   \n",
       "\n",
       "           Arson3  Murder_bool  Robbery_bool  Population^2  \n",
       "count  348.000000   348.000000    348.000000  3.480000e+02  \n",
       "mean     1.393678     0.169540      0.563218  1.240542e+08  \n",
       "std      3.690890     0.375769      0.496701  2.686047e+08  \n",
       "min      0.000000     0.000000      0.000000  0.000000e+00  \n",
       "25%      0.000000     0.000000      0.000000  3.002423e+06  \n",
       "50%      0.000000     0.000000      1.000000  1.686365e+07  \n",
       "75%      0.000000     0.000000      1.000000  9.072573e+07  \n",
       "max     13.000000     1.000000      1.000000  2.005875e+09  "
      ]
     },
     "execution_count": 21,
     "metadata": {},
     "output_type": "execute_result"
    }
   ],
   "source": [
    "df.describe()"
   ]
  },
  {
   "cell_type": "markdown",
   "metadata": {},
   "source": [
    "## Modeling correlation"
   ]
  },
  {
   "cell_type": "code",
   "execution_count": 22,
   "metadata": {},
   "outputs": [
    {
     "data": {
      "image/png": "[encoded data removed]",
      "text/plain": [
       "<Figure size 432x288 with 2 Axes>"
      ]
     },
     "metadata": {},
     "output_type": "display_data"
    }
   ],
   "source": [
    "sns.heatmap(df.corr())\n",
    "plt.show()"
   ]
  },
  {
   "cell_type": "code",
   "execution_count": 23,
   "metadata": {},
   "outputs": [
    {
     "data": {
      "text/html": [
       "<div>\n",
       "<style scoped>\n",
       "    .dataframe tbody tr th:only-of-type {\n",
       "        vertical-align: middle;\n",
       "    }\n",
       "\n",
       "    .dataframe tbody tr th {\n",
       "        vertical-align: top;\n",
       "    }\n",
       "\n",
       "    .dataframe thead th {\n",
       "        text-align: right;\n",
       "    }\n",
       "</style>\n",
       "<table border=\"1\" class=\"dataframe\">\n",
       "  <thead>\n",
       "    <tr style=\"text-align: right;\">\n",
       "      <th></th>\n",
       "      <th>Population</th>\n",
       "      <th>Violent</th>\n",
       "      <th>Murder</th>\n",
       "      <th>Rape2</th>\n",
       "      <th>Robbery</th>\n",
       "      <th>Assault</th>\n",
       "      <th>PropertyCrime</th>\n",
       "      <th>Burglary</th>\n",
       "      <th>LarcenyTheft</th>\n",
       "      <th>VehicleTheft</th>\n",
       "      <th>Arson3</th>\n",
       "      <th>Murder_bool</th>\n",
       "      <th>Robbery_bool</th>\n",
       "      <th>Population^2</th>\n",
       "    </tr>\n",
       "  </thead>\n",
       "  <tbody>\n",
       "    <tr>\n",
       "      <th>Population</th>\n",
       "      <td>1.000000</td>\n",
       "      <td>0.538184</td>\n",
       "      <td>-0.271034</td>\n",
       "      <td>-0.156476</td>\n",
       "      <td>0.249163</td>\n",
       "      <td>0.442928</td>\n",
       "      <td>0.761841</td>\n",
       "      <td>0.649098</td>\n",
       "      <td>0.751581</td>\n",
       "      <td>0.333867</td>\n",
       "      <td>-0.251816</td>\n",
       "      <td>-0.135607</td>\n",
       "      <td>0.324756</td>\n",
       "      <td>0.933749</td>\n",
       "    </tr>\n",
       "    <tr>\n",
       "      <th>Violent</th>\n",
       "      <td>0.538184</td>\n",
       "      <td>1.000000</td>\n",
       "      <td>0.127091</td>\n",
       "      <td>0.326653</td>\n",
       "      <td>0.698690</td>\n",
       "      <td>0.969462</td>\n",
       "      <td>0.621472</td>\n",
       "      <td>0.698272</td>\n",
       "      <td>0.595443</td>\n",
       "      <td>0.551102</td>\n",
       "      <td>0.135516</td>\n",
       "      <td>0.258427</td>\n",
       "      <td>0.457720</td>\n",
       "      <td>0.520687</td>\n",
       "    </tr>\n",
       "    <tr>\n",
       "      <th>Murder</th>\n",
       "      <td>-0.271034</td>\n",
       "      <td>0.127091</td>\n",
       "      <td>1.000000</td>\n",
       "      <td>0.951574</td>\n",
       "      <td>0.686746</td>\n",
       "      <td>0.253711</td>\n",
       "      <td>-0.230848</td>\n",
       "      <td>-0.085611</td>\n",
       "      <td>-0.218741</td>\n",
       "      <td>0.615076</td>\n",
       "      <td>0.983743</td>\n",
       "      <td>0.769444</td>\n",
       "      <td>0.304584</td>\n",
       "      <td>-0.138437</td>\n",
       "    </tr>\n",
       "    <tr>\n",
       "      <th>Rape2</th>\n",
       "      <td>-0.156476</td>\n",
       "      <td>0.326653</td>\n",
       "      <td>0.951574</td>\n",
       "      <td>1.000000</td>\n",
       "      <td>0.757616</td>\n",
       "      <td>0.431807</td>\n",
       "      <td>-0.064667</td>\n",
       "      <td>0.083294</td>\n",
       "      <td>-0.057662</td>\n",
       "      <td>0.667248</td>\n",
       "      <td>0.941750</td>\n",
       "      <td>0.741943</td>\n",
       "      <td>0.381476</td>\n",
       "      <td>-0.042175</td>\n",
       "    </tr>\n",
       "    <tr>\n",
       "      <th>Robbery</th>\n",
       "      <td>0.249163</td>\n",
       "      <td>0.698690</td>\n",
       "      <td>0.686746</td>\n",
       "      <td>0.757616</td>\n",
       "      <td>1.000000</td>\n",
       "      <td>0.687472</td>\n",
       "      <td>0.284168</td>\n",
       "      <td>0.404455</td>\n",
       "      <td>0.274681</td>\n",
       "      <td>0.802004</td>\n",
       "      <td>0.677647</td>\n",
       "      <td>0.619132</td>\n",
       "      <td>0.551953</td>\n",
       "      <td>0.332677</td>\n",
       "    </tr>\n",
       "    <tr>\n",
       "      <th>Assault</th>\n",
       "      <td>0.442928</td>\n",
       "      <td>0.969462</td>\n",
       "      <td>0.253711</td>\n",
       "      <td>0.431807</td>\n",
       "      <td>0.687472</td>\n",
       "      <td>1.000000</td>\n",
       "      <td>0.538030</td>\n",
       "      <td>0.639600</td>\n",
       "      <td>0.514968</td>\n",
       "      <td>0.567717</td>\n",
       "      <td>0.265856</td>\n",
       "      <td>0.329299</td>\n",
       "      <td>0.432515</td>\n",
       "      <td>0.438107</td>\n",
       "    </tr>\n",
       "    <tr>\n",
       "      <th>PropertyCrime</th>\n",
       "      <td>0.761841</td>\n",
       "      <td>0.621472</td>\n",
       "      <td>-0.230848</td>\n",
       "      <td>-0.064667</td>\n",
       "      <td>0.284168</td>\n",
       "      <td>0.538030</td>\n",
       "      <td>1.000000</td>\n",
       "      <td>0.860571</td>\n",
       "      <td>0.996382</td>\n",
       "      <td>0.348037</td>\n",
       "      <td>-0.199701</td>\n",
       "      <td>-0.100679</td>\n",
       "      <td>0.455311</td>\n",
       "      <td>0.656219</td>\n",
       "    </tr>\n",
       "    <tr>\n",
       "      <th>Burglary</th>\n",
       "      <td>0.649098</td>\n",
       "      <td>0.698272</td>\n",
       "      <td>-0.085611</td>\n",
       "      <td>0.083294</td>\n",
       "      <td>0.404455</td>\n",
       "      <td>0.639600</td>\n",
       "      <td>0.860571</td>\n",
       "      <td>1.000000</td>\n",
       "      <td>0.818783</td>\n",
       "      <td>0.411848</td>\n",
       "      <td>-0.049561</td>\n",
       "      <td>0.028720</td>\n",
       "      <td>0.486332</td>\n",
       "      <td>0.531786</td>\n",
       "    </tr>\n",
       "    <tr>\n",
       "      <th>LarcenyTheft</th>\n",
       "      <td>0.751581</td>\n",
       "      <td>0.595443</td>\n",
       "      <td>-0.218741</td>\n",
       "      <td>-0.057662</td>\n",
       "      <td>0.274681</td>\n",
       "      <td>0.514968</td>\n",
       "      <td>0.996382</td>\n",
       "      <td>0.818783</td>\n",
       "      <td>1.000000</td>\n",
       "      <td>0.335965</td>\n",
       "      <td>-0.188964</td>\n",
       "      <td>-0.098858</td>\n",
       "      <td>0.449381</td>\n",
       "      <td>0.653091</td>\n",
       "    </tr>\n",
       "    <tr>\n",
       "      <th>VehicleTheft</th>\n",
       "      <td>0.333867</td>\n",
       "      <td>0.551102</td>\n",
       "      <td>0.615076</td>\n",
       "      <td>0.667248</td>\n",
       "      <td>0.802004</td>\n",
       "      <td>0.567717</td>\n",
       "      <td>0.348037</td>\n",
       "      <td>0.411848</td>\n",
       "      <td>0.335965</td>\n",
       "      <td>1.000000</td>\n",
       "      <td>0.613517</td>\n",
       "      <td>0.552414</td>\n",
       "      <td>0.508016</td>\n",
       "      <td>0.394842</td>\n",
       "    </tr>\n",
       "    <tr>\n",
       "      <th>Arson3</th>\n",
       "      <td>-0.251816</td>\n",
       "      <td>0.135516</td>\n",
       "      <td>0.983743</td>\n",
       "      <td>0.941750</td>\n",
       "      <td>0.677647</td>\n",
       "      <td>0.265856</td>\n",
       "      <td>-0.199701</td>\n",
       "      <td>-0.049561</td>\n",
       "      <td>-0.188964</td>\n",
       "      <td>0.613517</td>\n",
       "      <td>1.000000</td>\n",
       "      <td>0.724706</td>\n",
       "      <td>0.318857</td>\n",
       "      <td>-0.129271</td>\n",
       "    </tr>\n",
       "    <tr>\n",
       "      <th>Murder_bool</th>\n",
       "      <td>-0.135607</td>\n",
       "      <td>0.258427</td>\n",
       "      <td>0.769444</td>\n",
       "      <td>0.741943</td>\n",
       "      <td>0.619132</td>\n",
       "      <td>0.329299</td>\n",
       "      <td>-0.100679</td>\n",
       "      <td>0.028720</td>\n",
       "      <td>-0.098858</td>\n",
       "      <td>0.552414</td>\n",
       "      <td>0.724706</td>\n",
       "      <td>1.000000</td>\n",
       "      <td>0.382457</td>\n",
       "      <td>-0.019567</td>\n",
       "    </tr>\n",
       "    <tr>\n",
       "      <th>Robbery_bool</th>\n",
       "      <td>0.324756</td>\n",
       "      <td>0.457720</td>\n",
       "      <td>0.304584</td>\n",
       "      <td>0.381476</td>\n",
       "      <td>0.551953</td>\n",
       "      <td>0.432515</td>\n",
       "      <td>0.455311</td>\n",
       "      <td>0.486332</td>\n",
       "      <td>0.449381</td>\n",
       "      <td>0.508016</td>\n",
       "      <td>0.318857</td>\n",
       "      <td>0.382457</td>\n",
       "      <td>1.000000</td>\n",
       "      <td>0.277527</td>\n",
       "    </tr>\n",
       "    <tr>\n",
       "      <th>Population^2</th>\n",
       "      <td>0.933749</td>\n",
       "      <td>0.520687</td>\n",
       "      <td>-0.138437</td>\n",
       "      <td>-0.042175</td>\n",
       "      <td>0.332677</td>\n",
       "      <td>0.438107</td>\n",
       "      <td>0.656219</td>\n",
       "      <td>0.531786</td>\n",
       "      <td>0.653091</td>\n",
       "      <td>0.394842</td>\n",
       "      <td>-0.129271</td>\n",
       "      <td>-0.019567</td>\n",
       "      <td>0.277527</td>\n",
       "      <td>1.000000</td>\n",
       "    </tr>\n",
       "  </tbody>\n",
       "</table>\n",
       "</div>"
      ],
      "text/plain": [
       "               Population   Violent    Murder     Rape2   Robbery   Assault  \\\n",
       "Population       1.000000  0.538184 -0.271034 -0.156476  0.249163  0.442928   \n",
       "Violent          0.538184  1.000000  0.127091  0.326653  0.698690  0.969462   \n",
       "Murder          -0.271034  0.127091  1.000000  0.951574  0.686746  0.253711   \n",
       "Rape2           -0.156476  0.326653  0.951574  1.000000  0.757616  0.431807   \n",
       "Robbery          0.249163  0.698690  0.686746  0.757616  1.000000  0.687472   \n",
       "Assault          0.442928  0.969462  0.253711  0.431807  0.687472  1.000000   \n",
       "PropertyCrime    0.761841  0.621472 -0.230848 -0.064667  0.284168  0.538030   \n",
       "Burglary         0.649098  0.698272 -0.085611  0.083294  0.404455  0.639600   \n",
       "LarcenyTheft     0.751581  0.595443 -0.218741 -0.057662  0.274681  0.514968   \n",
       "VehicleTheft     0.333867  0.551102  0.615076  0.667248  0.802004  0.567717   \n",
       "Arson3          -0.251816  0.135516  0.983743  0.941750  0.677647  0.265856   \n",
       "Murder_bool     -0.135607  0.258427  0.769444  0.741943  0.619132  0.329299   \n",
       "Robbery_bool     0.324756  0.457720  0.304584  0.381476  0.551953  0.432515   \n",
       "Population^2     0.933749  0.520687 -0.138437 -0.042175  0.332677  0.438107   \n",
       "\n",
       "               PropertyCrime  Burglary  LarcenyTheft  VehicleTheft    Arson3  \\\n",
       "Population          0.761841  0.649098      0.751581      0.333867 -0.251816   \n",
       "Violent             0.621472  0.698272      0.595443      0.551102  0.135516   \n",
       "Murder             -0.230848 -0.085611     -0.218741      0.615076  0.983743   \n",
       "Rape2              -0.064667  0.083294     -0.057662      0.667248  0.941750   \n",
       "Robbery             0.284168  0.404455      0.274681      0.802004  0.677647   \n",
       "Assault             0.538030  0.639600      0.514968      0.567717  0.265856   \n",
       "PropertyCrime       1.000000  0.860571      0.996382      0.348037 -0.199701   \n",
       "Burglary            0.860571  1.000000      0.818783      0.411848 -0.049561   \n",
       "LarcenyTheft        0.996382  0.818783      1.000000      0.335965 -0.188964   \n",
       "VehicleTheft        0.348037  0.411848      0.335965      1.000000  0.613517   \n",
       "Arson3             -0.199701 -0.049561     -0.188964      0.613517  1.000000   \n",
       "Murder_bool        -0.100679  0.028720     -0.098858      0.552414  0.724706   \n",
       "Robbery_bool        0.455311  0.486332      0.449381      0.508016  0.318857   \n",
       "Population^2        0.656219  0.531786      0.653091      0.394842 -0.129271   \n",
       "\n",
       "               Murder_bool  Robbery_bool  Population^2  \n",
       "Population       -0.135607      0.324756      0.933749  \n",
       "Violent           0.258427      0.457720      0.520687  \n",
       "Murder            0.769444      0.304584     -0.138437  \n",
       "Rape2             0.741943      0.381476     -0.042175  \n",
       "Robbery           0.619132      0.551953      0.332677  \n",
       "Assault           0.329299      0.432515      0.438107  \n",
       "PropertyCrime    -0.100679      0.455311      0.656219  \n",
       "Burglary          0.028720      0.486332      0.531786  \n",
       "LarcenyTheft     -0.098858      0.449381      0.653091  \n",
       "VehicleTheft      0.552414      0.508016      0.394842  \n",
       "Arson3            0.724706      0.318857     -0.129271  \n",
       "Murder_bool       1.000000      0.382457     -0.019567  \n",
       "Robbery_bool      0.382457      1.000000      0.277527  \n",
       "Population^2     -0.019567      0.277527      1.000000  "
      ]
     },
     "execution_count": 23,
     "metadata": {},
     "output_type": "execute_result"
    }
   ],
   "source": [
    "df.corr()"
   ]
  },
  {
   "cell_type": "markdown",
   "metadata": {},
   "source": [
    "Variables with a correlation factor of +- 0.4 or greater to property crime:\n",
    "- population (and population^2)\n",
    "- violent\n",
    "- assault\n",
    "- Burglary\n",
    "- LarcenyTheft\n",
    "- Robbery_bool"
   ]
  },
  {
   "cell_type": "markdown",
   "metadata": {},
   "source": [
    "### Linear regression on correlated features\n",
    "- Larceny theft is so well correlated to property theft, if I wanted near 100% R^2, I can include that as a feature."
   ]
  },
  {
   "cell_type": "code",
   "execution_count": 24,
   "metadata": {},
   "outputs": [
    {
     "data": {
      "text/plain": [
       "LinearRegression(copy_X=True, fit_intercept=True, n_jobs=1, normalize=False)"
      ]
     },
     "execution_count": 24,
     "metadata": {},
     "output_type": "execute_result"
    }
   ],
   "source": [
    "regr = linear_model.LinearRegression()\n",
    "\n",
    "y = df.PropertyCrime\n",
    "X = df[['Population', 'Violent', 'Assault', 'Burglary', 'VehicleTheft']]\n",
    "\n",
    "regr.fit(X,y)"
   ]
  },
  {
   "cell_type": "code",
   "execution_count": 25,
   "metadata": {
    "scrolled": true
   },
   "outputs": [
    {
     "name": "stdout",
     "output_type": "stream",
     "text": [
      "Coefficients: [ 0.00567753  2.70305276 -3.80429138  4.7248739  -0.71761506]\n",
      "Intercept:  -5.583086120764804\n",
      "R-squared:  0.8155736926237587\n"
     ]
    }
   ],
   "source": [
    "# correlation without larceny theft as a variable\n",
    "print('Coefficients:', regr.coef_)\n",
    "print('Intercept: ', regr.intercept_)\n",
    "print('R-squared: ', regr.score(X, y))"
   ]
  },
  {
   "cell_type": "code",
   "execution_count": 26,
   "metadata": {},
   "outputs": [
    {
     "name": "stdout",
     "output_type": "stream",
     "text": [
      "Now with the added Larceny Theft feature\n",
      "\n",
      "Coefficients: [ 2.51163383e-04  7.83474266e-01 -1.09140741e+00  1.00950826e+00\n",
      " -1.44007453e-01  1.00761689e+00]\n",
      "Intercept:  -0.8119827222381986\n",
      "R-squared:  0.999276526451617\n"
     ]
    }
   ],
   "source": [
    "# including Larceny Theft\n",
    "X = df[['Population', 'Violent', 'Assault', 'Burglary', 'VehicleTheft', 'LarcenyTheft']]\n",
    "\n",
    "regr.fit(X,y)\n",
    "print(\"Now with the added Larceny Theft feature\\n\")\n",
    "print('Coefficients:', regr.coef_)\n",
    "print('Intercept: ', regr.intercept_)\n",
    "print('R-squared: ', regr.score(X, y))"
   ]
  },
  {
   "cell_type": "markdown",
   "metadata": {},
   "source": [
    "## Verifying assumptions \n",
    "### 1. Linear relationships\n"
   ]
  },
  {
   "cell_type": "code",
   "execution_count": 27,
   "metadata": {},
   "outputs": [
    {
     "data": {
      "text/plain": [
       "City              object\n",
       "Population       float64\n",
       "Violent          float64\n",
       "Murder           float64\n",
       "Rape2            float64\n",
       "Robbery          float64\n",
       "Assault          float64\n",
       "PropertyCrime    float64\n",
       "Burglary         float64\n",
       "LarcenyTheft     float64\n",
       "VehicleTheft     float64\n",
       "Arson3           float64\n",
       "Murder_bool        int32\n",
       "Robbery_bool       int32\n",
       "Population^2     float64\n",
       "dtype: object"
      ]
     },
     "execution_count": 27,
     "metadata": {},
     "output_type": "execute_result"
    }
   ],
   "source": [
    "df.dtypes"
   ]
  },
  {
   "cell_type": "code",
   "execution_count": 28,
   "metadata": {},
   "outputs": [
    {
     "data": {
      "image/png": "[encoded data removed]",
      "text/plain": [
       "<Figure size 432x288 with 1 Axes>"
      ]
     },
     "metadata": {},
     "output_type": "display_data"
    },
    {
     "data": {
      "image/png": "[encoded data removed]",
      "text/plain": [
       "<Figure size 432x288 with 1 Axes>"
      ]
     },
     "metadata": {},
     "output_type": "display_data"
    }
   ],
   "source": [
    "df['Population^2'] = df['Population']*df['Population']\n",
    "\n",
    "plt.scatter(df.PropertyCrime, df.Population)\n",
    "plt.show()\n",
    "\n",
    "plt.scatter(df.PropertyCrime, df['Population^2'])\n",
    "plt.show()"
   ]
  },
  {
   "cell_type": "code",
   "execution_count": 29,
   "metadata": {},
   "outputs": [
    {
     "data": {
      "image/png": "[encoded data removed]",
      "text/plain": [
       "<Figure size 432x288 with 1 Axes>"
      ]
     },
     "metadata": {},
     "output_type": "display_data"
    },
    {
     "data": {
      "image/png": "[encoded data removed]",
      "text/plain": [
       "<Figure size 432x288 with 1 Axes>"
      ]
     },
     "metadata": {},
     "output_type": "display_data"
    },
    {
     "data": {
      "image/png": "[encoded data removed]",
      "text/plain": [
       "<Figure size 432x288 with 1 Axes>"
      ]
     },
     "metadata": {},
     "output_type": "display_data"
    },
    {
     "data": {
      "image/png": "[encoded data removed]",
      "text/plain": [
       "<Figure size 432x288 with 1 Axes>"
      ]
     },
     "metadata": {},
     "output_type": "display_data"
    },
    {
     "data": {
      "image/png": "[encoded data removed]",
      "text/plain": [
       "<Figure size 432x288 with 1 Axes>"
      ]
     },
     "metadata": {},
     "output_type": "display_data"
    },
    {
     "name": "stdout",
     "output_type": "stream",
     "text": [
      "Looks like all variables are linear, except Vehicle Theft is a bit iffy\n"
     ]
    }
   ],
   "source": [
    "fig = plt.figure()\n",
    "fig.suptitle('Variables plotted against property crime',fontsize=12)\n",
    "\n",
    "plt.subplots_adjust(hspace=0.19)\n",
    "\n",
    "plt.scatter(df.PropertyCrime, df.Violent)\n",
    "plt.title('Violence')\n",
    "plt.show()\n",
    "\n",
    "plt.scatter(df.PropertyCrime, df.Assault)\n",
    "plt.title('Assault')\n",
    "plt.show()\n",
    "\n",
    "plt.scatter(df.PropertyCrime, df.Burglary)\n",
    "plt.title('Burglary')\n",
    "plt.show()\n",
    "\n",
    "plt.scatter(df.PropertyCrime, df.VehicleTheft)\n",
    "plt.title('Vehicle Theft')\n",
    "plt.show()\n",
    "\n",
    "plt.scatter(df.PropertyCrime, df.LarcenyTheft)\n",
    "plt.title('Larceny Theft')\n",
    "plt.show()\n",
    "\n",
    "print(\"Looks like all variables are linear, except Vehicle Theft is a bit iffy\")"
   ]
  },
  {
   "cell_type": "markdown",
   "metadata": {},
   "source": [
    "### 2. Multivariate normality\n",
    "- features should be normally distributed\n",
    "- we can quickly test this by looking at error distribution\n",
    "    - error distributed non-normally tends to occur from non-normal data"
   ]
  },
  {
   "cell_type": "code",
   "execution_count": 30,
   "metadata": {},
   "outputs": [
    {
     "data": {
      "image/png": "[encoded data removed]",
      "text/plain": [
       "<Figure size 432x288 with 1 Axes>"
      ]
     },
     "metadata": {},
     "output_type": "display_data"
    },
    {
     "name": "stdout",
     "output_type": "stream",
     "text": [
      "Awesome! Looks fairly normally distributed\n"
     ]
    }
   ],
   "source": [
    "actual = np.array(df.PropertyCrime)\n",
    "predicted = regr.predict(X)\n",
    "error = actual - predicted\n",
    "\n",
    "plt.hist(error)\n",
    "plt.title('Error distribution')\n",
    "plt.show()\n",
    "\n",
    "print(\"Awesome! Looks fairly normally distributed\")"
   ]
  },
  {
   "cell_type": "markdown",
   "metadata": {},
   "source": [
    "### 3. Homoscedasticity\n",
    "- the distribution of error terms should be consistent for all predicted values"
   ]
  },
  {
   "cell_type": "code",
   "execution_count": 31,
   "metadata": {},
   "outputs": [
    {
     "data": {
      "image/png": "[encoded data removed]",
      "text/plain": [
       "<Figure size 432x288 with 1 Axes>"
      ]
     },
     "metadata": {},
     "output_type": "display_data"
    },
    {
     "name": "stdout",
     "output_type": "stream",
     "text": [
      "Looks like there are roughly equally distributed errors across the data\n"
     ]
    }
   ],
   "source": [
    "plt.scatter(predicted, error)\n",
    "plt.title(\"Error versus Predicted\")\n",
    "plt.xlabel(\"Predicted\")\n",
    "plt.ylabel(\"Error\")\n",
    "plt.axhline(y=0)\n",
    "plt.show()\n",
    "\n",
    "print(\"Looks like there are roughly equally distributed errors across the data\")"
   ]
  },
  {
   "cell_type": "markdown",
   "metadata": {},
   "source": [
    "### Statistical testing\n",
    "I'd like to look at the importance of each feature here\n",
    "- will use statsmodels here instead of sklearn, will be easier to get p-values\n",
    "    - this way we can determine significance of each feature on the prediction"
   ]
  },
  {
   "cell_type": "code",
   "execution_count": 32,
   "metadata": {},
   "outputs": [],
   "source": [
    "import statsmodels.formula.api as smf\n",
    "from statsmodels.sandbox.regression.predstd import wls_prediction_std"
   ]
  },
  {
   "cell_type": "code",
   "execution_count": 33,
   "metadata": {},
   "outputs": [],
   "source": [
    "# model formula; dependent variable on left - independent on right\n",
    "linear_formula = 'PropertyCrime ~ Population+Violent+Assault+Burglary+VehicleTheft'\n",
    "\n",
    "# fit the model\n",
    "lm = smf.ols(formula=linear_formula, data=df).fit()"
   ]
  },
  {
   "cell_type": "code",
   "execution_count": 34,
   "metadata": {},
   "outputs": [
    {
     "data": {
      "text/plain": [
       "Intercept      -5.583086\n",
       "Population      0.005678\n",
       "Violent         2.703053\n",
       "Assault        -3.804291\n",
       "Burglary        4.724874\n",
       "VehicleTheft   -0.717615\n",
       "dtype: float64"
      ]
     },
     "execution_count": 34,
     "metadata": {},
     "output_type": "execute_result"
    }
   ],
   "source": [
    "# coefficients\n",
    "lm.params"
   ]
  },
  {
   "cell_type": "code",
   "execution_count": 35,
   "metadata": {},
   "outputs": [
    {
     "data": {
      "text/plain": [
       "Intercept       2.775792e-01\n",
       "Population      4.405101e-21\n",
       "Violent         4.118585e-02\n",
       "Assault         3.103229e-02\n",
       "Burglary        1.022825e-49\n",
       "VehicleTheft    4.044588e-01\n",
       "dtype: float64"
      ]
     },
     "execution_count": 35,
     "metadata": {},
     "output_type": "execute_result"
    }
   ],
   "source": [
    "lm.pvalues"
   ]
  },
  {
   "cell_type": "markdown",
   "metadata": {},
   "source": [
    "The p-values are so low, we can be confident, all the features play an effect on the output."
   ]
  },
  {
   "cell_type": "code",
   "execution_count": 36,
   "metadata": {},
   "outputs": [
    {
     "data": {
      "text/plain": [
       "0.8155736926237588"
      ]
     },
     "execution_count": 36,
     "metadata": {},
     "output_type": "execute_result"
    }
   ],
   "source": [
    "lm.rsquared"
   ]
  },
  {
   "cell_type": "markdown",
   "metadata": {},
   "source": [
    "## Validating the model"
   ]
  },
  {
   "cell_type": "code",
   "execution_count": 37,
   "metadata": {},
   "outputs": [],
   "source": [
    "# Using holdout groups\n",
    "from sklearn.model_selection import train_test_split"
   ]
  },
  {
   "cell_type": "code",
   "execution_count": 38,
   "metadata": {},
   "outputs": [],
   "source": [
    "X_train, X_test, y_train, y_test = train_test_split(X, y, test_size=0.3, random_state=1)\n",
    "y = df.PropertyCrime\n",
    "X = df[['Population', 'Violent', 'Assault', 'Burglary', 'VehicleTheft']]"
   ]
  },
  {
   "cell_type": "code",
   "execution_count": 39,
   "metadata": {},
   "outputs": [
    {
     "name": "stdout",
     "output_type": "stream",
     "text": [
      "With 30% holdout:  0.9993438119591843\n",
      "Running on test group:  0.8155736926237587\n",
      "\n",
      "\n",
      " Interesting, looks like our model is not overfitting. Cool!\n"
     ]
    }
   ],
   "source": [
    "holdout = regr.fit(X_train, y_train).score(X_test, y_test)\n",
    "testrun = regr.fit(X, y).score(X, y)\n",
    "print(\"With 30% holdout: \", holdout)\n",
    "print(\"Running on test group: \", testrun)\n",
    "\n",
    "print(\"\\n\\n Interesting, looks like our model is not overfitting. Cool!\")"
   ]
  },
  {
   "cell_type": "code",
   "execution_count": 40,
   "metadata": {},
   "outputs": [
    {
     "name": "stdout",
     "output_type": "stream",
     "text": [
      "[0.92736268 0.82039842 0.74041744 0.80759889 0.74558406 0.90643909\n",
      " 0.79925104 0.90751311 0.87505927 0.51644019]\n",
      "\n",
      "Actually, there's a bit of inconsistencies in this set\n"
     ]
    }
   ],
   "source": [
    "# using cross-validation\n",
    "from sklearn.model_selection import cross_val_score\n",
    "print(cross_val_score(regr, X, y, cv=10))\n",
    "print(\"\\nActually, there's a bit of inconsistencies in this set\")"
   ]
  },
  {
   "cell_type": "code",
   "execution_count": 41,
   "metadata": {
    "scrolled": true
   },
   "outputs": [
    {
     "name": "stdout",
     "output_type": "stream",
     "text": [
      "Coefficients: [ 0.00567753  2.70305276 -3.80429138  4.7248739  -0.71761506]\n",
      "Intercept:  -5.583086120764804\n",
      "R-squared:  0.8155736926237587\n",
      "\n",
      "The R-squared is pretty good, though. Let's try using a different dataset year.\n"
     ]
    }
   ],
   "source": [
    "print('Coefficients:', regr.coef_)\n",
    "print('Intercept: ', regr.intercept_)\n",
    "print('R-squared: ', regr.score(X, y))\n",
    "print(\"\\nThe R-squared is pretty good, though. Let's try using a different dataset year.\")"
   ]
  },
  {
   "cell_type": "markdown",
   "metadata": {},
   "source": [
    "### Using a separate dataset for validation\n",
    "- compare to 2014 New York crimes dataset"
   ]
  },
  {
   "cell_type": "code",
   "execution_count": 51,
   "metadata": {},
   "outputs": [],
   "source": [
    "df2014 = pd.read_csv(\"../data/NEW_YORK-Offenses_2014.csv\", header=4)"
   ]
  },
  {
   "cell_type": "code",
   "execution_count": 53,
   "metadata": {},
   "outputs": [
    {
     "data": {
      "text/plain": [
       "City              object\n",
       "Population        object\n",
       "Violent           object\n",
       "Murder           float64\n",
       "Rape1             object\n",
       "Rape2            float64\n",
       "Robbery           object\n",
       "Assault           object\n",
       "PropertyCrime     object\n",
       "Burglary          object\n",
       "LarcenyTheft      object\n",
       "VehicleTheft      object\n",
       "Arson3           float64\n",
       "Unnamed: 13      float64\n",
       "dtype: object"
      ]
     },
     "execution_count": 53,
     "metadata": {},
     "output_type": "execute_result"
    }
   ],
   "source": [
    "df2014.dtypes"
   ]
  },
  {
   "cell_type": "code",
   "execution_count": 54,
   "metadata": {
    "scrolled": true
   },
   "outputs": [],
   "source": [
    "# run the same data cleaning efforts on this dataset\n",
    "\n",
    "# rename columns\n",
    "df2014 = df2014.rename(columns={'Violent\\ncrime':'Violent', 'Murder and\\nnonnegligent\\nmanslaughter':'Murder', \n",
    "                   'Rape\\n(revised\\ndefinition)1':'Rape1', 'Rape\\n(legacy\\ndefinition)2':'Rape2',\n",
    "                   'Aggravated\\nassault':'Assault', 'Property\\ncrime':'PropertyCrime',\n",
    "                   'Larceny-\\ntheft':'LarcenyTheft', 'Motor\\nvehicle\\ntheft':'VehicleTheft'})\n",
    "\n",
    "# remove commas\n",
    "df2014['Population'] = df2014['Population'].str.replace(',','')\n",
    "df2014['Violent'] = df2014['Violent'].str.replace(',','')\n",
    "df2014['Assault'] = df2014['Assault'].str.replace(',','')\n",
    "df2014['PropertyCrime'] = df2014['PropertyCrime'].str.replace(',','')\n",
    "df2014['Burglary'] = df2014['Burglary'].str.replace(',','')\n",
    "df2014['LarcenyTheft'] = df2014['LarcenyTheft'].str.replace(',','')\n",
    "df2014['VehicleTheft'] = df2014['VehicleTheft'].str.replace(',','')\n",
    "df2014['Robbery'] = df2014['Robbery'].str.replace(',','')\n",
    "\n",
    "# drop rape1 column\n",
    "df2014 = df2014.drop(columns=['Rape1'])\n",
    "\n",
    "for key in remove_commas:\n",
    "    df2014[key] = pd.to_numeric(df2014[key])\n",
    "    \n",
    "# fill in zeroes for NaNs\n",
    "df2014.Arson3 = df2014.Arson3.fillna(0)\n",
    "\n",
    "# dropping comments printed in the cell above from dataframe\n",
    "df2014.drop(df2014.index[348:], inplace=True)\n",
    "\n",
    "# dropping entries missing the city value\n",
    "df2014 = df2014[df2014.City != 1]\n",
    "\n",
    "\n",
    "# set outlier values for to median for the following features\n",
    "poplimit = (df2014.Population.mean() + (2 * df2014.Population.std()))\n",
    "df2014[df2014['Population'] > poplimit] = df2014.Population.median()\n",
    "\n",
    "violentlimit = (df2014.Violent.mean() + (2*df2014.Violent.std()))\n",
    "df2014[df2014['Violent'] > violentlimit] = df2014.Violent.median()\n",
    "\n",
    "rapelimit = (df2014.Rape2.mean() + (2*df2014.Rape2.std()))\n",
    "df2014[df2014['Rape2'] > rapelimit] = df2014.Rape2.median()\n",
    "\n",
    "robberylimit = (df2014.Robbery.mean() + (2*df2014.Robbery.std()))\n",
    "df2014[df2014['Robbery'] > robberylimit] = df2014.Robbery.median()\n",
    "\n",
    "propertycrimelimit = (df2014.PropertyCrime.mean() + (2*df2014.PropertyCrime.std()))\n",
    "df2014[df2014['PropertyCrime'] > propertycrimelimit] = df2014.PropertyCrime.median()\n",
    "\n",
    "burglarylimit = (df2014.Burglary.mean() + (2*df2014.Burglary.std()))\n",
    "df2014[df2014['Burglary'] > burglarylimit] = df2014.Burglary.median()\n",
    "\n",
    "# creating boolean categories for murder and robbery\n",
    "df2014['Murder_bool'] = np.where((df2014.Murder > 0), 1, 0)\n",
    "df2014['Robbery_bool'] = np.where((df2014.Robbery > 0), 1, 0)\n",
    "\n",
    "# making city a numeric variable (boolean)\n",
    "city2014 = pd.get_dummies(df2014.City)"
   ]
  },
  {
   "cell_type": "code",
   "execution_count": 55,
   "metadata": {},
   "outputs": [],
   "source": [
    "y2014 = df2014.PropertyCrime\n",
    "X2014 = df2014[['Population', 'Violent', 'Assault', 'Burglary', 'VehicleTheft']]"
   ]
  },
  {
   "cell_type": "code",
   "execution_count": 56,
   "metadata": {},
   "outputs": [
    {
     "name": "stdout",
     "output_type": "stream",
     "text": [
      "Model accuracy on 2014 data:  0.7578043851671336\n"
     ]
    }
   ],
   "source": [
    "testrun = regr.fit(X, y).score(X2014, y2014)\n",
    "print(\"Model accuracy on 2014 data: \", testrun)"
   ]
  },
  {
   "cell_type": "markdown",
   "metadata": {},
   "source": [
    "Not bad, in using an entirely different dataset from the following year, the accuracy dropped from roughly 82% down to 76%."
   ]
  },
  {
   "cell_type": "code",
   "execution_count": null,
   "metadata": {},
   "outputs": [],
   "source": []
  }
 ],
 "metadata": {
  "hide_input": false,
  "kernelspec": {
   "display_name": "Python 3",
   "language": "python",
   "name": "python3"
  },
  "language_info": {
   "codemirror_mode": {
    "name": "ipython",
    "version": 3
   },
   "file_extension": ".py",
   "mimetype": "text/x-python",
   "name": "python",
   "nbconvert_exporter": "python",
   "pygments_lexer": "ipython3",
   "version": "3.6.5"
  },
  "toc": {
   "colors": {
    "hover_highlight": "#DAA520",
    "running_highlight": "#FF0000",
    "selected_highlight": "#FFD700"
   },
   "moveMenuLeft": true,
   "nav_menu": {
    "height": "86px",
    "width": "252px"
   },
   "navigate_menu": true,
   "number_sections": true,
   "sideBar": true,
   "threshold": 4,
   "toc_cell": false,
   "toc_section_display": "block",
   "toc_window_display": false
  }
 },
 "nbformat": 4,
 "nbformat_minor": 2
}
