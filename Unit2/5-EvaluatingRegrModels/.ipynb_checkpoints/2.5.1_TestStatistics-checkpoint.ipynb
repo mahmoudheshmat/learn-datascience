{
 "cells": [
  {
   "cell_type": "code",
   "execution_count": 1,
   "metadata": {},
   "outputs": [],
   "source": [
    "import math\n",
    "\n",
    "from matplotlib import pyplot as plt\n",
    "import numpy as np\n",
    "import pandas as pd\n",
    "import seaborn as sns\n",
    "import statsmodels.formula.api as smf\n",
    "from statsmodels.sandbox.regression.predstd import wls_prediction_std\n",
    "\n",
    "%matplotlib inline\n",
    "sns.set_style('white')"
   ]
  },
  {
   "cell_type": "markdown",
   "metadata": {},
   "source": [
    "## Test Statistics\n",
    "\n",
    "There are two main aspects of a regression model that can be evaluated using significance tests: 1) Whether the model, as a whole, explains more variance in the outcome than a model with no features, and 2) Whether each individual feature in the model adds additional explanatory power.\n",
    "\n",
    "### Whole model: F-test\n",
    "The whole-model test of explanatory power is an F-test.  The F-test can be calculated in different ways depending on the situation, but principally represents the ratio between the unexplained variance of your model and the unexplained variance of a reduced model to which our model is compared.  Here, the \"reduced model\" is a model with no features, meaning all variance in the outcome is unexplained.  For a linear regression model with two parameters $y=\\alpha+\\beta x$, the F-test is built from these pieces:\n",
    "\n",
    "* unexplained model variance:\n",
    "\n",
    "$$SSE_F=\\sum(y_i-\\hat{y}_i)^2$$\n",
    "\n",
    "* unexplained variance in reduced model:\n",
    "\n",
    "$$SSE_R=Var_y = \\sum(y_i-\\bar{y})^2$$\n",
    "\n",
    " * number of parameters in the model:\n",
    "\n",
    "$$p_F = 2 (\\alpha \\text{ and } \\beta)$$\n",
    "\n",
    " * number of parameters in the reduced model:\n",
    "\n",
    "$$p_R = 1 (\\alpha)$$\n",
    "\n",
    " * number of datapoints:\n",
    "\n",
    "$$n$$\n",
    "\n",
    " * degrees of freedom of $SSE_F$:\n",
    "\n",
    "$$df_F = n - p_F$$\n",
    "\n",
    " * degrees of freedom of $SSE_R$:\n",
    "\n",
    "$$df_R = n - p_R$$\n",
    "\n",
    "These pieces come together to give us the full equation for the F-test:\n",
    "\n",
    "$$F=\\dfrac{SSE_F-SSE_R}{df_F-df_R}÷\\dfrac{SSE_F}{df_F}$$\n",
    "\n",
    "This introduces some new terminology.  A **parameter** is any predictor in a regression model, including both the intercept and the features.   **Degrees of freedom** quantify the amount of information \"left over\" to estimate variability after all parameters are estimated.\n",
    "\n",
    "In regression, degrees of freedom for a function works like this:  With two datapoints, a regression line $y=\\alpha + \\beta x$ has 0 degrees of freedom (2 minus the number of parameters).  Those two parameters encompass all the information in the data.  Knowing $\\alpha$ and $\\beta$ alone, we can perfectly reproduce the original data.  No additional information is available from the data itself."
   ]
  },
  {
   "cell_type": "code",
   "execution_count": 2,
   "metadata": {},
   "outputs": [
    {
     "data": {
      "image/png": "[encoded data removed]",
      "text/plain": [
       "<Figure size 432x288 with 1 Axes>"
      ]
     },
     "metadata": {},
     "output_type": "display_data"
    }
   ],
   "source": [
    "y = [0, 1]\n",
    "x = [4, 10]\n",
    "plt.scatter(x, y)\n",
    "plt.plot(x, y)\n",
    "plt.title(\"Line from two points, zero degrees of freedom\")\n",
    "plt.show()"
   ]
  },
  {
   "cell_type": "markdown",
   "metadata": {},
   "source": [
    "If we add another datapoint and fit a new model with the same number of parameters, we have 1 degree of freedom.  In order to perfectly reproduce the data, we would need to know $\\alpha$, $\\beta$, *and* the value of one of the datapoints.  That means we have one point of free information not captured by the model."
   ]
  },
  {
   "cell_type": "code",
   "execution_count": 3,
   "metadata": {},
   "outputs": [
    {
     "data": {
      "image/png": "[encoded data removed]",
      "text/plain": [
       "<Figure size 432x288 with 1 Axes>"
      ]
     },
     "metadata": {},
     "output_type": "display_data"
    }
   ],
   "source": [
    "y=[0, 1, .9]\n",
    "x=[4, 10, 8]\n",
    "plt.scatter(x, y)\n",
    "plt.plot(x, np.poly1d(np.polyfit(x, y, 1))(x))\n",
    "plt.title(\"One degree of freedom\")\n",
    "plt.show()"
   ]
  },
  {
   "cell_type": "markdown",
   "metadata": {},
   "source": [
    "Low degrees of freedom are a warning indicator- either of overfitting, or of a very small sample.  If you want to learn more and really like math, a very thorough discussion of degrees of freedom can be found [here on StackExchange](http://stats.stackexchange.com/questions/16921/how-to-understand-degrees-of-freedom).\n",
    "\n",
    "An F-test has two degree of freedom indicators: The degrees of freedom of the model ($p-1$), and the degrees of freedom of $SSE_F$ ($n-p_F$).  These degrees of freedom define the F-distribution for that F-test value.  Just like with a t-test and a t-distribution, the location of the F-test value within the F-distribution is used to determine the p-value – the probability of getting an F-test of that value or higher if there were no relationship between the outcome and the parameters in the population.  A significant (usually $\\alpha < .05$) p-value suggests that the model as a whole can explain some of the variance in the outcome.\n",
    "\n",
    "Another way to think of the F-test is that it tests whether the $R^2$ of the model is different from zero. A non-significant F-test is a sign that your model is unable to predict the outcome and you need to make a new one.\n",
    "\n",
    "\n",
    "### Individual parameters: t-test\n",
    "\n",
    "Once you have a significant F-test, the next step in evaluating a model is to learn more about the performance of the individual parameters, particularly the features you introduced.  Each of the parameters in a model has its own statistical test, a t-test, that determines whether that parameter estimate is significantly different from zero, and therefore explains a statistically-significant amount of *unique* variance in the outcome, *after controlling for the variance explained by the other parameters*.  \n",
    "\n",
    "![PCA pic](assets/pca_pic.png)\n",
    "\n",
    "For instance, in a linear regression with the yellow circle as the outcome, the total variance explained by the model is represented by all the area of the yellow outcome circle that overlaps with the blue and pink feature circles.  However, the statistical test of the significance of the blue circle will be done on *only* the green area where blue and yellow overlap, ignoring the area of shared overlap among blue, pink, and yellow.   Similarly, the statistical test of the significance of the pink circle will be done on *only* the orange area where the pink and yellow overlap.\n",
    "\n",
    "A significant F-test does not guarantee that all the parameters in a model will be significant!  In fact, under circumstances of high multicollinearity (such as Set A), it is possible to get a significant F-test without any statistically significant features at all.\n",
    "\n",
    "A non-significant parameter does not contribute new information about the outcome variable, and can be discarded with little to no decrease in the model's explanatory power as quantified by $R^2$.\n",
    "\n",
    "Let's see this in action:\n",
    "\n",
    "The `LinearRegression` function from `scikit-learn` can be used for multivariate linear regression as well as single linear regression.  However, because `scikit-learn` as a package is focused on machine learning prediction rather than statistical interpretation, it is difficult to extract p-values for individual parameters. You have to write additional code to calculate them.  \n",
    "\n",
    "However, there are other machine learning packages and now is a great time to introduce one of them, `statsmodels`. This package is the primary alternative to `scikit-learn`, offering many of the same models with slightly different syntax and formatting. It is useful to be familiar with because on occasion something that takes additional steps or work in one package is easily accessible in the other. P-values in linear regression is one such example. This information is easily returned in the `statsmodels` `ols` function. It also has a rather nice interface where the model formula can be written out in a way that more closely resembled the functional form. Those of you familiar with R may recognize this as the way this kind of specification is done there.\n",
    "\n",
    "Let's look at an example.\n"
   ]
  },
  {
   "cell_type": "code",
   "execution_count": 4,
   "metadata": {
    "run_control": {
     "frozen": false,
     "read_only": false
    }
   },
   "outputs": [
    {
     "data": {
      "text/html": [
       "<div>\n",
       "<style scoped>\n",
       "    .dataframe tbody tr th:only-of-type {\n",
       "        vertical-align: middle;\n",
       "    }\n",
       "\n",
       "    .dataframe tbody tr th {\n",
       "        vertical-align: top;\n",
       "    }\n",
       "\n",
       "    .dataframe thead th {\n",
       "        text-align: right;\n",
       "    }\n",
       "</style>\n",
       "<table border=\"1\" class=\"dataframe\">\n",
       "  <thead>\n",
       "    <tr style=\"text-align: right;\">\n",
       "      <th></th>\n",
       "      <th>TV</th>\n",
       "      <th>Radio</th>\n",
       "      <th>Newspaper</th>\n",
       "      <th>Sales</th>\n",
       "    </tr>\n",
       "  </thead>\n",
       "  <tbody>\n",
       "    <tr>\n",
       "      <th>1</th>\n",
       "      <td>230.1</td>\n",
       "      <td>37.8</td>\n",
       "      <td>69.2</td>\n",
       "      <td>22.1</td>\n",
       "    </tr>\n",
       "    <tr>\n",
       "      <th>2</th>\n",
       "      <td>44.5</td>\n",
       "      <td>39.3</td>\n",
       "      <td>45.1</td>\n",
       "      <td>10.4</td>\n",
       "    </tr>\n",
       "    <tr>\n",
       "      <th>3</th>\n",
       "      <td>17.2</td>\n",
       "      <td>45.9</td>\n",
       "      <td>69.3</td>\n",
       "      <td>9.3</td>\n",
       "    </tr>\n",
       "    <tr>\n",
       "      <th>4</th>\n",
       "      <td>151.5</td>\n",
       "      <td>41.3</td>\n",
       "      <td>58.5</td>\n",
       "      <td>18.5</td>\n",
       "    </tr>\n",
       "    <tr>\n",
       "      <th>5</th>\n",
       "      <td>180.8</td>\n",
       "      <td>10.8</td>\n",
       "      <td>58.4</td>\n",
       "      <td>12.9</td>\n",
       "    </tr>\n",
       "  </tbody>\n",
       "</table>\n",
       "</div>"
      ],
      "text/plain": [
       "      TV  Radio  Newspaper  Sales\n",
       "1  230.1   37.8       69.2   22.1\n",
       "2   44.5   39.3       45.1   10.4\n",
       "3   17.2   45.9       69.3    9.3\n",
       "4  151.5   41.3       58.5   18.5\n",
       "5  180.8   10.8       58.4   12.9"
      ]
     },
     "execution_count": 4,
     "metadata": {},
     "output_type": "execute_result"
    }
   ],
   "source": [
    "# Read data into a DataFrame.\n",
    "data_url = 'https://tf-curricula-prod.s3.amazonaws.com/data-science/Advertising.csv'\n",
    "data = pd.read_csv(data_url, index_col=0)\n",
    "data.head()"
   ]
  },
  {
   "cell_type": "code",
   "execution_count": 5,
   "metadata": {},
   "outputs": [],
   "source": [
    "# Write out the model formula.\n",
    "# Your dependent variable on the right, independent variables on the left\n",
    "# Use a ~ to represent an '=' from the functional form\n",
    "linear_formula = 'Sales ~ TV+Radio+Newspaper'\n",
    "\n",
    "# Fit the model to our data using the formula.\n",
    "lm = smf.ols(formula=linear_formula, data=data).fit()"
   ]
  },
  {
   "cell_type": "markdown",
   "metadata": {},
   "source": [
    "Let's look at the coefficients of our model."
   ]
  },
  {
   "cell_type": "code",
   "execution_count": 6,
   "metadata": {},
   "outputs": [
    {
     "data": {
      "text/plain": [
       "Intercept    2.938889\n",
       "TV           0.045765\n",
       "Radio        0.188530\n",
       "Newspaper   -0.001037\n",
       "dtype: float64"
      ]
     },
     "execution_count": 6,
     "metadata": {},
     "output_type": "execute_result"
    }
   ],
   "source": [
    "lm.params"
   ]
  },
  {
   "cell_type": "markdown",
   "metadata": {},
   "source": [
    "And at the p-values as a significance test for each of the coefficients."
   ]
  },
  {
   "cell_type": "code",
   "execution_count": 7,
   "metadata": {},
   "outputs": [
    {
     "data": {
      "text/plain": [
       "Intercept    1.267295e-17\n",
       "TV           1.509960e-81\n",
       "Radio        1.505339e-54\n",
       "Newspaper    8.599151e-01\n",
       "dtype: float64"
      ]
     },
     "execution_count": 7,
     "metadata": {},
     "output_type": "execute_result"
    }
   ],
   "source": [
    "lm.pvalues"
   ]
  },
  {
   "cell_type": "markdown",
   "metadata": {},
   "source": [
    "Finally, here's our $R^2$:"
   ]
  },
  {
   "cell_type": "code",
   "execution_count": 8,
   "metadata": {},
   "outputs": [
    {
     "data": {
      "text/plain": [
       "0.8972106381789522"
      ]
     },
     "execution_count": 8,
     "metadata": {},
     "output_type": "execute_result"
    }
   ],
   "source": [
    "lm.rsquared"
   ]
  },
  {
   "cell_type": "markdown",
   "metadata": {},
   "source": [
    "From the p-values, we see the p-value for Newspaper is greater than .05, suggesting that there is probably no effect for that feature – and that dropping it would not adversely affect the $R^2$."
   ]
  },
  {
   "cell_type": "markdown",
   "metadata": {},
   "source": [
    "### Drill: dropping features and re-fitting\n",
    "\n",
    "Since the p-value for Newspaper indicates that it probably has no effect, try re-fitting the model without the Newspaper feature.  How much does the R^2 change?  Do the other parameters change?"
   ]
  },
  {
   "cell_type": "code",
   "execution_count": 9,
   "metadata": {},
   "outputs": [],
   "source": [
    "# Re-fit the model here.\n",
    "linear_formula = 'Sales ~ TV+Radio'\n",
    "\n",
    "lm = smf.ols(formula=linear_formula, data=data).fit()"
   ]
  },
  {
   "cell_type": "code",
   "execution_count": 10,
   "metadata": {},
   "outputs": [
    {
     "data": {
      "text/plain": [
       "Intercept    2.921100\n",
       "TV           0.045755\n",
       "Radio        0.187994\n",
       "dtype: float64"
      ]
     },
     "execution_count": 10,
     "metadata": {},
     "output_type": "execute_result"
    }
   ],
   "source": [
    "lm.params"
   ]
  },
  {
   "cell_type": "code",
   "execution_count": 11,
   "metadata": {},
   "outputs": [
    {
     "data": {
      "text/plain": [
       "Intercept    4.565557e-19\n",
       "TV           5.436980e-82\n",
       "Radio        9.776972e-59\n",
       "dtype: float64"
      ]
     },
     "execution_count": 11,
     "metadata": {},
     "output_type": "execute_result"
    }
   ],
   "source": [
    "lm.pvalues"
   ]
  },
  {
   "cell_type": "code",
   "execution_count": 12,
   "metadata": {
    "scrolled": true
   },
   "outputs": [
    {
     "data": {
      "text/plain": [
       "0.8971942610828956"
      ]
     },
     "execution_count": 12,
     "metadata": {},
     "output_type": "execute_result"
    }
   ],
   "source": [
    "lm.rsquared"
   ]
  },
  {
   "cell_type": "markdown",
   "metadata": {},
   "source": [
    "As expected, dropping newspaper does not adversely affect R squared, as it's still at 0.897.\n",
    "Now, all p-values are significant."
   ]
  },
  {
   "cell_type": "markdown",
   "metadata": {},
   "source": [
    "## Confidence intervals\n",
    "\n",
    "Not only do we get parameter estimates and p-values, we also get error estimates that give us **confidence intervals**, the range of values within which our population parameter is likely to fall.  A 95% confidence interval is the default value in most software packages – it indicates that if we re-sampled the population over and over again, 95% of the time our estimates for that parameter would fall within that interval.  That information, in turn, can be used to estimate the confidence interval for our predicted value so that we not only know what value we expect, but with what level of certainty we can expect it."
   ]
  },
  {
   "cell_type": "code",
   "execution_count": 13,
   "metadata": {},
   "outputs": [
    {
     "data": {
      "text/html": [
       "<div>\n",
       "<style scoped>\n",
       "    .dataframe tbody tr th:only-of-type {\n",
       "        vertical-align: middle;\n",
       "    }\n",
       "\n",
       "    .dataframe tbody tr th {\n",
       "        vertical-align: top;\n",
       "    }\n",
       "\n",
       "    .dataframe thead th {\n",
       "        text-align: right;\n",
       "    }\n",
       "</style>\n",
       "<table border=\"1\" class=\"dataframe\">\n",
       "  <thead>\n",
       "    <tr style=\"text-align: right;\">\n",
       "      <th></th>\n",
       "      <th>0</th>\n",
       "      <th>1</th>\n",
       "    </tr>\n",
       "  </thead>\n",
       "  <tbody>\n",
       "    <tr>\n",
       "      <th>Intercept</th>\n",
       "      <td>2.340343</td>\n",
       "      <td>3.501857</td>\n",
       "    </tr>\n",
       "    <tr>\n",
       "      <th>TV</th>\n",
       "      <td>0.043013</td>\n",
       "      <td>0.048497</td>\n",
       "    </tr>\n",
       "    <tr>\n",
       "      <th>Radio</th>\n",
       "      <td>0.172139</td>\n",
       "      <td>0.203850</td>\n",
       "    </tr>\n",
       "  </tbody>\n",
       "</table>\n",
       "</div>"
      ],
      "text/plain": [
       "                  0         1\n",
       "Intercept  2.340343  3.501857\n",
       "TV         0.043013  0.048497\n",
       "Radio      0.172139  0.203850"
      ]
     },
     "execution_count": 13,
     "metadata": {},
     "output_type": "execute_result"
    }
   ],
   "source": [
    "lm.conf_int()"
   ]
  },
  {
   "cell_type": "markdown",
   "metadata": {},
   "source": [
    "Column '0' is the lower bound of the 95% confidence interval and column '1' is the upper bound.  A confidence interval that contains 0 is a sign that the parameter is not explaining significant variance in the outcome.  The wider the confidence intervals are, the more uncertainty there is about the model estimates.  "
   ]
  },
  {
   "cell_type": "code",
   "execution_count": 14,
   "metadata": {
    "scrolled": true
   },
   "outputs": [
    {
     "data": {
      "image/png": "[encoded data removed]",
      "text/plain": [
       "<Figure size 432x288 with 1 Axes>"
      ]
     },
     "metadata": {},
     "output_type": "display_data"
    }
   ],
   "source": [
    "# Use wls_prediction_std to build confidence intervals and/or calculate standard deviation\n",
    "prstd, iv_l, iv_u = wls_prediction_std(lm)\n",
    "\n",
    "plt.figure()\n",
    "plt.plot(iv_u[0:15], 'o', color='r')\n",
    "plt.plot(iv_l[0:15], 'o', color='r')\n",
    "plt.plot(lm.fittedvalues[0:15], 'o', color='b')\n",
    "plt.title('blue: predicted, red: 95% CI')\n",
    "plt.show()"
   ]
  },
  {
   "cell_type": "markdown",
   "metadata": {},
   "source": [
    "If the level of precision offered by your confidence intervals is insufficient for your goals, you may need to add additional significant features to account for more variance."
   ]
  }
 ],
 "metadata": {
  "hide_input": false,
  "kernelspec": {
   "display_name": "Python 3",
   "language": "python",
   "name": "python3"
  },
  "language_info": {
   "codemirror_mode": {
    "name": "ipython",
    "version": 3
   },
   "file_extension": ".py",
   "mimetype": "text/x-python",
   "name": "python",
   "nbconvert_exporter": "python",
   "pygments_lexer": "ipython3",
   "version": "3.6.5"
  },
  "toc": {
   "colors": {
    "hover_highlight": "#DAA520",
    "running_highlight": "#FF0000",
    "selected_highlight": "#FFD700"
   },
   "moveMenuLeft": true,
   "nav_menu": {
    "height": "68px",
    "width": "252px"
   },
   "navigate_menu": true,
   "number_sections": true,
   "sideBar": true,
   "threshold": 4,
   "toc_cell": false,
   "toc_section_display": "block",
   "toc_window_display": false
  }
 },
 "nbformat": 4,
 "nbformat_minor": 2
}
