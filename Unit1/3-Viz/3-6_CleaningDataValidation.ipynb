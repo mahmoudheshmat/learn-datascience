{
 "cells": [
  {
   "cell_type": "markdown",
   "metadata": {},
   "source": [
    "## Data Cleaning and Validation\n",
    "In this challenge, I will clean the data for a dataset of article open-access prices paid (Sourced: WELLCOME Trust between 2012-2013). \n",
    "\n",
    "\n",
    "Once cleaned, I will determine:\n",
    "\n",
    "\n",
    "1) The five most common journals and total articles for each\n",
    "\n",
    "2) The mean, median, and standard deviation of the open-access cost per article per journal"
   ]
  },
  {
   "cell_type": "code",
   "execution_count": 1,
   "metadata": {},
   "outputs": [],
   "source": [
    "import pandas as pd\n",
    "import numpy as np"
   ]
  },
  {
   "cell_type": "markdown",
   "metadata": {},
   "source": [
    "### Importing, encoding\n",
    "Below, I used encoding iso-8859-1 as opposed to the normal UTF-8 because there appears to be some latin characters that the latter was unable to register."
   ]
  },
  {
   "cell_type": "code",
   "execution_count": 2,
   "metadata": {},
   "outputs": [],
   "source": [
    "df = pd.read_csv('journal-data/WELLCOME_APCspend2013_forThinkful.csv', encoding='iso-8859-1')"
   ]
  },
  {
   "cell_type": "code",
   "execution_count": 3,
   "metadata": {
    "scrolled": true
   },
   "outputs": [
    {
     "data": {
      "text/html": [
       "<div>\n",
       "<style scoped>\n",
       "    .dataframe tbody tr th:only-of-type {\n",
       "        vertical-align: middle;\n",
       "    }\n",
       "\n",
       "    .dataframe tbody tr th {\n",
       "        vertical-align: top;\n",
       "    }\n",
       "\n",
       "    .dataframe thead th {\n",
       "        text-align: right;\n",
       "    }\n",
       "</style>\n",
       "<table border=\"1\" class=\"dataframe\">\n",
       "  <thead>\n",
       "    <tr style=\"text-align: right;\">\n",
       "      <th></th>\n",
       "      <th>PMID/PMCID</th>\n",
       "      <th>Publisher</th>\n",
       "      <th>Journal title</th>\n",
       "      <th>Article title</th>\n",
       "      <th>COST (£) charged to Wellcome (inc VAT when charged)</th>\n",
       "    </tr>\n",
       "  </thead>\n",
       "  <tbody>\n",
       "    <tr>\n",
       "      <th>0</th>\n",
       "      <td>NaN</td>\n",
       "      <td>CUP</td>\n",
       "      <td>Psychological Medicine</td>\n",
       "      <td>Reduced parahippocampal cortical thickness in ...</td>\n",
       "      <td>£0.00</td>\n",
       "    </tr>\n",
       "    <tr>\n",
       "      <th>1</th>\n",
       "      <td>PMC3679557</td>\n",
       "      <td>ACS</td>\n",
       "      <td>Biomacromolecules</td>\n",
       "      <td>Structural characterization of a Model Gram-ne...</td>\n",
       "      <td>£2381.04</td>\n",
       "    </tr>\n",
       "    <tr>\n",
       "      <th>2</th>\n",
       "      <td>23043264  PMC3506128</td>\n",
       "      <td>ACS</td>\n",
       "      <td>J Med Chem</td>\n",
       "      <td>Fumaroylamino-4,5-epoxymorphinans and related ...</td>\n",
       "      <td>£642.56</td>\n",
       "    </tr>\n",
       "    <tr>\n",
       "      <th>3</th>\n",
       "      <td>23438330 PMC3646402</td>\n",
       "      <td>ACS</td>\n",
       "      <td>J Med Chem</td>\n",
       "      <td>Orvinols with mixed kappa/mu opioid receptor a...</td>\n",
       "      <td>£669.64</td>\n",
       "    </tr>\n",
       "    <tr>\n",
       "      <th>4</th>\n",
       "      <td>23438216 PMC3601604</td>\n",
       "      <td>ACS</td>\n",
       "      <td>J Org Chem</td>\n",
       "      <td>Regioselective opening of myo-inositol orthoes...</td>\n",
       "      <td>£685.88</td>\n",
       "    </tr>\n",
       "  </tbody>\n",
       "</table>\n",
       "</div>"
      ],
      "text/plain": [
       "              PMID/PMCID Publisher           Journal title  \\\n",
       "0                    NaN       CUP  Psychological Medicine   \n",
       "1             PMC3679557       ACS       Biomacromolecules   \n",
       "2  23043264  PMC3506128        ACS              J Med Chem   \n",
       "3    23438330 PMC3646402       ACS              J Med Chem   \n",
       "4   23438216 PMC3601604        ACS              J Org Chem   \n",
       "\n",
       "                                       Article title  \\\n",
       "0  Reduced parahippocampal cortical thickness in ...   \n",
       "1  Structural characterization of a Model Gram-ne...   \n",
       "2  Fumaroylamino-4,5-epoxymorphinans and related ...   \n",
       "3  Orvinols with mixed kappa/mu opioid receptor a...   \n",
       "4  Regioselective opening of myo-inositol orthoes...   \n",
       "\n",
       "  COST (£) charged to Wellcome (inc VAT when charged)  \n",
       "0                                              £0.00   \n",
       "1                                           £2381.04   \n",
       "2                                            £642.56   \n",
       "3                                            £669.64   \n",
       "4                                            £685.88   "
      ]
     },
     "execution_count": 3,
     "metadata": {},
     "output_type": "execute_result"
    }
   ],
   "source": [
    "df.head()"
   ]
  },
  {
   "cell_type": "code",
   "execution_count": 4,
   "metadata": {
    "scrolled": true
   },
   "outputs": [
    {
     "data": {
      "text/plain": [
       "Index(['PMID/PMCID', 'Publisher', 'Journal title', 'Article title',\n",
       "       'COST (£) charged to Wellcome (inc VAT when charged)'],\n",
       "      dtype='object')"
      ]
     },
     "execution_count": 4,
     "metadata": {},
     "output_type": "execute_result"
    }
   ],
   "source": [
    "df.columns"
   ]
  },
  {
   "cell_type": "markdown",
   "metadata": {},
   "source": [
    "### Renaming columns\n",
    "Adding underscores to spaces, and simplifying the cost column name"
   ]
  },
  {
   "cell_type": "code",
   "execution_count": 5,
   "metadata": {},
   "outputs": [],
   "source": [
    "df.columns = ['PMID/PMCID','Publisher','Journal_title','Article_title','Cost']"
   ]
  },
  {
   "cell_type": "code",
   "execution_count": 6,
   "metadata": {
    "scrolled": true
   },
   "outputs": [
    {
     "data": {
      "text/html": [
       "<div>\n",
       "<style scoped>\n",
       "    .dataframe tbody tr th:only-of-type {\n",
       "        vertical-align: middle;\n",
       "    }\n",
       "\n",
       "    .dataframe tbody tr th {\n",
       "        vertical-align: top;\n",
       "    }\n",
       "\n",
       "    .dataframe thead th {\n",
       "        text-align: right;\n",
       "    }\n",
       "</style>\n",
       "<table border=\"1\" class=\"dataframe\">\n",
       "  <thead>\n",
       "    <tr style=\"text-align: right;\">\n",
       "      <th></th>\n",
       "      <th>PMID/PMCID</th>\n",
       "      <th>Publisher</th>\n",
       "      <th>Journal_title</th>\n",
       "      <th>Article_title</th>\n",
       "      <th>Cost</th>\n",
       "    </tr>\n",
       "  </thead>\n",
       "  <tbody>\n",
       "    <tr>\n",
       "      <th>count</th>\n",
       "      <td>1928</td>\n",
       "      <td>2127</td>\n",
       "      <td>2126</td>\n",
       "      <td>2127</td>\n",
       "      <td>2127</td>\n",
       "    </tr>\n",
       "    <tr>\n",
       "      <th>unique</th>\n",
       "      <td>1880</td>\n",
       "      <td>299</td>\n",
       "      <td>984</td>\n",
       "      <td>2126</td>\n",
       "      <td>1402</td>\n",
       "    </tr>\n",
       "    <tr>\n",
       "      <th>top</th>\n",
       "      <td>-</td>\n",
       "      <td>Elsevier</td>\n",
       "      <td>PLoS One</td>\n",
       "      <td>Exclusive breastfeeding, diarrhoel morbidity a...</td>\n",
       "      <td>£2040.00</td>\n",
       "    </tr>\n",
       "    <tr>\n",
       "      <th>freq</th>\n",
       "      <td>7</td>\n",
       "      <td>387</td>\n",
       "      <td>92</td>\n",
       "      <td>2</td>\n",
       "      <td>94</td>\n",
       "    </tr>\n",
       "  </tbody>\n",
       "</table>\n",
       "</div>"
      ],
      "text/plain": [
       "       PMID/PMCID Publisher Journal_title  \\\n",
       "count        1928      2127          2126   \n",
       "unique       1880       299           984   \n",
       "top             -  Elsevier      PLoS One   \n",
       "freq            7       387            92   \n",
       "\n",
       "                                            Article_title      Cost  \n",
       "count                                                2127      2127  \n",
       "unique                                               2126      1402  \n",
       "top     Exclusive breastfeeding, diarrhoel morbidity a...  £2040.00  \n",
       "freq                                                    2        94  "
      ]
     },
     "execution_count": 6,
     "metadata": {},
     "output_type": "execute_result"
    }
   ],
   "source": [
    "df.describe()"
   ]
  },
  {
   "cell_type": "markdown",
   "metadata": {},
   "source": [
    "### Remove currency signs from prices"
   ]
  },
  {
   "cell_type": "code",
   "execution_count": 37,
   "metadata": {},
   "outputs": [],
   "source": [
    "df.Cost = df.Cost.str.replace('£', '')\n",
    "df.Cost = df.Cost.str.replace('$', '')"
   ]
  },
  {
   "cell_type": "markdown",
   "metadata": {},
   "source": [
    "### Analyzing journal IDs"
   ]
  },
  {
   "cell_type": "code",
   "execution_count": 8,
   "metadata": {
    "scrolled": true
   },
   "outputs": [
    {
     "data": {
      "text/plain": [
       "23458425 PMC3630740                                 1\n",
       "PMC3777123                                          1\n",
       "23201205                                            1\n",
       "3676539                                             1\n",
       "PMC3460760                                          1\n",
       "PMCID: PMC3491471                                   1\n",
       "PMC3546795                                          1\n",
       "PMCID:\\n    PMC3761558                              1\n",
       "PMID: 23681165  PMC3824307                          1\n",
       "PMC3169830                                          1\n",
       "PMC3557262                                          1\n",
       "PMC3472025                                          1\n",
       "PMC3507630                                          1\n",
       "PMC3374517                                          1\n",
       "PMC3719211\\n\\n                                      1\n",
       "PMID: 23140835 PMC3625108                           1\n",
       "PMC3747673\\n\\n                                      1\n",
       "PMC3621106                                          1\n",
       "PMID: 23477577 PMC3727344                           1\n",
       "PMC3632754                                          1\n",
       "PMCID: 3581401                                      1\n",
       "24097313                                            1\n",
       "23738518                                            1\n",
       "23447590 : PMC3601669                               1\n",
       "3121340                                             1\n",
       "PMID: 23236081                                      1\n",
       "PMC3694301                                          1\n",
       "PMC3535338                                          1\n",
       "PMCID: PMC3562439                                   1\n",
       "PMCID: PMC3640159                                   1\n",
       "                                                   ..\n",
       "3620707                                             1\n",
       "PMC3677098                                          1\n",
       "3472478                                             1\n",
       "41609                                               2\n",
       "PMC3173209                                          2\n",
       "PMC 3599138                                         2\n",
       "PMC 3435256                                         2\n",
       "PMC3405234                                          2\n",
       "PMC3708033\\n\\n                                      2\n",
       "PMC3597274                                          2\n",
       "Pending                                             2\n",
       "PMC in progress                                     2\n",
       "PMC 3413714                                         2\n",
       "e-pub                                               2\n",
       "Epub ahead of print April 2013 - print in press     2\n",
       "not yet published                                   2\n",
       "PMCID:\\n    PMC3647051\\n                            2\n",
       "Monograph chapter, not in PMC                       2\n",
       "22735079                                            2\n",
       "PMC3746156                                          2\n",
       "PMC3529206                                          2\n",
       "Epub ahead of print pub Jan 2013, print in press    3\n",
       "Epub ahead of print pub Feb 2013, print in press    3\n",
       "Epub ahead of print - june 2013                     3\n",
       "pub Aug 2013                                        3\n",
       "Pub July 2013                                       3\n",
       "print in press                                      3\n",
       "In Process                                          7\n",
       "Not yet available                                   7\n",
       "-                                                   7\n",
       "Name: PMID/PMCID, Length: 1880, dtype: int64"
      ]
     },
     "execution_count": 8,
     "metadata": {},
     "output_type": "execute_result"
    }
   ],
   "source": [
    "df['PMID/PMCID'].value_counts(ascending=True)"
   ]
  },
  {
   "cell_type": "code",
   "execution_count": 9,
   "metadata": {
    "scrolled": true
   },
   "outputs": [
    {
     "data": {
      "text/html": [
       "<div>\n",
       "<style scoped>\n",
       "    .dataframe tbody tr th:only-of-type {\n",
       "        vertical-align: middle;\n",
       "    }\n",
       "\n",
       "    .dataframe tbody tr th {\n",
       "        vertical-align: top;\n",
       "    }\n",
       "\n",
       "    .dataframe thead th {\n",
       "        text-align: right;\n",
       "    }\n",
       "</style>\n",
       "<table border=\"1\" class=\"dataframe\">\n",
       "  <thead>\n",
       "    <tr style=\"text-align: right;\">\n",
       "      <th></th>\n",
       "      <th>PMID/PMCID</th>\n",
       "      <th>Publisher</th>\n",
       "      <th>Journal_title</th>\n",
       "      <th>Article_title</th>\n",
       "      <th>Cost</th>\n",
       "    </tr>\n",
       "  </thead>\n",
       "  <tbody>\n",
       "    <tr>\n",
       "      <th>950</th>\n",
       "      <td>41609</td>\n",
       "      <td>John Wiley &amp; Sons Ltd</td>\n",
       "      <td>Journal of Medical Virology</td>\n",
       "      <td>High level of HIV-2 false positivity in KwaZul...</td>\n",
       "      <td>612.59</td>\n",
       "    </tr>\n",
       "    <tr>\n",
       "      <th>1956</th>\n",
       "      <td>41609</td>\n",
       "      <td>Wiley</td>\n",
       "      <td>Journal of Cellular Biochemistry</td>\n",
       "      <td>The U5 snRNA internal loop 1 is a platform for...</td>\n",
       "      <td>1971.87</td>\n",
       "    </tr>\n",
       "  </tbody>\n",
       "</table>\n",
       "</div>"
      ],
      "text/plain": [
       "     PMID/PMCID              Publisher                     Journal_title  \\\n",
       "950       41609  John Wiley & Sons Ltd       Journal of Medical Virology   \n",
       "1956      41609                  Wiley  Journal of Cellular Biochemistry   \n",
       "\n",
       "                                          Article_title     Cost  \n",
       "950   High level of HIV-2 false positivity in KwaZul...   612.59  \n",
       "1956  The U5 snRNA internal loop 1 is a platform for...  1971.87  "
      ]
     },
     "execution_count": 9,
     "metadata": {},
     "output_type": "execute_result"
    }
   ],
   "source": [
    "df.loc[df['PMID/PMCID']=='41609']"
   ]
  },
  {
   "cell_type": "markdown",
   "metadata": {},
   "source": [
    "Despite the same PMID, they are not the same articles. For our purposes here, we won't gain any valuable information from the PMID/PMCID column so I will drop it."
   ]
  },
  {
   "cell_type": "code",
   "execution_count": 10,
   "metadata": {
    "scrolled": true
   },
   "outputs": [],
   "source": [
    "df = df.drop(['PMID/PMCID'], axis=1)"
   ]
  },
  {
   "cell_type": "markdown",
   "metadata": {},
   "source": [
    "### Remove duplicate entries"
   ]
  },
  {
   "cell_type": "code",
   "execution_count": 11,
   "metadata": {},
   "outputs": [],
   "source": [
    "# remove any entries with indentical values\n",
    "df = df.drop_duplicates()"
   ]
  },
  {
   "cell_type": "code",
   "execution_count": 12,
   "metadata": {
    "scrolled": true
   },
   "outputs": [
    {
     "data": {
      "text/html": [
       "<div>\n",
       "<style scoped>\n",
       "    .dataframe tbody tr th:only-of-type {\n",
       "        vertical-align: middle;\n",
       "    }\n",
       "\n",
       "    .dataframe tbody tr th {\n",
       "        vertical-align: top;\n",
       "    }\n",
       "\n",
       "    .dataframe thead th {\n",
       "        text-align: right;\n",
       "    }\n",
       "</style>\n",
       "<table border=\"1\" class=\"dataframe\">\n",
       "  <thead>\n",
       "    <tr style=\"text-align: right;\">\n",
       "      <th></th>\n",
       "      <th>Publisher</th>\n",
       "      <th>Journal_title</th>\n",
       "      <th>Article_title</th>\n",
       "      <th>Cost</th>\n",
       "    </tr>\n",
       "  </thead>\n",
       "  <tbody>\n",
       "    <tr>\n",
       "      <th>count</th>\n",
       "      <td>2126</td>\n",
       "      <td>2125</td>\n",
       "      <td>2126</td>\n",
       "      <td>2126</td>\n",
       "    </tr>\n",
       "    <tr>\n",
       "      <th>unique</th>\n",
       "      <td>299</td>\n",
       "      <td>984</td>\n",
       "      <td>2126</td>\n",
       "      <td>1402</td>\n",
       "    </tr>\n",
       "    <tr>\n",
       "      <th>top</th>\n",
       "      <td>Elsevier</td>\n",
       "      <td>PLoS One</td>\n",
       "      <td>CD6 attenuates early and late signaling events...</td>\n",
       "      <td>2040.00</td>\n",
       "    </tr>\n",
       "    <tr>\n",
       "      <th>freq</th>\n",
       "      <td>387</td>\n",
       "      <td>91</td>\n",
       "      <td>1</td>\n",
       "      <td>94</td>\n",
       "    </tr>\n",
       "  </tbody>\n",
       "</table>\n",
       "</div>"
      ],
      "text/plain": [
       "       Publisher Journal_title  \\\n",
       "count       2126          2125   \n",
       "unique       299           984   \n",
       "top     Elsevier      PLoS One   \n",
       "freq         387            91   \n",
       "\n",
       "                                            Article_title     Cost  \n",
       "count                                                2126     2126  \n",
       "unique                                               2126     1402  \n",
       "top     CD6 attenuates early and late signaling events...  2040.00  \n",
       "freq                                                    1       94  "
      ]
     },
     "execution_count": 12,
     "metadata": {},
     "output_type": "execute_result"
    }
   ],
   "source": [
    "df.describe()"
   ]
  },
  {
   "cell_type": "markdown",
   "metadata": {},
   "source": [
    "### Merge journal title entries together that have different spelling/capitalizations\n",
    "\n",
    "There are 984 unique journal title's in this dataset. How can I reasonably sort through it all?"
   ]
  },
  {
   "cell_type": "code",
   "execution_count": 13,
   "metadata": {
    "scrolled": true
   },
   "outputs": [
    {
     "data": {
      "text/plain": [
       "PLoS One                                            91\n",
       "PLoS ONE                                            62\n",
       "Journal of Biological Chemistry                     48\n",
       "Nucleic Acids Research                              21\n",
       "Proceedings of the National Academy of Sciences     19\n",
       "PLoS Neglected Tropical Diseases                    18\n",
       "Human Molecular Genetics                            18\n",
       "Nature Communications                               17\n",
       "Neuroimage                                          15\n",
       "PLoS Pathogens                                      15\n",
       "PLoS Genetics                                       15\n",
       "Brain                                               14\n",
       "NeuroImage                                          14\n",
       "PLOS ONE                                            14\n",
       "BMC Public Health                                   14\n",
       "Movement Disorders                                  13\n",
       "Developmental Cell                                  12\n",
       "Biochemical Journal                                 12\n",
       "Journal of Neuroscience                             12\n",
       "Journal of General Virology                         11\n",
       "BMJ                                                 10\n",
       "Current Biology                                     10\n",
       "PLOS One                                            10\n",
       "Neuron                                               9\n",
       "Cell Reports                                         9\n",
       "Journal of Physiology                                8\n",
       "Malaria Journal                                      8\n",
       "Journal of Clinical Endocrinology and Metabolism     8\n",
       "Journal of Cell Science                              8\n",
       "European Journal of Immunology                       8\n",
       "                                                    ..\n",
       "Stem Cell Reports                                    1\n",
       "Theranostics                                         1\n",
       "American Journal of Psychiatry                       1\n",
       "Journal of Cellular Biochemistry                     1\n",
       "Pediatr Infect Dis J                                 1\n",
       "Veterinary Microbiology                              1\n",
       "Mol Bio                                              1\n",
       "Pflugers Archive                                     1\n",
       "Microbes and Infection                               1\n",
       "International Psychogeriatrics                       1\n",
       "Neurology                                            1\n",
       "Synapse                                              1\n",
       "Centaurus                                            1\n",
       "International Journal of Law in Context              1\n",
       "J Biol Chemistry                                     1\n",
       "Journal of Transport Geography                       1\n",
       "Nutrition Journal                                    1\n",
       "Cell Host & Microbe                                  1\n",
       "Social Studies of Science                            1\n",
       "Tetrahedron Letters                                  1\n",
       "Osteoarthritis and Cartilage                         1\n",
       "Protein Engineering, Design and Selection (          1\n",
       "European Journal of Public Health                    1\n",
       "Reproduction(Cambridge, England)                     1\n",
       "BMC Genome Biology                                   1\n",
       "Reproductive Sciences                                1\n",
       "Frontiers in Schizophrenia                           1\n",
       "Biomedical Microdevices                              1\n",
       "Acta Diabetologica                                   1\n",
       "JERPH                                                1\n",
       "Name: Journal_title, Length: 984, dtype: int64"
      ]
     },
     "execution_count": 13,
     "metadata": {},
     "output_type": "execute_result"
    }
   ],
   "source": [
    "df['Journal_title'].value_counts()"
   ]
  },
  {
   "cell_type": "code",
   "execution_count": 21,
   "metadata": {
    "scrolled": true
   },
   "outputs": [],
   "source": [
    "# integrate articles that are spelled differently (acronym or otherwise, caps or not)\n",
    "df.Journal_title = df.Journal_title.replace({'PLoS ONE':'PLoS One',\n",
    "                                             'PLOS ONE':'PLoS One',\n",
    "                                             'Plos ONE':'PLos One',\n",
    "                                             'PloS One':'PLoS One',\n",
    "                                             'PLOS One':'PLoS One'})"
   ]
  },
  {
   "cell_type": "code",
   "execution_count": 22,
   "metadata": {
    "scrolled": true
   },
   "outputs": [
    {
     "data": {
      "text/plain": [
       "PLoS One                                                   178\n",
       "Journal of Biological Chemistry                             48\n",
       "Nucleic Acids Research                                      21\n",
       "Proceedings of the National Academy of Sciences             19\n",
       "PLoS Neglected Tropical Diseases                            18\n",
       "Human Molecular Genetics                                    18\n",
       "Nature Communications                                       17\n",
       "PLoS Genetics                                               15\n",
       "Neuroimage                                                  15\n",
       "PLoS Pathogens                                              15\n",
       "NeuroImage                                                  14\n",
       "BMC Public Health                                           14\n",
       "Brain                                                       14\n",
       "Movement Disorders                                          13\n",
       "Journal of Neuroscience                                     12\n",
       "Developmental Cell                                          12\n",
       "Biochemical Journal                                         12\n",
       "Journal of General Virology                                 11\n",
       "Current Biology                                             10\n",
       "BMJ                                                         10\n",
       "Neuron                                                       9\n",
       "Cell Reports                                                 9\n",
       "Malaria Journal                                              8\n",
       "Molecular Microbiology                                       8\n",
       "Journal of Virology                                          8\n",
       "Neurobiology of Aging                                        8\n",
       "Proceedings of the Royal Society B: Biological Sciences      8\n",
       "Development                                                  8\n",
       "Journal of Cell Science                                      8\n",
       "Journal of Physiology                                        8\n",
       "                                                          ... \n",
       "Stem Cell Reports                                            1\n",
       "Theranostics                                                 1\n",
       "American Journal of Psychiatry                               1\n",
       "Journal of Cellular Biochemistry                             1\n",
       "Pediatr Infect Dis J                                         1\n",
       "Veterinary Microbiology                                      1\n",
       "Mol Bio                                                      1\n",
       "International Psychogeriatrics                               1\n",
       "Microbes and Infection                                       1\n",
       "Neurology                                                    1\n",
       "Synapse                                                      1\n",
       "Clinical Infectious Diseases                                 1\n",
       "Centaurus                                                    1\n",
       "International Journal of Law in Context                      1\n",
       "J Biol Chemistry                                             1\n",
       "Journal of Transport Geography                               1\n",
       "Nutrition Journal                                            1\n",
       "Cell Host & Microbe                                          1\n",
       "Social Studies of Science                                    1\n",
       "Tetrahedron Letters                                          1\n",
       "Osteoarthritis and Cartilage                                 1\n",
       "Protein Engineering, Design and Selection (                  1\n",
       "European Journal of Public Health                            1\n",
       "Reproduction(Cambridge, England)                             1\n",
       "BMC Genome Biology                                           1\n",
       "Reproductive Sciences                                        1\n",
       "Frontiers in Schizophrenia                                   1\n",
       "Biomedical Microdevices                                      1\n",
       "Acta Diabetologica                                           1\n",
       "JERPH                                                        1\n",
       "Name: Journal_title, Length: 979, dtype: int64"
      ]
     },
     "execution_count": 22,
     "metadata": {},
     "output_type": "execute_result"
    }
   ],
   "source": [
    "df['Journal_title'].value_counts()"
   ]
  },
  {
   "cell_type": "code",
   "execution_count": 26,
   "metadata": {},
   "outputs": [],
   "source": [
    "df.Journal_title = df.Journal_title.str.strip()"
   ]
  },
  {
   "cell_type": "code",
   "execution_count": 27,
   "metadata": {
    "scrolled": false
   },
   "outputs": [
    {
     "data": {
      "text/plain": [
       "<bound method Series.unique of 0                                  Psychological Medicine\n",
       "1                                       Biomacromolecules\n",
       "2                                              J Med Chem\n",
       "3                                              J Med Chem\n",
       "4                                              J Org Chem\n",
       "5                          Journal of Medicinal Chemistry\n",
       "6                            Journal of Proteome Research\n",
       "7                                               Mol Pharm\n",
       "8                                    ACS Chemical Biology\n",
       "9                                    ACS Chemical Biology\n",
       "10           Journal of Chemical Information and Modeling\n",
       "11                         Journal of Medicinal Chemistry\n",
       "12                         Journal of Medicinal Chemistry\n",
       "13                                           Biochemistry\n",
       "14                         Journal of Medicinal Chemistry\n",
       "15                                       Gastroenterology\n",
       "16                        Journal of Biological Chemistry\n",
       "17                                  Journal of Immunology\n",
       "18                                  Journal of Immunology\n",
       "19                                   ACS Chemical Biology\n",
       "20                                   ACS Chemical Biology\n",
       "21                                   ACS Chemical Biology\n",
       "22                              ACS Chemical Neuroscience\n",
       "23                                               ACS NANO\n",
       "24                              American Chemical Society\n",
       "25                                   Analytical Chemistry\n",
       "26                                   Analytical Chemistry\n",
       "27                                   Analytical Chemistry\n",
       "28                                 Bioconjugate Chemistry\n",
       "29                         Journal of Medicinal Chemistry\n",
       "                              ...                        \n",
       "2097                               Molecular Microbiology\n",
       "2098                                      Obesity Reviews\n",
       "2099                                      Obesity Reviews\n",
       "2100                               Statistics in Medicine\n",
       "2101                                           Stem Cells\n",
       "2102                                              Synapse\n",
       "2103                 The European Journal of Neuroscience\n",
       "2104                                              Traffic\n",
       "2105                                              Traffic\n",
       "2106                           Zoonoses and Public Health\n",
       "2107                  American Journal of Transplantation\n",
       "2108                                   Angew chems Int Ed\n",
       "2109                                          CHEMBIOCHEM\n",
       "2110                                          Chemmedchem\n",
       "2111                                          Chemmedchem\n",
       "2112                                          ChemMedChem\n",
       "2113                                            Protemics\n",
       "2114                     Journal of Small Animal Practice\n",
       "2115                                                 AIDS\n",
       "2116                                         AIDS Journal\n",
       "2117                                              AIDS UK\n",
       "2118                                              AIDS UK\n",
       "2119    JAIDS Journal of Acquired Immune Deficiency Sy...\n",
       "2120    Journal of Acquired Immune Deficiency Syndroms...\n",
       "2121                                      Journal of Aids\n",
       "2122                                 Circulation Research\n",
       "2123                                                 AIDS\n",
       "2124                                 Pediatr Infect Dis J\n",
       "2125                                                 AIDS\n",
       "2126      Journal of Acquired Immune Deficiency Syndromes\n",
       "Name: Journal_title, Length: 2126, dtype: object>"
      ]
     },
     "execution_count": 27,
     "metadata": {},
     "output_type": "execute_result"
    }
   ],
   "source": [
    "df.Journal_title.unique"
   ]
  },
  {
   "cell_type": "markdown",
   "metadata": {},
   "source": [
    "I'm not sure why there are still multiple entries."
   ]
  },
  {
   "cell_type": "markdown",
   "metadata": {},
   "source": [
    "### Change cost type from object to float"
   ]
  },
  {
   "cell_type": "code",
   "execution_count": 35,
   "metadata": {},
   "outputs": [
    {
     "data": {
      "text/plain": [
       "dtype('O')"
      ]
     },
     "execution_count": 35,
     "metadata": {},
     "output_type": "execute_result"
    }
   ],
   "source": [
    "df.Cost.dtype"
   ]
  },
  {
   "cell_type": "code",
   "execution_count": 38,
   "metadata": {},
   "outputs": [],
   "source": [
    "df.Cost = pd.to_numeric(df.Cost)"
   ]
  },
  {
   "cell_type": "code",
   "execution_count": 39,
   "metadata": {},
   "outputs": [
    {
     "data": {
      "text/html": [
       "<div>\n",
       "<style scoped>\n",
       "    .dataframe tbody tr th:only-of-type {\n",
       "        vertical-align: middle;\n",
       "    }\n",
       "\n",
       "    .dataframe tbody tr th {\n",
       "        vertical-align: top;\n",
       "    }\n",
       "\n",
       "    .dataframe thead th {\n",
       "        text-align: right;\n",
       "    }\n",
       "</style>\n",
       "<table border=\"1\" class=\"dataframe\">\n",
       "  <thead>\n",
       "    <tr style=\"text-align: right;\">\n",
       "      <th></th>\n",
       "      <th>Cost</th>\n",
       "    </tr>\n",
       "  </thead>\n",
       "  <tbody>\n",
       "    <tr>\n",
       "      <th>count</th>\n",
       "      <td>2126.000000</td>\n",
       "    </tr>\n",
       "    <tr>\n",
       "      <th>mean</th>\n",
       "      <td>24078.272079</td>\n",
       "    </tr>\n",
       "    <tr>\n",
       "      <th>std</th>\n",
       "      <td>146894.351294</td>\n",
       "    </tr>\n",
       "    <tr>\n",
       "      <th>min</th>\n",
       "      <td>0.000000</td>\n",
       "    </tr>\n",
       "    <tr>\n",
       "      <th>25%</th>\n",
       "      <td>1280.000000</td>\n",
       "    </tr>\n",
       "    <tr>\n",
       "      <th>50%</th>\n",
       "      <td>1884.155000</td>\n",
       "    </tr>\n",
       "    <tr>\n",
       "      <th>75%</th>\n",
       "      <td>2321.342500</td>\n",
       "    </tr>\n",
       "    <tr>\n",
       "      <th>max</th>\n",
       "      <td>999999.000000</td>\n",
       "    </tr>\n",
       "  </tbody>\n",
       "</table>\n",
       "</div>"
      ],
      "text/plain": [
       "                Cost\n",
       "count    2126.000000\n",
       "mean    24078.272079\n",
       "std    146894.351294\n",
       "min         0.000000\n",
       "25%      1280.000000\n",
       "50%      1884.155000\n",
       "75%      2321.342500\n",
       "max    999999.000000"
      ]
     },
     "execution_count": 39,
     "metadata": {},
     "output_type": "execute_result"
    }
   ],
   "source": [
    "df.describe()"
   ]
  },
  {
   "cell_type": "code",
   "execution_count": null,
   "metadata": {},
   "outputs": [],
   "source": []
  }
 ],
 "metadata": {
  "kernelspec": {
   "display_name": "Python 3",
   "language": "python",
   "name": "python3"
  },
  "language_info": {
   "codemirror_mode": {
    "name": "ipython",
    "version": 3
   },
   "file_extension": ".py",
   "mimetype": "text/x-python",
   "name": "python",
   "nbconvert_exporter": "python",
   "pygments_lexer": "ipython3",
   "version": "3.6.5"
  }
 },
 "nbformat": 4,
 "nbformat_minor": 2
}
